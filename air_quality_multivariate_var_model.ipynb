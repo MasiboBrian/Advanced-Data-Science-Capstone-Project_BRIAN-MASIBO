{
  "cells": [
    {
      "cell_type": "markdown",
      "metadata": {
        "id": "view-in-github",
        "colab_type": "text"
      },
      "source": [
        "<a href=\"https://colab.research.google.com/github/MasiboBrian/AirBNB-Price-Prediction/blob/master/air_quality_multivariate_var_model.ipynb\" target=\"_parent\"><img src=\"https://colab.research.google.com/assets/colab-badge.svg\" alt=\"Open In Colab\"/></a>"
      ]
    },
    {
      "cell_type": "markdown",
      "metadata": {
        "id": "y6uJj5RBFQEa"
      },
      "source": [
        "# Vector Autoregression (VAR)"
      ]
    },
    {
      "cell_type": "code",
      "execution_count": null,
      "metadata": {
        "id": "yRdBfQuyFQEh"
      },
      "outputs": [],
      "source": [
        "from IPython.display import display, Markdown\n",
        "from math import sqrt\n",
        "import pandas as pd\n",
        "import matplotlib.pyplot as plt\n",
        "%matplotlib inline\n",
        "from sklearn.metrics import mean_squared_error"
      ]
    },
    {
      "cell_type": "markdown",
      "metadata": {
        "id": "BCeP-Uj-FQEj"
      },
      "source": [
        "# Air Quality Dataset"
      ]
    },
    {
      "cell_type": "code",
      "execution_count": null,
      "metadata": {
        "colab": {
          "base_uri": "https://localhost:8080/",
          "height": 397
        },
        "id": "QIIVePSQFQEk",
        "outputId": "09a9f0dd-670b-48fd-e34f-36ac49b03ef7"
      },
      "outputs": [
        {
          "output_type": "error",
          "ename": "UnicodeDecodeError",
          "evalue": "ignored",
          "traceback": [
            "\u001b[0;31m---------------------------------------------------------------------------\u001b[0m",
            "\u001b[0;31mUnicodeDecodeError\u001b[0m                        Traceback (most recent call last)",
            "\u001b[0;32m<ipython-input-49-90327227cba4>\u001b[0m in \u001b[0;36m<module>\u001b[0;34m()\u001b[0m\n\u001b[1;32m      1\u001b[0m \u001b[0;31m# Load in the dataset\u001b[0m\u001b[0;34m\u001b[0m\u001b[0;34m\u001b[0m\u001b[0;34m\u001b[0m\u001b[0m\n\u001b[0;32m----> 2\u001b[0;31m \u001b[0mdata\u001b[0m \u001b[0;34m=\u001b[0m \u001b[0mpd\u001b[0m\u001b[0;34m.\u001b[0m\u001b[0mread_csv\u001b[0m\u001b[0;34m(\u001b[0m\u001b[0;34m\"downtime.csv\"\u001b[0m\u001b[0;34m,\u001b[0m \u001b[0msep\u001b[0m\u001b[0;34m=\u001b[0m\u001b[0;34m';'\u001b[0m\u001b[0;34m)\u001b[0m\u001b[0;34m\u001b[0m\u001b[0;34m\u001b[0m\u001b[0m\n\u001b[0m",
            "\u001b[0;32m/usr/local/lib/python3.7/dist-packages/pandas/io/parsers.py\u001b[0m in \u001b[0;36mread_csv\u001b[0;34m(filepath_or_buffer, sep, delimiter, header, names, index_col, usecols, squeeze, prefix, mangle_dupe_cols, dtype, engine, converters, true_values, false_values, skipinitialspace, skiprows, skipfooter, nrows, na_values, keep_default_na, na_filter, verbose, skip_blank_lines, parse_dates, infer_datetime_format, keep_date_col, date_parser, dayfirst, cache_dates, iterator, chunksize, compression, thousands, decimal, lineterminator, quotechar, quoting, doublequote, escapechar, comment, encoding, dialect, error_bad_lines, warn_bad_lines, delim_whitespace, low_memory, memory_map, float_precision)\u001b[0m\n\u001b[1;32m    686\u001b[0m     )\n\u001b[1;32m    687\u001b[0m \u001b[0;34m\u001b[0m\u001b[0m\n\u001b[0;32m--> 688\u001b[0;31m     \u001b[0;32mreturn\u001b[0m \u001b[0m_read\u001b[0m\u001b[0;34m(\u001b[0m\u001b[0mfilepath_or_buffer\u001b[0m\u001b[0;34m,\u001b[0m \u001b[0mkwds\u001b[0m\u001b[0;34m)\u001b[0m\u001b[0;34m\u001b[0m\u001b[0;34m\u001b[0m\u001b[0m\n\u001b[0m\u001b[1;32m    689\u001b[0m \u001b[0;34m\u001b[0m\u001b[0m\n\u001b[1;32m    690\u001b[0m \u001b[0;34m\u001b[0m\u001b[0m\n",
            "\u001b[0;32m/usr/local/lib/python3.7/dist-packages/pandas/io/parsers.py\u001b[0m in \u001b[0;36m_read\u001b[0;34m(filepath_or_buffer, kwds)\u001b[0m\n\u001b[1;32m    452\u001b[0m \u001b[0;34m\u001b[0m\u001b[0m\n\u001b[1;32m    453\u001b[0m     \u001b[0;31m# Create the parser.\u001b[0m\u001b[0;34m\u001b[0m\u001b[0;34m\u001b[0m\u001b[0;34m\u001b[0m\u001b[0m\n\u001b[0;32m--> 454\u001b[0;31m     \u001b[0mparser\u001b[0m \u001b[0;34m=\u001b[0m \u001b[0mTextFileReader\u001b[0m\u001b[0;34m(\u001b[0m\u001b[0mfp_or_buf\u001b[0m\u001b[0;34m,\u001b[0m \u001b[0;34m**\u001b[0m\u001b[0mkwds\u001b[0m\u001b[0;34m)\u001b[0m\u001b[0;34m\u001b[0m\u001b[0;34m\u001b[0m\u001b[0m\n\u001b[0m\u001b[1;32m    455\u001b[0m \u001b[0;34m\u001b[0m\u001b[0m\n\u001b[1;32m    456\u001b[0m     \u001b[0;32mif\u001b[0m \u001b[0mchunksize\u001b[0m \u001b[0;32mor\u001b[0m \u001b[0miterator\u001b[0m\u001b[0;34m:\u001b[0m\u001b[0;34m\u001b[0m\u001b[0;34m\u001b[0m\u001b[0m\n",
            "\u001b[0;32m/usr/local/lib/python3.7/dist-packages/pandas/io/parsers.py\u001b[0m in \u001b[0;36m__init__\u001b[0;34m(self, f, engine, **kwds)\u001b[0m\n\u001b[1;32m    946\u001b[0m             \u001b[0mself\u001b[0m\u001b[0;34m.\u001b[0m\u001b[0moptions\u001b[0m\u001b[0;34m[\u001b[0m\u001b[0;34m\"has_index_names\"\u001b[0m\u001b[0;34m]\u001b[0m \u001b[0;34m=\u001b[0m \u001b[0mkwds\u001b[0m\u001b[0;34m[\u001b[0m\u001b[0;34m\"has_index_names\"\u001b[0m\u001b[0;34m]\u001b[0m\u001b[0;34m\u001b[0m\u001b[0;34m\u001b[0m\u001b[0m\n\u001b[1;32m    947\u001b[0m \u001b[0;34m\u001b[0m\u001b[0m\n\u001b[0;32m--> 948\u001b[0;31m         \u001b[0mself\u001b[0m\u001b[0;34m.\u001b[0m\u001b[0m_make_engine\u001b[0m\u001b[0;34m(\u001b[0m\u001b[0mself\u001b[0m\u001b[0;34m.\u001b[0m\u001b[0mengine\u001b[0m\u001b[0;34m)\u001b[0m\u001b[0;34m\u001b[0m\u001b[0;34m\u001b[0m\u001b[0m\n\u001b[0m\u001b[1;32m    949\u001b[0m \u001b[0;34m\u001b[0m\u001b[0m\n\u001b[1;32m    950\u001b[0m     \u001b[0;32mdef\u001b[0m \u001b[0mclose\u001b[0m\u001b[0;34m(\u001b[0m\u001b[0mself\u001b[0m\u001b[0;34m)\u001b[0m\u001b[0;34m:\u001b[0m\u001b[0;34m\u001b[0m\u001b[0;34m\u001b[0m\u001b[0m\n",
            "\u001b[0;32m/usr/local/lib/python3.7/dist-packages/pandas/io/parsers.py\u001b[0m in \u001b[0;36m_make_engine\u001b[0;34m(self, engine)\u001b[0m\n\u001b[1;32m   1178\u001b[0m     \u001b[0;32mdef\u001b[0m \u001b[0m_make_engine\u001b[0m\u001b[0;34m(\u001b[0m\u001b[0mself\u001b[0m\u001b[0;34m,\u001b[0m \u001b[0mengine\u001b[0m\u001b[0;34m=\u001b[0m\u001b[0;34m\"c\"\u001b[0m\u001b[0;34m)\u001b[0m\u001b[0;34m:\u001b[0m\u001b[0;34m\u001b[0m\u001b[0;34m\u001b[0m\u001b[0m\n\u001b[1;32m   1179\u001b[0m         \u001b[0;32mif\u001b[0m \u001b[0mengine\u001b[0m \u001b[0;34m==\u001b[0m \u001b[0;34m\"c\"\u001b[0m\u001b[0;34m:\u001b[0m\u001b[0;34m\u001b[0m\u001b[0;34m\u001b[0m\u001b[0m\n\u001b[0;32m-> 1180\u001b[0;31m             \u001b[0mself\u001b[0m\u001b[0;34m.\u001b[0m\u001b[0m_engine\u001b[0m \u001b[0;34m=\u001b[0m \u001b[0mCParserWrapper\u001b[0m\u001b[0;34m(\u001b[0m\u001b[0mself\u001b[0m\u001b[0;34m.\u001b[0m\u001b[0mf\u001b[0m\u001b[0;34m,\u001b[0m \u001b[0;34m**\u001b[0m\u001b[0mself\u001b[0m\u001b[0;34m.\u001b[0m\u001b[0moptions\u001b[0m\u001b[0;34m)\u001b[0m\u001b[0;34m\u001b[0m\u001b[0;34m\u001b[0m\u001b[0m\n\u001b[0m\u001b[1;32m   1181\u001b[0m         \u001b[0;32melse\u001b[0m\u001b[0;34m:\u001b[0m\u001b[0;34m\u001b[0m\u001b[0;34m\u001b[0m\u001b[0m\n\u001b[1;32m   1182\u001b[0m             \u001b[0;32mif\u001b[0m \u001b[0mengine\u001b[0m \u001b[0;34m==\u001b[0m \u001b[0;34m\"python\"\u001b[0m\u001b[0;34m:\u001b[0m\u001b[0;34m\u001b[0m\u001b[0;34m\u001b[0m\u001b[0m\n",
            "\u001b[0;32m/usr/local/lib/python3.7/dist-packages/pandas/io/parsers.py\u001b[0m in \u001b[0;36m__init__\u001b[0;34m(self, src, **kwds)\u001b[0m\n\u001b[1;32m   2008\u001b[0m         \u001b[0mkwds\u001b[0m\u001b[0;34m[\u001b[0m\u001b[0;34m\"usecols\"\u001b[0m\u001b[0;34m]\u001b[0m \u001b[0;34m=\u001b[0m \u001b[0mself\u001b[0m\u001b[0;34m.\u001b[0m\u001b[0musecols\u001b[0m\u001b[0;34m\u001b[0m\u001b[0;34m\u001b[0m\u001b[0m\n\u001b[1;32m   2009\u001b[0m \u001b[0;34m\u001b[0m\u001b[0m\n\u001b[0;32m-> 2010\u001b[0;31m         \u001b[0mself\u001b[0m\u001b[0;34m.\u001b[0m\u001b[0m_reader\u001b[0m \u001b[0;34m=\u001b[0m \u001b[0mparsers\u001b[0m\u001b[0;34m.\u001b[0m\u001b[0mTextReader\u001b[0m\u001b[0;34m(\u001b[0m\u001b[0msrc\u001b[0m\u001b[0;34m,\u001b[0m \u001b[0;34m**\u001b[0m\u001b[0mkwds\u001b[0m\u001b[0;34m)\u001b[0m\u001b[0;34m\u001b[0m\u001b[0;34m\u001b[0m\u001b[0m\n\u001b[0m\u001b[1;32m   2011\u001b[0m         \u001b[0mself\u001b[0m\u001b[0;34m.\u001b[0m\u001b[0munnamed_cols\u001b[0m \u001b[0;34m=\u001b[0m \u001b[0mself\u001b[0m\u001b[0;34m.\u001b[0m\u001b[0m_reader\u001b[0m\u001b[0;34m.\u001b[0m\u001b[0munnamed_cols\u001b[0m\u001b[0;34m\u001b[0m\u001b[0;34m\u001b[0m\u001b[0m\n\u001b[1;32m   2012\u001b[0m \u001b[0;34m\u001b[0m\u001b[0m\n",
            "\u001b[0;32mpandas/_libs/parsers.pyx\u001b[0m in \u001b[0;36mpandas._libs.parsers.TextReader.__cinit__\u001b[0;34m()\u001b[0m\n",
            "\u001b[0;32mpandas/_libs/parsers.pyx\u001b[0m in \u001b[0;36mpandas._libs.parsers.TextReader._get_header\u001b[0;34m()\u001b[0m\n",
            "\u001b[0;31mUnicodeDecodeError\u001b[0m: 'utf-8' codec can't decode byte 0xec in position 1: invalid continuation byte"
          ]
        }
      ],
      "source": [
        "# Load in the dataset\n",
        "data = pd.read_csv(\"downtime.csv\", sep=';')"
      ]
    },
    {
      "cell_type": "code",
      "execution_count": null,
      "metadata": {
        "id": "MXbJgIn0FQEk"
      },
      "outputs": [],
      "source": [
        "# Clean empty columns\n",
        "data = data.drop(['Unnamed: 15', 'Unnamed: 16'], axis=1)"
      ]
    },
    {
      "cell_type": "code",
      "execution_count": null,
      "metadata": {
        "id": "F3jjj61xFQEl"
      },
      "outputs": [],
      "source": [
        "# Clean empty rows\n",
        "data = data.dropna(axis=0)"
      ]
    },
    {
      "cell_type": "code",
      "execution_count": null,
      "metadata": {
        "id": "pJucQR25FQEm"
      },
      "outputs": [],
      "source": [
        "def report(df):\n",
        "    display(Markdown('<b>head():</b>'))\n",
        "    display(df.head())\n",
        "    display(Markdown('<b>describe():</b>'))\n",
        "    display(df.describe())\n",
        "    display(Markdown('<b>info():</b>'))\n",
        "    display(df.info(verbose=True))\n",
        "    display(Markdown('<b>infer_dtype():</b>'))\n",
        "    display(df.apply(lambda x: pd.api.types.infer_dtype(x.values)))"
      ]
    },
    {
      "cell_type": "code",
      "execution_count": null,
      "metadata": {
        "colab": {
          "base_uri": "https://localhost:8080/",
          "height": 1000
        },
        "id": "UeyXiIevFQEn",
        "outputId": "06969b28-9ddb-4aa5-afe0-624475605abc"
      },
      "outputs": [
        {
          "output_type": "display_data",
          "data": {
            "text/markdown": "<b>head():</b>",
            "text/plain": [
              "<IPython.core.display.Markdown object>"
            ]
          },
          "metadata": {}
        },
        {
          "output_type": "display_data",
          "data": {
            "text/html": [
              "<div>\n",
              "<style scoped>\n",
              "    .dataframe tbody tr th:only-of-type {\n",
              "        vertical-align: middle;\n",
              "    }\n",
              "\n",
              "    .dataframe tbody tr th {\n",
              "        vertical-align: top;\n",
              "    }\n",
              "\n",
              "    .dataframe thead th {\n",
              "        text-align: right;\n",
              "    }\n",
              "</style>\n",
              "<table border=\"1\" class=\"dataframe\">\n",
              "  <thead>\n",
              "    <tr style=\"text-align: right;\">\n",
              "      <th></th>\n",
              "      <th>Date</th>\n",
              "      <th>Time</th>\n",
              "      <th>CO(GT)</th>\n",
              "      <th>PT08.S1(CO)</th>\n",
              "      <th>NMHC(GT)</th>\n",
              "      <th>C6H6(GT)</th>\n",
              "      <th>PT08.S2(NMHC)</th>\n",
              "      <th>NOx(GT)</th>\n",
              "      <th>PT08.S3(NOx)</th>\n",
              "      <th>NO2(GT)</th>\n",
              "      <th>PT08.S4(NO2)</th>\n",
              "      <th>PT08.S5(O3)</th>\n",
              "      <th>T</th>\n",
              "      <th>RH</th>\n",
              "      <th>AH</th>\n",
              "    </tr>\n",
              "  </thead>\n",
              "  <tbody>\n",
              "    <tr>\n",
              "      <th>0</th>\n",
              "      <td>10/03/2004</td>\n",
              "      <td>18.00.00</td>\n",
              "      <td>2,6</td>\n",
              "      <td>1360.0</td>\n",
              "      <td>150.0</td>\n",
              "      <td>11,9</td>\n",
              "      <td>1046.0</td>\n",
              "      <td>166.0</td>\n",
              "      <td>1056.0</td>\n",
              "      <td>113.0</td>\n",
              "      <td>1692.0</td>\n",
              "      <td>1268.0</td>\n",
              "      <td>13,6</td>\n",
              "      <td>48,9</td>\n",
              "      <td>0,7578</td>\n",
              "    </tr>\n",
              "    <tr>\n",
              "      <th>1</th>\n",
              "      <td>10/03/2004</td>\n",
              "      <td>19.00.00</td>\n",
              "      <td>2</td>\n",
              "      <td>1292.0</td>\n",
              "      <td>112.0</td>\n",
              "      <td>9,4</td>\n",
              "      <td>955.0</td>\n",
              "      <td>103.0</td>\n",
              "      <td>1174.0</td>\n",
              "      <td>92.0</td>\n",
              "      <td>1559.0</td>\n",
              "      <td>972.0</td>\n",
              "      <td>13,3</td>\n",
              "      <td>47,7</td>\n",
              "      <td>0,7255</td>\n",
              "    </tr>\n",
              "    <tr>\n",
              "      <th>2</th>\n",
              "      <td>10/03/2004</td>\n",
              "      <td>20.00.00</td>\n",
              "      <td>2,2</td>\n",
              "      <td>1402.0</td>\n",
              "      <td>88.0</td>\n",
              "      <td>9,0</td>\n",
              "      <td>939.0</td>\n",
              "      <td>131.0</td>\n",
              "      <td>1140.0</td>\n",
              "      <td>114.0</td>\n",
              "      <td>1555.0</td>\n",
              "      <td>1074.0</td>\n",
              "      <td>11,9</td>\n",
              "      <td>54,0</td>\n",
              "      <td>0,7502</td>\n",
              "    </tr>\n",
              "    <tr>\n",
              "      <th>3</th>\n",
              "      <td>10/03/2004</td>\n",
              "      <td>21.00.00</td>\n",
              "      <td>2,2</td>\n",
              "      <td>1376.0</td>\n",
              "      <td>80.0</td>\n",
              "      <td>9,2</td>\n",
              "      <td>948.0</td>\n",
              "      <td>172.0</td>\n",
              "      <td>1092.0</td>\n",
              "      <td>122.0</td>\n",
              "      <td>1584.0</td>\n",
              "      <td>1203.0</td>\n",
              "      <td>11,0</td>\n",
              "      <td>60,0</td>\n",
              "      <td>0,7867</td>\n",
              "    </tr>\n",
              "    <tr>\n",
              "      <th>4</th>\n",
              "      <td>10/03/2004</td>\n",
              "      <td>22.00.00</td>\n",
              "      <td>1,6</td>\n",
              "      <td>1272.0</td>\n",
              "      <td>51.0</td>\n",
              "      <td>6,5</td>\n",
              "      <td>836.0</td>\n",
              "      <td>131.0</td>\n",
              "      <td>1205.0</td>\n",
              "      <td>116.0</td>\n",
              "      <td>1490.0</td>\n",
              "      <td>1110.0</td>\n",
              "      <td>11,2</td>\n",
              "      <td>59,6</td>\n",
              "      <td>0,7888</td>\n",
              "    </tr>\n",
              "  </tbody>\n",
              "</table>\n",
              "</div>"
            ],
            "text/plain": [
              "         Date      Time CO(GT)  PT08.S1(CO)  ...  PT08.S5(O3)     T    RH      AH\n",
              "0  10/03/2004  18.00.00    2,6       1360.0  ...       1268.0  13,6  48,9  0,7578\n",
              "1  10/03/2004  19.00.00      2       1292.0  ...        972.0  13,3  47,7  0,7255\n",
              "2  10/03/2004  20.00.00    2,2       1402.0  ...       1074.0  11,9  54,0  0,7502\n",
              "3  10/03/2004  21.00.00    2,2       1376.0  ...       1203.0  11,0  60,0  0,7867\n",
              "4  10/03/2004  22.00.00    1,6       1272.0  ...       1110.0  11,2  59,6  0,7888\n",
              "\n",
              "[5 rows x 15 columns]"
            ]
          },
          "metadata": {}
        },
        {
          "output_type": "display_data",
          "data": {
            "text/markdown": "<b>describe():</b>",
            "text/plain": [
              "<IPython.core.display.Markdown object>"
            ]
          },
          "metadata": {}
        },
        {
          "output_type": "display_data",
          "data": {
            "text/html": [
              "<div>\n",
              "<style scoped>\n",
              "    .dataframe tbody tr th:only-of-type {\n",
              "        vertical-align: middle;\n",
              "    }\n",
              "\n",
              "    .dataframe tbody tr th {\n",
              "        vertical-align: top;\n",
              "    }\n",
              "\n",
              "    .dataframe thead th {\n",
              "        text-align: right;\n",
              "    }\n",
              "</style>\n",
              "<table border=\"1\" class=\"dataframe\">\n",
              "  <thead>\n",
              "    <tr style=\"text-align: right;\">\n",
              "      <th></th>\n",
              "      <th>PT08.S1(CO)</th>\n",
              "      <th>NMHC(GT)</th>\n",
              "      <th>PT08.S2(NMHC)</th>\n",
              "      <th>NOx(GT)</th>\n",
              "      <th>PT08.S3(NOx)</th>\n",
              "      <th>NO2(GT)</th>\n",
              "      <th>PT08.S4(NO2)</th>\n",
              "      <th>PT08.S5(O3)</th>\n",
              "    </tr>\n",
              "  </thead>\n",
              "  <tbody>\n",
              "    <tr>\n",
              "      <th>count</th>\n",
              "      <td>9357.000000</td>\n",
              "      <td>9357.000000</td>\n",
              "      <td>9357.000000</td>\n",
              "      <td>9357.000000</td>\n",
              "      <td>9357.000000</td>\n",
              "      <td>9357.000000</td>\n",
              "      <td>9357.000000</td>\n",
              "      <td>9357.000000</td>\n",
              "    </tr>\n",
              "    <tr>\n",
              "      <th>mean</th>\n",
              "      <td>1048.990061</td>\n",
              "      <td>-159.090093</td>\n",
              "      <td>894.595276</td>\n",
              "      <td>168.616971</td>\n",
              "      <td>794.990168</td>\n",
              "      <td>58.148873</td>\n",
              "      <td>1391.479641</td>\n",
              "      <td>975.072032</td>\n",
              "    </tr>\n",
              "    <tr>\n",
              "      <th>std</th>\n",
              "      <td>329.832710</td>\n",
              "      <td>139.789093</td>\n",
              "      <td>342.333252</td>\n",
              "      <td>257.433866</td>\n",
              "      <td>321.993552</td>\n",
              "      <td>126.940455</td>\n",
              "      <td>467.210125</td>\n",
              "      <td>456.938184</td>\n",
              "    </tr>\n",
              "    <tr>\n",
              "      <th>min</th>\n",
              "      <td>-200.000000</td>\n",
              "      <td>-200.000000</td>\n",
              "      <td>-200.000000</td>\n",
              "      <td>-200.000000</td>\n",
              "      <td>-200.000000</td>\n",
              "      <td>-200.000000</td>\n",
              "      <td>-200.000000</td>\n",
              "      <td>-200.000000</td>\n",
              "    </tr>\n",
              "    <tr>\n",
              "      <th>25%</th>\n",
              "      <td>921.000000</td>\n",
              "      <td>-200.000000</td>\n",
              "      <td>711.000000</td>\n",
              "      <td>50.000000</td>\n",
              "      <td>637.000000</td>\n",
              "      <td>53.000000</td>\n",
              "      <td>1185.000000</td>\n",
              "      <td>700.000000</td>\n",
              "    </tr>\n",
              "    <tr>\n",
              "      <th>50%</th>\n",
              "      <td>1053.000000</td>\n",
              "      <td>-200.000000</td>\n",
              "      <td>895.000000</td>\n",
              "      <td>141.000000</td>\n",
              "      <td>794.000000</td>\n",
              "      <td>96.000000</td>\n",
              "      <td>1446.000000</td>\n",
              "      <td>942.000000</td>\n",
              "    </tr>\n",
              "    <tr>\n",
              "      <th>75%</th>\n",
              "      <td>1221.000000</td>\n",
              "      <td>-200.000000</td>\n",
              "      <td>1105.000000</td>\n",
              "      <td>284.000000</td>\n",
              "      <td>960.000000</td>\n",
              "      <td>133.000000</td>\n",
              "      <td>1662.000000</td>\n",
              "      <td>1255.000000</td>\n",
              "    </tr>\n",
              "    <tr>\n",
              "      <th>max</th>\n",
              "      <td>2040.000000</td>\n",
              "      <td>1189.000000</td>\n",
              "      <td>2214.000000</td>\n",
              "      <td>1479.000000</td>\n",
              "      <td>2683.000000</td>\n",
              "      <td>340.000000</td>\n",
              "      <td>2775.000000</td>\n",
              "      <td>2523.000000</td>\n",
              "    </tr>\n",
              "  </tbody>\n",
              "</table>\n",
              "</div>"
            ],
            "text/plain": [
              "       PT08.S1(CO)     NMHC(GT)  ...  PT08.S4(NO2)  PT08.S5(O3)\n",
              "count  9357.000000  9357.000000  ...   9357.000000  9357.000000\n",
              "mean   1048.990061  -159.090093  ...   1391.479641   975.072032\n",
              "std     329.832710   139.789093  ...    467.210125   456.938184\n",
              "min    -200.000000  -200.000000  ...   -200.000000  -200.000000\n",
              "25%     921.000000  -200.000000  ...   1185.000000   700.000000\n",
              "50%    1053.000000  -200.000000  ...   1446.000000   942.000000\n",
              "75%    1221.000000  -200.000000  ...   1662.000000  1255.000000\n",
              "max    2040.000000  1189.000000  ...   2775.000000  2523.000000\n",
              "\n",
              "[8 rows x 8 columns]"
            ]
          },
          "metadata": {}
        },
        {
          "output_type": "display_data",
          "data": {
            "text/markdown": "<b>info():</b>",
            "text/plain": [
              "<IPython.core.display.Markdown object>"
            ]
          },
          "metadata": {}
        },
        {
          "output_type": "stream",
          "name": "stdout",
          "text": [
            "<class 'pandas.core.frame.DataFrame'>\n",
            "Int64Index: 9357 entries, 0 to 9356\n",
            "Data columns (total 15 columns):\n",
            " #   Column         Non-Null Count  Dtype  \n",
            "---  ------         --------------  -----  \n",
            " 0   Date           9357 non-null   object \n",
            " 1   Time           9357 non-null   object \n",
            " 2   CO(GT)         9357 non-null   object \n",
            " 3   PT08.S1(CO)    9357 non-null   float64\n",
            " 4   NMHC(GT)       9357 non-null   float64\n",
            " 5   C6H6(GT)       9357 non-null   object \n",
            " 6   PT08.S2(NMHC)  9357 non-null   float64\n",
            " 7   NOx(GT)        9357 non-null   float64\n",
            " 8   PT08.S3(NOx)   9357 non-null   float64\n",
            " 9   NO2(GT)        9357 non-null   float64\n",
            " 10  PT08.S4(NO2)   9357 non-null   float64\n",
            " 11  PT08.S5(O3)    9357 non-null   float64\n",
            " 12  T              9357 non-null   object \n",
            " 13  RH             9357 non-null   object \n",
            " 14  AH             9357 non-null   object \n",
            "dtypes: float64(8), object(7)\n",
            "memory usage: 1.1+ MB\n"
          ]
        },
        {
          "output_type": "display_data",
          "data": {
            "text/plain": [
              "None"
            ]
          },
          "metadata": {}
        },
        {
          "output_type": "display_data",
          "data": {
            "text/markdown": "<b>infer_dtype():</b>",
            "text/plain": [
              "<IPython.core.display.Markdown object>"
            ]
          },
          "metadata": {}
        },
        {
          "output_type": "display_data",
          "data": {
            "text/plain": [
              "Date               string\n",
              "Time               string\n",
              "CO(GT)             string\n",
              "PT08.S1(CO)      floating\n",
              "NMHC(GT)         floating\n",
              "C6H6(GT)           string\n",
              "PT08.S2(NMHC)    floating\n",
              "NOx(GT)          floating\n",
              "PT08.S3(NOx)     floating\n",
              "NO2(GT)          floating\n",
              "PT08.S4(NO2)     floating\n",
              "PT08.S5(O3)      floating\n",
              "T                  string\n",
              "RH                 string\n",
              "AH                 string\n",
              "dtype: object"
            ]
          },
          "metadata": {}
        }
      ],
      "source": [
        "report(data)"
      ]
    },
    {
      "cell_type": "code",
      "execution_count": null,
      "metadata": {
        "id": "i8AszLRYFQEp"
      },
      "outputs": [],
      "source": [
        "data['CO(GT)'] = data['CO(GT)'].str.replace(',', '.').astype(float)\n",
        "data['C6H6(GT)'] = data['C6H6(GT)'].str.replace(',','.').astype(float)\n",
        "data['T'] = data['T'].str.replace(',', '.').astype(float)\n",
        "data['RH'] = data['RH'].str.replace(',', '.').astype(float)\n",
        "data['AH'] = data['AH'].str.replace(',', '.').astype(float)"
      ]
    },
    {
      "cell_type": "code",
      "execution_count": null,
      "metadata": {
        "colab": {
          "base_uri": "https://localhost:8080/",
          "height": 1000
        },
        "id": "iFp-5ouDFQEq",
        "outputId": "f6d3be3e-5b09-401e-f6c8-b166d37d5f7e"
      },
      "outputs": [
        {
          "output_type": "display_data",
          "data": {
            "text/markdown": "<b>head():</b>",
            "text/plain": [
              "<IPython.core.display.Markdown object>"
            ]
          },
          "metadata": {}
        },
        {
          "output_type": "display_data",
          "data": {
            "text/html": [
              "<div>\n",
              "<style scoped>\n",
              "    .dataframe tbody tr th:only-of-type {\n",
              "        vertical-align: middle;\n",
              "    }\n",
              "\n",
              "    .dataframe tbody tr th {\n",
              "        vertical-align: top;\n",
              "    }\n",
              "\n",
              "    .dataframe thead th {\n",
              "        text-align: right;\n",
              "    }\n",
              "</style>\n",
              "<table border=\"1\" class=\"dataframe\">\n",
              "  <thead>\n",
              "    <tr style=\"text-align: right;\">\n",
              "      <th></th>\n",
              "      <th>Date</th>\n",
              "      <th>Time</th>\n",
              "      <th>CO(GT)</th>\n",
              "      <th>PT08.S1(CO)</th>\n",
              "      <th>NMHC(GT)</th>\n",
              "      <th>C6H6(GT)</th>\n",
              "      <th>PT08.S2(NMHC)</th>\n",
              "      <th>NOx(GT)</th>\n",
              "      <th>PT08.S3(NOx)</th>\n",
              "      <th>NO2(GT)</th>\n",
              "      <th>PT08.S4(NO2)</th>\n",
              "      <th>PT08.S5(O3)</th>\n",
              "      <th>T</th>\n",
              "      <th>RH</th>\n",
              "      <th>AH</th>\n",
              "    </tr>\n",
              "  </thead>\n",
              "  <tbody>\n",
              "    <tr>\n",
              "      <th>0</th>\n",
              "      <td>10/03/2004</td>\n",
              "      <td>18.00.00</td>\n",
              "      <td>2.6</td>\n",
              "      <td>1360.0</td>\n",
              "      <td>150.0</td>\n",
              "      <td>11.9</td>\n",
              "      <td>1046.0</td>\n",
              "      <td>166.0</td>\n",
              "      <td>1056.0</td>\n",
              "      <td>113.0</td>\n",
              "      <td>1692.0</td>\n",
              "      <td>1268.0</td>\n",
              "      <td>13.6</td>\n",
              "      <td>48.9</td>\n",
              "      <td>0.7578</td>\n",
              "    </tr>\n",
              "    <tr>\n",
              "      <th>1</th>\n",
              "      <td>10/03/2004</td>\n",
              "      <td>19.00.00</td>\n",
              "      <td>2.0</td>\n",
              "      <td>1292.0</td>\n",
              "      <td>112.0</td>\n",
              "      <td>9.4</td>\n",
              "      <td>955.0</td>\n",
              "      <td>103.0</td>\n",
              "      <td>1174.0</td>\n",
              "      <td>92.0</td>\n",
              "      <td>1559.0</td>\n",
              "      <td>972.0</td>\n",
              "      <td>13.3</td>\n",
              "      <td>47.7</td>\n",
              "      <td>0.7255</td>\n",
              "    </tr>\n",
              "    <tr>\n",
              "      <th>2</th>\n",
              "      <td>10/03/2004</td>\n",
              "      <td>20.00.00</td>\n",
              "      <td>2.2</td>\n",
              "      <td>1402.0</td>\n",
              "      <td>88.0</td>\n",
              "      <td>9.0</td>\n",
              "      <td>939.0</td>\n",
              "      <td>131.0</td>\n",
              "      <td>1140.0</td>\n",
              "      <td>114.0</td>\n",
              "      <td>1555.0</td>\n",
              "      <td>1074.0</td>\n",
              "      <td>11.9</td>\n",
              "      <td>54.0</td>\n",
              "      <td>0.7502</td>\n",
              "    </tr>\n",
              "    <tr>\n",
              "      <th>3</th>\n",
              "      <td>10/03/2004</td>\n",
              "      <td>21.00.00</td>\n",
              "      <td>2.2</td>\n",
              "      <td>1376.0</td>\n",
              "      <td>80.0</td>\n",
              "      <td>9.2</td>\n",
              "      <td>948.0</td>\n",
              "      <td>172.0</td>\n",
              "      <td>1092.0</td>\n",
              "      <td>122.0</td>\n",
              "      <td>1584.0</td>\n",
              "      <td>1203.0</td>\n",
              "      <td>11.0</td>\n",
              "      <td>60.0</td>\n",
              "      <td>0.7867</td>\n",
              "    </tr>\n",
              "    <tr>\n",
              "      <th>4</th>\n",
              "      <td>10/03/2004</td>\n",
              "      <td>22.00.00</td>\n",
              "      <td>1.6</td>\n",
              "      <td>1272.0</td>\n",
              "      <td>51.0</td>\n",
              "      <td>6.5</td>\n",
              "      <td>836.0</td>\n",
              "      <td>131.0</td>\n",
              "      <td>1205.0</td>\n",
              "      <td>116.0</td>\n",
              "      <td>1490.0</td>\n",
              "      <td>1110.0</td>\n",
              "      <td>11.2</td>\n",
              "      <td>59.6</td>\n",
              "      <td>0.7888</td>\n",
              "    </tr>\n",
              "  </tbody>\n",
              "</table>\n",
              "</div>"
            ],
            "text/plain": [
              "         Date      Time  CO(GT)  PT08.S1(CO)  ...  PT08.S5(O3)     T    RH      AH\n",
              "0  10/03/2004  18.00.00     2.6       1360.0  ...       1268.0  13.6  48.9  0.7578\n",
              "1  10/03/2004  19.00.00     2.0       1292.0  ...        972.0  13.3  47.7  0.7255\n",
              "2  10/03/2004  20.00.00     2.2       1402.0  ...       1074.0  11.9  54.0  0.7502\n",
              "3  10/03/2004  21.00.00     2.2       1376.0  ...       1203.0  11.0  60.0  0.7867\n",
              "4  10/03/2004  22.00.00     1.6       1272.0  ...       1110.0  11.2  59.6  0.7888\n",
              "\n",
              "[5 rows x 15 columns]"
            ]
          },
          "metadata": {}
        },
        {
          "output_type": "display_data",
          "data": {
            "text/markdown": "<b>describe():</b>",
            "text/plain": [
              "<IPython.core.display.Markdown object>"
            ]
          },
          "metadata": {}
        },
        {
          "output_type": "display_data",
          "data": {
            "text/html": [
              "<div>\n",
              "<style scoped>\n",
              "    .dataframe tbody tr th:only-of-type {\n",
              "        vertical-align: middle;\n",
              "    }\n",
              "\n",
              "    .dataframe tbody tr th {\n",
              "        vertical-align: top;\n",
              "    }\n",
              "\n",
              "    .dataframe thead th {\n",
              "        text-align: right;\n",
              "    }\n",
              "</style>\n",
              "<table border=\"1\" class=\"dataframe\">\n",
              "  <thead>\n",
              "    <tr style=\"text-align: right;\">\n",
              "      <th></th>\n",
              "      <th>CO(GT)</th>\n",
              "      <th>PT08.S1(CO)</th>\n",
              "      <th>NMHC(GT)</th>\n",
              "      <th>C6H6(GT)</th>\n",
              "      <th>PT08.S2(NMHC)</th>\n",
              "      <th>NOx(GT)</th>\n",
              "      <th>PT08.S3(NOx)</th>\n",
              "      <th>NO2(GT)</th>\n",
              "      <th>PT08.S4(NO2)</th>\n",
              "      <th>PT08.S5(O3)</th>\n",
              "      <th>T</th>\n",
              "      <th>RH</th>\n",
              "      <th>AH</th>\n",
              "    </tr>\n",
              "  </thead>\n",
              "  <tbody>\n",
              "    <tr>\n",
              "      <th>count</th>\n",
              "      <td>9357.000000</td>\n",
              "      <td>9357.000000</td>\n",
              "      <td>9357.000000</td>\n",
              "      <td>9357.000000</td>\n",
              "      <td>9357.000000</td>\n",
              "      <td>9357.000000</td>\n",
              "      <td>9357.000000</td>\n",
              "      <td>9357.000000</td>\n",
              "      <td>9357.000000</td>\n",
              "      <td>9357.000000</td>\n",
              "      <td>9357.000000</td>\n",
              "      <td>9357.000000</td>\n",
              "      <td>9357.000000</td>\n",
              "    </tr>\n",
              "    <tr>\n",
              "      <th>mean</th>\n",
              "      <td>-34.207524</td>\n",
              "      <td>1048.990061</td>\n",
              "      <td>-159.090093</td>\n",
              "      <td>1.865683</td>\n",
              "      <td>894.595276</td>\n",
              "      <td>168.616971</td>\n",
              "      <td>794.990168</td>\n",
              "      <td>58.148873</td>\n",
              "      <td>1391.479641</td>\n",
              "      <td>975.072032</td>\n",
              "      <td>9.778305</td>\n",
              "      <td>39.485380</td>\n",
              "      <td>-6.837604</td>\n",
              "    </tr>\n",
              "    <tr>\n",
              "      <th>std</th>\n",
              "      <td>77.657170</td>\n",
              "      <td>329.832710</td>\n",
              "      <td>139.789093</td>\n",
              "      <td>41.380206</td>\n",
              "      <td>342.333252</td>\n",
              "      <td>257.433866</td>\n",
              "      <td>321.993552</td>\n",
              "      <td>126.940455</td>\n",
              "      <td>467.210125</td>\n",
              "      <td>456.938184</td>\n",
              "      <td>43.203623</td>\n",
              "      <td>51.216145</td>\n",
              "      <td>38.976670</td>\n",
              "    </tr>\n",
              "    <tr>\n",
              "      <th>min</th>\n",
              "      <td>-200.000000</td>\n",
              "      <td>-200.000000</td>\n",
              "      <td>-200.000000</td>\n",
              "      <td>-200.000000</td>\n",
              "      <td>-200.000000</td>\n",
              "      <td>-200.000000</td>\n",
              "      <td>-200.000000</td>\n",
              "      <td>-200.000000</td>\n",
              "      <td>-200.000000</td>\n",
              "      <td>-200.000000</td>\n",
              "      <td>-200.000000</td>\n",
              "      <td>-200.000000</td>\n",
              "      <td>-200.000000</td>\n",
              "    </tr>\n",
              "    <tr>\n",
              "      <th>25%</th>\n",
              "      <td>0.600000</td>\n",
              "      <td>921.000000</td>\n",
              "      <td>-200.000000</td>\n",
              "      <td>4.000000</td>\n",
              "      <td>711.000000</td>\n",
              "      <td>50.000000</td>\n",
              "      <td>637.000000</td>\n",
              "      <td>53.000000</td>\n",
              "      <td>1185.000000</td>\n",
              "      <td>700.000000</td>\n",
              "      <td>10.900000</td>\n",
              "      <td>34.100000</td>\n",
              "      <td>0.692300</td>\n",
              "    </tr>\n",
              "    <tr>\n",
              "      <th>50%</th>\n",
              "      <td>1.500000</td>\n",
              "      <td>1053.000000</td>\n",
              "      <td>-200.000000</td>\n",
              "      <td>7.900000</td>\n",
              "      <td>895.000000</td>\n",
              "      <td>141.000000</td>\n",
              "      <td>794.000000</td>\n",
              "      <td>96.000000</td>\n",
              "      <td>1446.000000</td>\n",
              "      <td>942.000000</td>\n",
              "      <td>17.200000</td>\n",
              "      <td>48.600000</td>\n",
              "      <td>0.976800</td>\n",
              "    </tr>\n",
              "    <tr>\n",
              "      <th>75%</th>\n",
              "      <td>2.600000</td>\n",
              "      <td>1221.000000</td>\n",
              "      <td>-200.000000</td>\n",
              "      <td>13.600000</td>\n",
              "      <td>1105.000000</td>\n",
              "      <td>284.000000</td>\n",
              "      <td>960.000000</td>\n",
              "      <td>133.000000</td>\n",
              "      <td>1662.000000</td>\n",
              "      <td>1255.000000</td>\n",
              "      <td>24.100000</td>\n",
              "      <td>61.900000</td>\n",
              "      <td>1.296200</td>\n",
              "    </tr>\n",
              "    <tr>\n",
              "      <th>max</th>\n",
              "      <td>11.900000</td>\n",
              "      <td>2040.000000</td>\n",
              "      <td>1189.000000</td>\n",
              "      <td>63.700000</td>\n",
              "      <td>2214.000000</td>\n",
              "      <td>1479.000000</td>\n",
              "      <td>2683.000000</td>\n",
              "      <td>340.000000</td>\n",
              "      <td>2775.000000</td>\n",
              "      <td>2523.000000</td>\n",
              "      <td>44.600000</td>\n",
              "      <td>88.700000</td>\n",
              "      <td>2.231000</td>\n",
              "    </tr>\n",
              "  </tbody>\n",
              "</table>\n",
              "</div>"
            ],
            "text/plain": [
              "            CO(GT)  PT08.S1(CO)  ...           RH           AH\n",
              "count  9357.000000  9357.000000  ...  9357.000000  9357.000000\n",
              "mean    -34.207524  1048.990061  ...    39.485380    -6.837604\n",
              "std      77.657170   329.832710  ...    51.216145    38.976670\n",
              "min    -200.000000  -200.000000  ...  -200.000000  -200.000000\n",
              "25%       0.600000   921.000000  ...    34.100000     0.692300\n",
              "50%       1.500000  1053.000000  ...    48.600000     0.976800\n",
              "75%       2.600000  1221.000000  ...    61.900000     1.296200\n",
              "max      11.900000  2040.000000  ...    88.700000     2.231000\n",
              "\n",
              "[8 rows x 13 columns]"
            ]
          },
          "metadata": {}
        },
        {
          "output_type": "display_data",
          "data": {
            "text/markdown": "<b>info():</b>",
            "text/plain": [
              "<IPython.core.display.Markdown object>"
            ]
          },
          "metadata": {}
        },
        {
          "output_type": "stream",
          "name": "stdout",
          "text": [
            "<class 'pandas.core.frame.DataFrame'>\n",
            "Int64Index: 9357 entries, 0 to 9356\n",
            "Data columns (total 15 columns):\n",
            " #   Column         Non-Null Count  Dtype  \n",
            "---  ------         --------------  -----  \n",
            " 0   Date           9357 non-null   object \n",
            " 1   Time           9357 non-null   object \n",
            " 2   CO(GT)         9357 non-null   float64\n",
            " 3   PT08.S1(CO)    9357 non-null   float64\n",
            " 4   NMHC(GT)       9357 non-null   float64\n",
            " 5   C6H6(GT)       9357 non-null   float64\n",
            " 6   PT08.S2(NMHC)  9357 non-null   float64\n",
            " 7   NOx(GT)        9357 non-null   float64\n",
            " 8   PT08.S3(NOx)   9357 non-null   float64\n",
            " 9   NO2(GT)        9357 non-null   float64\n",
            " 10  PT08.S4(NO2)   9357 non-null   float64\n",
            " 11  PT08.S5(O3)    9357 non-null   float64\n",
            " 12  T              9357 non-null   float64\n",
            " 13  RH             9357 non-null   float64\n",
            " 14  AH             9357 non-null   float64\n",
            "dtypes: float64(13), object(2)\n",
            "memory usage: 1.1+ MB\n"
          ]
        },
        {
          "output_type": "display_data",
          "data": {
            "text/plain": [
              "None"
            ]
          },
          "metadata": {}
        },
        {
          "output_type": "display_data",
          "data": {
            "text/markdown": "<b>infer_dtype():</b>",
            "text/plain": [
              "<IPython.core.display.Markdown object>"
            ]
          },
          "metadata": {}
        },
        {
          "output_type": "display_data",
          "data": {
            "text/plain": [
              "Date               string\n",
              "Time               string\n",
              "CO(GT)           floating\n",
              "PT08.S1(CO)      floating\n",
              "NMHC(GT)         floating\n",
              "C6H6(GT)         floating\n",
              "PT08.S2(NMHC)    floating\n",
              "NOx(GT)          floating\n",
              "PT08.S3(NOx)     floating\n",
              "NO2(GT)          floating\n",
              "PT08.S4(NO2)     floating\n",
              "PT08.S5(O3)      floating\n",
              "T                floating\n",
              "RH               floating\n",
              "AH               floating\n",
              "dtype: object"
            ]
          },
          "metadata": {}
        }
      ],
      "source": [
        "report(data)"
      ]
    },
    {
      "cell_type": "markdown",
      "metadata": {
        "id": "XhDwuUg4FQEr"
      },
      "source": [
        "## Multivariate Time Series (MTS)"
      ]
    },
    {
      "cell_type": "markdown",
      "metadata": {
        "id": "1m8MxhEkFQEs"
      },
      "source": [
        "A <b>multivariate time series</b> has more than one time-dependent variable just like our dataset. Each variable depends not only on its past values but also has some dependency on other variables. This dependency is used for forecasting future values."
      ]
    },
    {
      "cell_type": "markdown",
      "metadata": {
        "id": "ThiYMkfXFQEt"
      },
      "source": [
        "### to_datetime()"
      ]
    },
    {
      "cell_type": "code",
      "execution_count": null,
      "metadata": {
        "colab": {
          "base_uri": "https://localhost:8080/"
        },
        "id": "jVKE58cTFQEt",
        "outputId": "a66f8d78-d76f-47b4-c8f4-8b408a1d433b"
      },
      "outputs": [
        {
          "output_type": "execute_result",
          "data": {
            "text/plain": [
              "0    18:00:00\n",
              "1    19:00:00\n",
              "2    20:00:00\n",
              "3    21:00:00\n",
              "4    22:00:00\n",
              "Name: Time, dtype: object"
            ]
          },
          "metadata": {},
          "execution_count": 28
        }
      ],
      "source": [
        "data['Time'] = pd.to_datetime(data.Time, format='%H.%M.%S').dt.time\n",
        "data['Time'].head()"
      ]
    },
    {
      "cell_type": "code",
      "execution_count": null,
      "metadata": {
        "colab": {
          "base_uri": "https://localhost:8080/"
        },
        "id": "O4tz_gFHFQEu",
        "outputId": "c91a50aa-0cda-4a4e-bf12-4453cd1053df"
      },
      "outputs": [
        {
          "output_type": "execute_result",
          "data": {
            "text/plain": [
              "0   2004-10-03 18:00:00\n",
              "1   2004-10-03 19:00:00\n",
              "2   2004-10-03 20:00:00\n",
              "3   2004-10-03 21:00:00\n",
              "4   2004-10-03 22:00:00\n",
              "Name: Date_Time, dtype: datetime64[ns]"
            ]
          },
          "metadata": {},
          "execution_count": 29
        }
      ],
      "source": [
        "data['Date_Time'] = pd.to_datetime(data['Date'].apply(str) + ' ' + data['Time'].apply(str))\n",
        "data['Date_Time'].head()"
      ]
    },
    {
      "cell_type": "code",
      "execution_count": null,
      "metadata": {
        "colab": {
          "base_uri": "https://localhost:8080/",
          "height": 431
        },
        "id": "OU8sUYOKFQEv",
        "outputId": "dd979c5c-1e1b-4c8d-d167-40e660f24702"
      },
      "outputs": [
        {
          "output_type": "execute_result",
          "data": {
            "text/html": [
              "<div>\n",
              "<style scoped>\n",
              "    .dataframe tbody tr th:only-of-type {\n",
              "        vertical-align: middle;\n",
              "    }\n",
              "\n",
              "    .dataframe tbody tr th {\n",
              "        vertical-align: top;\n",
              "    }\n",
              "\n",
              "    .dataframe thead th {\n",
              "        text-align: right;\n",
              "    }\n",
              "</style>\n",
              "<table border=\"1\" class=\"dataframe\">\n",
              "  <thead>\n",
              "    <tr style=\"text-align: right;\">\n",
              "      <th></th>\n",
              "      <th>Date</th>\n",
              "      <th>Time</th>\n",
              "      <th>CO(GT)</th>\n",
              "      <th>PT08.S1(CO)</th>\n",
              "      <th>NMHC(GT)</th>\n",
              "      <th>C6H6(GT)</th>\n",
              "      <th>PT08.S2(NMHC)</th>\n",
              "      <th>NOx(GT)</th>\n",
              "      <th>PT08.S3(NOx)</th>\n",
              "      <th>NO2(GT)</th>\n",
              "      <th>PT08.S4(NO2)</th>\n",
              "      <th>PT08.S5(O3)</th>\n",
              "      <th>T</th>\n",
              "      <th>RH</th>\n",
              "      <th>AH</th>\n",
              "    </tr>\n",
              "    <tr>\n",
              "      <th>Date_Time</th>\n",
              "      <th></th>\n",
              "      <th></th>\n",
              "      <th></th>\n",
              "      <th></th>\n",
              "      <th></th>\n",
              "      <th></th>\n",
              "      <th></th>\n",
              "      <th></th>\n",
              "      <th></th>\n",
              "      <th></th>\n",
              "      <th></th>\n",
              "      <th></th>\n",
              "      <th></th>\n",
              "      <th></th>\n",
              "      <th></th>\n",
              "    </tr>\n",
              "  </thead>\n",
              "  <tbody>\n",
              "    <tr>\n",
              "      <th>2004-10-03 18:00:00</th>\n",
              "      <td>10/03/2004</td>\n",
              "      <td>18:00:00</td>\n",
              "      <td>2.6</td>\n",
              "      <td>1360.0</td>\n",
              "      <td>150.0</td>\n",
              "      <td>11.9</td>\n",
              "      <td>1046.0</td>\n",
              "      <td>166.0</td>\n",
              "      <td>1056.0</td>\n",
              "      <td>113.0</td>\n",
              "      <td>1692.0</td>\n",
              "      <td>1268.0</td>\n",
              "      <td>13.6</td>\n",
              "      <td>48.9</td>\n",
              "      <td>0.7578</td>\n",
              "    </tr>\n",
              "    <tr>\n",
              "      <th>2004-10-03 19:00:00</th>\n",
              "      <td>10/03/2004</td>\n",
              "      <td>19:00:00</td>\n",
              "      <td>2.0</td>\n",
              "      <td>1292.0</td>\n",
              "      <td>112.0</td>\n",
              "      <td>9.4</td>\n",
              "      <td>955.0</td>\n",
              "      <td>103.0</td>\n",
              "      <td>1174.0</td>\n",
              "      <td>92.0</td>\n",
              "      <td>1559.0</td>\n",
              "      <td>972.0</td>\n",
              "      <td>13.3</td>\n",
              "      <td>47.7</td>\n",
              "      <td>0.7255</td>\n",
              "    </tr>\n",
              "    <tr>\n",
              "      <th>2004-10-03 20:00:00</th>\n",
              "      <td>10/03/2004</td>\n",
              "      <td>20:00:00</td>\n",
              "      <td>2.2</td>\n",
              "      <td>1402.0</td>\n",
              "      <td>88.0</td>\n",
              "      <td>9.0</td>\n",
              "      <td>939.0</td>\n",
              "      <td>131.0</td>\n",
              "      <td>1140.0</td>\n",
              "      <td>114.0</td>\n",
              "      <td>1555.0</td>\n",
              "      <td>1074.0</td>\n",
              "      <td>11.9</td>\n",
              "      <td>54.0</td>\n",
              "      <td>0.7502</td>\n",
              "    </tr>\n",
              "    <tr>\n",
              "      <th>2004-10-03 21:00:00</th>\n",
              "      <td>10/03/2004</td>\n",
              "      <td>21:00:00</td>\n",
              "      <td>2.2</td>\n",
              "      <td>1376.0</td>\n",
              "      <td>80.0</td>\n",
              "      <td>9.2</td>\n",
              "      <td>948.0</td>\n",
              "      <td>172.0</td>\n",
              "      <td>1092.0</td>\n",
              "      <td>122.0</td>\n",
              "      <td>1584.0</td>\n",
              "      <td>1203.0</td>\n",
              "      <td>11.0</td>\n",
              "      <td>60.0</td>\n",
              "      <td>0.7867</td>\n",
              "    </tr>\n",
              "    <tr>\n",
              "      <th>2004-10-03 22:00:00</th>\n",
              "      <td>10/03/2004</td>\n",
              "      <td>22:00:00</td>\n",
              "      <td>1.6</td>\n",
              "      <td>1272.0</td>\n",
              "      <td>51.0</td>\n",
              "      <td>6.5</td>\n",
              "      <td>836.0</td>\n",
              "      <td>131.0</td>\n",
              "      <td>1205.0</td>\n",
              "      <td>116.0</td>\n",
              "      <td>1490.0</td>\n",
              "      <td>1110.0</td>\n",
              "      <td>11.2</td>\n",
              "      <td>59.6</td>\n",
              "      <td>0.7888</td>\n",
              "    </tr>\n",
              "  </tbody>\n",
              "</table>\n",
              "</div>"
            ],
            "text/plain": [
              "                           Date      Time  CO(GT)  ...     T    RH      AH\n",
              "Date_Time                                          ...                    \n",
              "2004-10-03 18:00:00  10/03/2004  18:00:00     2.6  ...  13.6  48.9  0.7578\n",
              "2004-10-03 19:00:00  10/03/2004  19:00:00     2.0  ...  13.3  47.7  0.7255\n",
              "2004-10-03 20:00:00  10/03/2004  20:00:00     2.2  ...  11.9  54.0  0.7502\n",
              "2004-10-03 21:00:00  10/03/2004  21:00:00     2.2  ...  11.0  60.0  0.7867\n",
              "2004-10-03 22:00:00  10/03/2004  22:00:00     1.6  ...  11.2  59.6  0.7888\n",
              "\n",
              "[5 rows x 15 columns]"
            ]
          },
          "metadata": {},
          "execution_count": 30
        }
      ],
      "source": [
        "data = data.set_index('Date_Time')\n",
        "data.head()"
      ]
    },
    {
      "cell_type": "code",
      "execution_count": null,
      "metadata": {
        "colab": {
          "base_uri": "https://localhost:8080/",
          "height": 238
        },
        "id": "LOjpcCPHFQEv",
        "outputId": "1c221d01-58f4-4a2d-9568-28d143d1f4da"
      },
      "outputs": [
        {
          "output_type": "execute_result",
          "data": {
            "text/html": [
              "<div>\n",
              "<style scoped>\n",
              "    .dataframe tbody tr th:only-of-type {\n",
              "        vertical-align: middle;\n",
              "    }\n",
              "\n",
              "    .dataframe tbody tr th {\n",
              "        vertical-align: top;\n",
              "    }\n",
              "\n",
              "    .dataframe thead th {\n",
              "        text-align: right;\n",
              "    }\n",
              "</style>\n",
              "<table border=\"1\" class=\"dataframe\">\n",
              "  <thead>\n",
              "    <tr style=\"text-align: right;\">\n",
              "      <th></th>\n",
              "      <th>CO(GT)</th>\n",
              "      <th>PT08.S1(CO)</th>\n",
              "      <th>NMHC(GT)</th>\n",
              "      <th>C6H6(GT)</th>\n",
              "      <th>PT08.S2(NMHC)</th>\n",
              "      <th>NOx(GT)</th>\n",
              "      <th>PT08.S3(NOx)</th>\n",
              "      <th>NO2(GT)</th>\n",
              "      <th>PT08.S4(NO2)</th>\n",
              "      <th>PT08.S5(O3)</th>\n",
              "      <th>T</th>\n",
              "      <th>RH</th>\n",
              "      <th>AH</th>\n",
              "    </tr>\n",
              "    <tr>\n",
              "      <th>Date_Time</th>\n",
              "      <th></th>\n",
              "      <th></th>\n",
              "      <th></th>\n",
              "      <th></th>\n",
              "      <th></th>\n",
              "      <th></th>\n",
              "      <th></th>\n",
              "      <th></th>\n",
              "      <th></th>\n",
              "      <th></th>\n",
              "      <th></th>\n",
              "      <th></th>\n",
              "      <th></th>\n",
              "    </tr>\n",
              "  </thead>\n",
              "  <tbody>\n",
              "    <tr>\n",
              "      <th>2004-10-03 18:00:00</th>\n",
              "      <td>2.6</td>\n",
              "      <td>1360.0</td>\n",
              "      <td>150.0</td>\n",
              "      <td>11.9</td>\n",
              "      <td>1046.0</td>\n",
              "      <td>166.0</td>\n",
              "      <td>1056.0</td>\n",
              "      <td>113.0</td>\n",
              "      <td>1692.0</td>\n",
              "      <td>1268.0</td>\n",
              "      <td>13.6</td>\n",
              "      <td>48.9</td>\n",
              "      <td>0.7578</td>\n",
              "    </tr>\n",
              "    <tr>\n",
              "      <th>2004-10-03 19:00:00</th>\n",
              "      <td>2.0</td>\n",
              "      <td>1292.0</td>\n",
              "      <td>112.0</td>\n",
              "      <td>9.4</td>\n",
              "      <td>955.0</td>\n",
              "      <td>103.0</td>\n",
              "      <td>1174.0</td>\n",
              "      <td>92.0</td>\n",
              "      <td>1559.0</td>\n",
              "      <td>972.0</td>\n",
              "      <td>13.3</td>\n",
              "      <td>47.7</td>\n",
              "      <td>0.7255</td>\n",
              "    </tr>\n",
              "    <tr>\n",
              "      <th>2004-10-03 20:00:00</th>\n",
              "      <td>2.2</td>\n",
              "      <td>1402.0</td>\n",
              "      <td>88.0</td>\n",
              "      <td>9.0</td>\n",
              "      <td>939.0</td>\n",
              "      <td>131.0</td>\n",
              "      <td>1140.0</td>\n",
              "      <td>114.0</td>\n",
              "      <td>1555.0</td>\n",
              "      <td>1074.0</td>\n",
              "      <td>11.9</td>\n",
              "      <td>54.0</td>\n",
              "      <td>0.7502</td>\n",
              "    </tr>\n",
              "    <tr>\n",
              "      <th>2004-10-03 21:00:00</th>\n",
              "      <td>2.2</td>\n",
              "      <td>1376.0</td>\n",
              "      <td>80.0</td>\n",
              "      <td>9.2</td>\n",
              "      <td>948.0</td>\n",
              "      <td>172.0</td>\n",
              "      <td>1092.0</td>\n",
              "      <td>122.0</td>\n",
              "      <td>1584.0</td>\n",
              "      <td>1203.0</td>\n",
              "      <td>11.0</td>\n",
              "      <td>60.0</td>\n",
              "      <td>0.7867</td>\n",
              "    </tr>\n",
              "    <tr>\n",
              "      <th>2004-10-03 22:00:00</th>\n",
              "      <td>1.6</td>\n",
              "      <td>1272.0</td>\n",
              "      <td>51.0</td>\n",
              "      <td>6.5</td>\n",
              "      <td>836.0</td>\n",
              "      <td>131.0</td>\n",
              "      <td>1205.0</td>\n",
              "      <td>116.0</td>\n",
              "      <td>1490.0</td>\n",
              "      <td>1110.0</td>\n",
              "      <td>11.2</td>\n",
              "      <td>59.6</td>\n",
              "      <td>0.7888</td>\n",
              "    </tr>\n",
              "  </tbody>\n",
              "</table>\n",
              "</div>"
            ],
            "text/plain": [
              "                     CO(GT)  PT08.S1(CO)  NMHC(GT)  ...     T    RH      AH\n",
              "Date_Time                                           ...                    \n",
              "2004-10-03 18:00:00     2.6       1360.0     150.0  ...  13.6  48.9  0.7578\n",
              "2004-10-03 19:00:00     2.0       1292.0     112.0  ...  13.3  47.7  0.7255\n",
              "2004-10-03 20:00:00     2.2       1402.0      88.0  ...  11.9  54.0  0.7502\n",
              "2004-10-03 21:00:00     2.2       1376.0      80.0  ...  11.0  60.0  0.7867\n",
              "2004-10-03 22:00:00     1.6       1272.0      51.0  ...  11.2  59.6  0.7888\n",
              "\n",
              "[5 rows x 13 columns]"
            ]
          },
          "metadata": {},
          "execution_count": 31
        }
      ],
      "source": [
        "data = data.drop(['Date', 'Time'], axis=1)\n",
        "data.head()"
      ]
    },
    {
      "cell_type": "markdown",
      "metadata": {
        "id": "Nik7AorLFQEw"
      },
      "source": [
        "## Imputation"
      ]
    },
    {
      "cell_type": "markdown",
      "metadata": {
        "id": "tjaiTJIIFQEw"
      },
      "source": [
        "Since the missing values in the data are replaced with a value -200, we will have to impute the missing value with a better number. Consider this - if the present dew point value is missing, we can safely assume that it will be close to the value of the previous hour. Makes sense, right? Here, I will impute -200 with the previous value."
      ]
    },
    {
      "cell_type": "code",
      "execution_count": null,
      "metadata": {
        "id": "aBbsD5qIFQEx"
      },
      "outputs": [],
      "source": [
        "cols = data.columns\n",
        "\n",
        "# iterate through all columns\n",
        "for j in cols:\n",
        "    # iterate through all rows\n",
        "    for i in range(0, len(data)):\n",
        "        if data[j][i] == -200:\n",
        "            data[j][i] = data[j][i-1]"
      ]
    },
    {
      "cell_type": "markdown",
      "metadata": {
        "id": "1Sc6PvbKFQEx"
      },
      "source": [
        "## Stationarity"
      ]
    },
    {
      "cell_type": "markdown",
      "metadata": {
        "id": "GpgHURIPFQEx"
      },
      "source": [
        "A stationary time series will more often than not give us a better set of predictions. Similar to the <b>Augmented Dickey-Fuller test</b> for univariate series, we have <b>Johansen’s test</b> for checking the stationarity of any multivariate time series data. Since the test works for only 12 variables, I have randomly dropped in the next iteration, I would drop another and check the eigenvalues."
      ]
    },
    {
      "cell_type": "markdown",
      "metadata": {
        "id": "Ys6hS7_7FQEy"
      },
      "source": [
        "### coint_johansen()"
      ]
    },
    {
      "cell_type": "markdown",
      "metadata": {
        "id": "MF7HSO7iFQEy"
      },
      "source": [
        "`statsmodels.tsa.vector_ar.vecm.coint_johansen(endog, det_order, k_ar_diff)` - perform the Johansen cointegration test for determining the cointegration rank of a VECM.\n",
        "* <b>endog</b> - the data with presample.\n",
        "* <b>det_order: int</b> -\n",
        "  * <b>-1</b> - no deterministic terms.\n",
        "  * <b>0</b> - constant term.\n",
        "  * <b>1</b> - linear trend.\n",
        "* <b>k_ar_diff: int, nonnegative</b> - number of lagged differences in the model."
      ]
    },
    {
      "cell_type": "code",
      "execution_count": null,
      "metadata": {
        "id": "GLZDjThlFQEz"
      },
      "outputs": [],
      "source": [
        "from statsmodels.tsa.vector_ar.vecm import coint_johansen"
      ]
    },
    {
      "cell_type": "code",
      "execution_count": null,
      "metadata": {
        "colab": {
          "base_uri": "https://localhost:8080/"
        },
        "id": "2JMuzdhCFQEz",
        "outputId": "b806454c-7a47-45bf-b7f9-8b31dbe050ab"
      },
      "outputs": [
        {
          "output_type": "execute_result",
          "data": {
            "text/plain": [
              "array([1.75510896e-01, 1.52389933e-01, 1.15120416e-01, 1.04126281e-01,\n",
              "       9.29485509e-02, 6.89397159e-02, 5.77070988e-02, 3.43554214e-02,\n",
              "       3.05980659e-02, 1.18697142e-02, 2.46766099e-03, 7.09584856e-05])"
            ]
          },
          "metadata": {},
          "execution_count": 41
        }
      ],
      "source": [
        "johan_test_temp = data.drop(['CO(GT)'], axis=1)\n",
        "coint_johansen(johan_test_temp, -1, 1).eig"
      ]
    },
    {
      "cell_type": "markdown",
      "metadata": {
        "id": "nN2YJQs7FQE0"
      },
      "source": [
        "## Train-Validation Split"
      ]
    },
    {
      "cell_type": "markdown",
      "metadata": {
        "id": "Hi7X6VBCFQE0"
      },
      "source": [
        "Creating a validation set for time series problems is tricky because we have to take into account the time component. One cannot directly use the `train_test_split` or k-fold validation since this will disrupt the pattern in the series. The validation set should be created considering the date and time values."
      ]
    },
    {
      "cell_type": "code",
      "execution_count": null,
      "metadata": {
        "id": "4Ou9dxW5FQE1"
      },
      "outputs": [],
      "source": [
        "train = data[:int(0.8*(len(data)))]\n",
        "valid = data[int(0.8*(len(data))):]"
      ]
    },
    {
      "cell_type": "markdown",
      "metadata": {
        "id": "BjhJgmSAFQE1"
      },
      "source": [
        "## Vector Autoregression (VAR)"
      ]
    },
    {
      "cell_type": "markdown",
      "metadata": {
        "id": "EmSvJV8eFQE2"
      },
      "source": [
        "In a <b>VAR</b> model, each variable is a linear function of the past values of itself and the past values of all the other variables. Unlike AR, VAR is able to understand and use the relationship between several variables. This is useful for describing the dynamic behavior of the data and also provides better forecasting results. Additionally, implementing VAR is as simple as using any other univariate technique."
      ]
    },
    {
      "cell_type": "code",
      "execution_count": null,
      "metadata": {
        "id": "nNrApZ-3FQE2"
      },
      "outputs": [],
      "source": [
        "from statsmodels.tsa.vector_ar.var_model import VAR"
      ]
    },
    {
      "cell_type": "markdown",
      "metadata": {
        "id": "VW046YJEFQE3"
      },
      "source": [
        "### VAR()"
      ]
    },
    {
      "cell_type": "markdown",
      "metadata": {
        "id": "TrsUbEaFFQE3"
      },
      "source": [
        "`statsmodels.tsa.vector_ar.var_model.VAR(endog, exog=None, dates=None, freq=None, missing='none')` - fit VAR(p) process and do lag order selection.\n",
        "\\begin{equation*}\n",
        "y_t = A_1y_{t-1} + ... + A_py_{t-p} + u_t\n",
        "\\end{equation*}\n",
        "* <b>endog</b> - 2-d endogenous response variable. The independent variable.\n",
        "* <b>exog</b> - 2-d exogenous variable.\n",
        "* <b>dates</b> - must match number of rows of endog"
      ]
    },
    {
      "cell_type": "code",
      "execution_count": null,
      "metadata": {
        "colab": {
          "base_uri": "https://localhost:8080/"
        },
        "id": "Tg5XbcHuFQE4",
        "outputId": "6a0e0fe6-8c71-449f-d3bc-bd80de46b5d7"
      },
      "outputs": [
        {
          "output_type": "stream",
          "name": "stderr",
          "text": [
            "/usr/local/lib/python3.7/dist-packages/statsmodels/tsa/base/tsa_model.py:219: ValueWarning: A date index has been provided, but it has no associated frequency information and so will be ignored when e.g. forecasting.\n",
            "  ' ignored when e.g. forecasting.', ValueWarning)\n",
            "/usr/local/lib/python3.7/dist-packages/statsmodels/base/wrapper.py:35: FutureWarning: y is a deprecated alias for endog, will be removed in version 0.11.0\n",
            "  obj = getattr(results, attr)\n"
          ]
        }
      ],
      "source": [
        "# Fit the model\n",
        "model = VAR(endog=train)\n",
        "model_fit = model.fit()\n",
        "\n",
        "# Make prediction on validation\n",
        "prediction = model_fit.forecast(model_fit.y, steps=len(valid))"
      ]
    },
    {
      "cell_type": "code",
      "execution_count": null,
      "metadata": {
        "id": "y_HATc-IFQE4"
      },
      "outputs": [],
      "source": [
        "# Convert array to DataFrame\n",
        "cols = data.columns\n",
        "pred = pd.DataFrame(index=range(0, len(prediction)), columns=[cols])\n",
        "\n",
        "for j in range(0, len(cols)):\n",
        "    for i in range(0, len(prediction)):\n",
        "        pred.iloc[i][j] = prediction[i][j]"
      ]
    },
    {
      "cell_type": "code",
      "execution_count": null,
      "metadata": {
        "colab": {
          "base_uri": "https://localhost:8080/",
          "height": 345
        },
        "id": "K6LUCeczFQE5",
        "outputId": "0db16caf-f8b7-467a-fe64-bf06552f09b7"
      },
      "outputs": [
        {
          "output_type": "error",
          "ename": "TypeError",
          "evalue": "ignored",
          "traceback": [
            "\u001b[0;31m---------------------------------------------------------------------------\u001b[0m",
            "\u001b[0;31mTypeError\u001b[0m                                 Traceback (most recent call last)",
            "\u001b[0;32m<ipython-input-46-c8c96faeb377>\u001b[0m in \u001b[0;36m<module>\u001b[0;34m()\u001b[0m\n\u001b[1;32m      1\u001b[0m \u001b[0;31m# RMSE\u001b[0m\u001b[0;34m\u001b[0m\u001b[0;34m\u001b[0m\u001b[0;34m\u001b[0m\u001b[0m\n\u001b[1;32m      2\u001b[0m \u001b[0;32mfor\u001b[0m \u001b[0mi\u001b[0m \u001b[0;32min\u001b[0m \u001b[0mcols\u001b[0m\u001b[0;34m:\u001b[0m\u001b[0;34m\u001b[0m\u001b[0;34m\u001b[0m\u001b[0m\n\u001b[0;32m----> 3\u001b[0;31m     \u001b[0mprint\u001b[0m\u001b[0;34m(\u001b[0m\u001b[0;34m'RMSE value for'\u001b[0m\u001b[0;34m,\u001b[0m \u001b[0mi\u001b[0m\u001b[0;34m,\u001b[0m \u001b[0;34m'is:'\u001b[0m\u001b[0;34m,\u001b[0m \u001b[0msqrt\u001b[0m\u001b[0;34m(\u001b[0m\u001b[0mmean_squared_error\u001b[0m\u001b[0;34m(\u001b[0m\u001b[0mpred\u001b[0m\u001b[0;34m[\u001b[0m\u001b[0mi\u001b[0m\u001b[0;34m]\u001b[0m\u001b[0;34m,\u001b[0m \u001b[0mvalid\u001b[0m\u001b[0;34m[\u001b[0m\u001b[0mi\u001b[0m\u001b[0;34m]\u001b[0m\u001b[0;34m)\u001b[0m\u001b[0;34m)\u001b[0m\u001b[0;34m)\u001b[0m\u001b[0;34m\u001b[0m\u001b[0;34m\u001b[0m\u001b[0m\n\u001b[0m",
            "\u001b[0;32m/usr/local/lib/python3.7/dist-packages/pandas/core/frame.py\u001b[0m in \u001b[0;36m__getitem__\u001b[0;34m(self, key)\u001b[0m\n\u001b[1;32m   2876\u001b[0m                 \u001b[0;32mif\u001b[0m \u001b[0mself\u001b[0m\u001b[0;34m.\u001b[0m\u001b[0mcolumns\u001b[0m\u001b[0;34m.\u001b[0m\u001b[0mnlevels\u001b[0m \u001b[0;34m>\u001b[0m \u001b[0;36m1\u001b[0m\u001b[0;34m:\u001b[0m\u001b[0;34m\u001b[0m\u001b[0;34m\u001b[0m\u001b[0m\n\u001b[1;32m   2877\u001b[0m                     \u001b[0;32mreturn\u001b[0m \u001b[0mself\u001b[0m\u001b[0;34m.\u001b[0m\u001b[0m_getitem_multilevel\u001b[0m\u001b[0;34m(\u001b[0m\u001b[0mkey\u001b[0m\u001b[0;34m)\u001b[0m\u001b[0;34m\u001b[0m\u001b[0;34m\u001b[0m\u001b[0m\n\u001b[0;32m-> 2878\u001b[0;31m                 \u001b[0;32mreturn\u001b[0m \u001b[0mself\u001b[0m\u001b[0;34m.\u001b[0m\u001b[0m_get_item_cache\u001b[0m\u001b[0;34m(\u001b[0m\u001b[0mkey\u001b[0m\u001b[0;34m)\u001b[0m\u001b[0;34m\u001b[0m\u001b[0;34m\u001b[0m\u001b[0m\n\u001b[0m\u001b[1;32m   2879\u001b[0m \u001b[0;34m\u001b[0m\u001b[0m\n\u001b[1;32m   2880\u001b[0m         \u001b[0;31m# Do we have a slicer (on rows)?\u001b[0m\u001b[0;34m\u001b[0m\u001b[0;34m\u001b[0m\u001b[0;34m\u001b[0m\u001b[0m\n",
            "\u001b[0;32m/usr/local/lib/python3.7/dist-packages/pandas/core/generic.py\u001b[0m in \u001b[0;36m_get_item_cache\u001b[0;34m(self, item)\u001b[0m\n\u001b[1;32m   3541\u001b[0m \u001b[0;34m\u001b[0m\u001b[0m\n\u001b[1;32m   3542\u001b[0m             \u001b[0mloc\u001b[0m \u001b[0;34m=\u001b[0m \u001b[0mself\u001b[0m\u001b[0;34m.\u001b[0m\u001b[0mcolumns\u001b[0m\u001b[0;34m.\u001b[0m\u001b[0mget_loc\u001b[0m\u001b[0;34m(\u001b[0m\u001b[0mitem\u001b[0m\u001b[0;34m)\u001b[0m\u001b[0;34m\u001b[0m\u001b[0;34m\u001b[0m\u001b[0m\n\u001b[0;32m-> 3543\u001b[0;31m             \u001b[0mvalues\u001b[0m \u001b[0;34m=\u001b[0m \u001b[0mself\u001b[0m\u001b[0;34m.\u001b[0m\u001b[0m_mgr\u001b[0m\u001b[0;34m.\u001b[0m\u001b[0miget\u001b[0m\u001b[0;34m(\u001b[0m\u001b[0mloc\u001b[0m\u001b[0;34m)\u001b[0m\u001b[0;34m\u001b[0m\u001b[0;34m\u001b[0m\u001b[0m\n\u001b[0m\u001b[1;32m   3544\u001b[0m             \u001b[0mres\u001b[0m \u001b[0;34m=\u001b[0m \u001b[0mself\u001b[0m\u001b[0;34m.\u001b[0m\u001b[0m_box_col_values\u001b[0m\u001b[0;34m(\u001b[0m\u001b[0mvalues\u001b[0m\u001b[0;34m,\u001b[0m \u001b[0mloc\u001b[0m\u001b[0;34m)\u001b[0m\u001b[0;34m\u001b[0m\u001b[0;34m\u001b[0m\u001b[0m\n\u001b[1;32m   3545\u001b[0m \u001b[0;34m\u001b[0m\u001b[0m\n",
            "\u001b[0;32m/usr/local/lib/python3.7/dist-packages/pandas/core/internals/managers.py\u001b[0m in \u001b[0;36miget\u001b[0;34m(self, i)\u001b[0m\n\u001b[1;32m    995\u001b[0m         \u001b[0mReturn\u001b[0m \u001b[0mthe\u001b[0m \u001b[0mdata\u001b[0m \u001b[0;32mas\u001b[0m \u001b[0ma\u001b[0m \u001b[0mSingleBlockManager\u001b[0m\u001b[0;34m.\u001b[0m\u001b[0;34m\u001b[0m\u001b[0;34m\u001b[0m\u001b[0m\n\u001b[1;32m    996\u001b[0m         \"\"\"\n\u001b[0;32m--> 997\u001b[0;31m         \u001b[0mblock\u001b[0m \u001b[0;34m=\u001b[0m \u001b[0mself\u001b[0m\u001b[0;34m.\u001b[0m\u001b[0mblocks\u001b[0m\u001b[0;34m[\u001b[0m\u001b[0mself\u001b[0m\u001b[0;34m.\u001b[0m\u001b[0mblknos\u001b[0m\u001b[0;34m[\u001b[0m\u001b[0mi\u001b[0m\u001b[0;34m]\u001b[0m\u001b[0;34m]\u001b[0m\u001b[0;34m\u001b[0m\u001b[0;34m\u001b[0m\u001b[0m\n\u001b[0m\u001b[1;32m    998\u001b[0m         \u001b[0mvalues\u001b[0m \u001b[0;34m=\u001b[0m \u001b[0mblock\u001b[0m\u001b[0;34m.\u001b[0m\u001b[0miget\u001b[0m\u001b[0;34m(\u001b[0m\u001b[0mself\u001b[0m\u001b[0;34m.\u001b[0m\u001b[0mblklocs\u001b[0m\u001b[0;34m[\u001b[0m\u001b[0mi\u001b[0m\u001b[0;34m]\u001b[0m\u001b[0;34m)\u001b[0m\u001b[0;34m\u001b[0m\u001b[0;34m\u001b[0m\u001b[0m\n\u001b[1;32m    999\u001b[0m \u001b[0;34m\u001b[0m\u001b[0m\n",
            "\u001b[0;31mTypeError\u001b[0m: only integer scalar arrays can be converted to a scalar index"
          ]
        }
      ],
      "source": [
        "# RMSE\n",
        "for i in cols:\n",
        "    print('RMSE value for', i, 'is:', sqrt(mean_squared_error(pred[i], valid[i])))"
      ]
    },
    {
      "cell_type": "code",
      "execution_count": null,
      "metadata": {
        "id": "2e9XBOXSFQE6",
        "outputId": "ad8c42f0-818d-43c3-d023-cb73fed712df"
      },
      "outputs": [
        {
          "name": "stdout",
          "output_type": "stream",
          "text": [
            "[[2.34596328e+00 1.08633212e+03 2.80762173e+02 1.24130779e+01\n",
            "  1.05535947e+03 2.80882233e+02 6.59534851e+02 1.68444418e+02\n",
            "  1.15918056e+03 8.50845529e+02 2.73639014e+01 1.55311062e+01\n",
            "  5.15317053e-01]]\n"
          ]
        },
        {
          "name": "stderr",
          "output_type": "stream",
          "text": [
            "/Users/mosthusnejahan/anaconda3/lib/python3.6/site-packages/statsmodels/tsa/vector_ar/var_model.py:461: FutureWarning: `rcond` parameter will change to the default of machine precision times ``max(M, N)`` where M and N are the input matrix dimensions.\n",
            "To use the future default and silence this warning we advise to pass `rcond=None`, to keep using the old, explicitly pass `rcond=-1`.\n",
            "  params = np.linalg.lstsq(z, y_sample)[0]\n"
          ]
        }
      ],
      "source": [
        "# Make final predictions\n",
        "model = VAR(endog=data)\n",
        "model_fit = model.fit()\n",
        "\n",
        "yhat = model_fit.forecast(model_fit.y, steps=1)\n",
        "print(yhat)"
      ]
    },
    {
      "cell_type": "code",
      "execution_count": null,
      "metadata": {
        "id": "oh43EXRxFQE6"
      },
      "outputs": [],
      "source": []
    }
  ],
  "metadata": {
    "kernelspec": {
      "display_name": "Python 3",
      "language": "python",
      "name": "python3"
    },
    "language_info": {
      "codemirror_mode": {
        "name": "ipython",
        "version": 3
      },
      "file_extension": ".py",
      "mimetype": "text/x-python",
      "name": "python",
      "nbconvert_exporter": "python",
      "pygments_lexer": "ipython3",
      "version": "3.6.4"
    },
    "colab": {
      "provenance": [],
      "include_colab_link": true
    }
  },
  "nbformat": 4,
  "nbformat_minor": 0
}