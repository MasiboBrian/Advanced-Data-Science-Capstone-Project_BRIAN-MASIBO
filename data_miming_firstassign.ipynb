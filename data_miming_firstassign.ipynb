{
  "cells": [
    {
      "cell_type": "markdown",
      "metadata": {
        "id": "view-in-github",
        "colab_type": "text"
      },
      "source": [
        "<a href=\"https://colab.research.google.com/github/MasiboBrian/AirBNB-Price-Prediction/blob/master/data_miming_firstassign.ipynb\" target=\"_parent\"><img src=\"https://colab.research.google.com/assets/colab-badge.svg\" alt=\"Open In Colab\"/></a>"
      ]
    },
    {
      "cell_type": "markdown",
      "metadata": {
        "id": "xOPBP_5sqVqB"
      },
      "source": [
        "\n"
      ]
    },
    {
      "cell_type": "code",
      "execution_count": null,
      "metadata": {
        "id": "2R-L_UsIqVqD",
        "outputId": "d7d2dadb-ed9e-4207-e2e3-5074a1b97295"
      },
      "outputs": [
        {
          "data": {
            "text/html": [
              "<div>\n",
              "<style scoped>\n",
              "    .dataframe tbody tr th:only-of-type {\n",
              "        vertical-align: middle;\n",
              "    }\n",
              "\n",
              "    .dataframe tbody tr th {\n",
              "        vertical-align: top;\n",
              "    }\n",
              "\n",
              "    .dataframe thead th {\n",
              "        text-align: right;\n",
              "    }\n",
              "</style>\n",
              "<table border=\"1\" class=\"dataframe\">\n",
              "  <thead>\n",
              "    <tr style=\"text-align: right;\">\n",
              "      <th></th>\n",
              "      <th>age</th>\n",
              "      <th>sex</th>\n",
              "      <th>on thyroxine</th>\n",
              "      <th>query on thyroxine</th>\n",
              "      <th>on antithyroid medication</th>\n",
              "      <th>sick</th>\n",
              "      <th>pregnant</th>\n",
              "      <th>thyroid surgery</th>\n",
              "      <th>I131 treatment</th>\n",
              "      <th>query hypothyroid</th>\n",
              "      <th>...</th>\n",
              "      <th>TT4 measured</th>\n",
              "      <th>TT4</th>\n",
              "      <th>T4U measured</th>\n",
              "      <th>T4U</th>\n",
              "      <th>FTI measured</th>\n",
              "      <th>FTI</th>\n",
              "      <th>TBG measured</th>\n",
              "      <th>TBG</th>\n",
              "      <th>referral source</th>\n",
              "      <th>y</th>\n",
              "    </tr>\n",
              "  </thead>\n",
              "  <tbody>\n",
              "    <tr>\n",
              "      <th>0</th>\n",
              "      <td>29</td>\n",
              "      <td>F</td>\n",
              "      <td>f</td>\n",
              "      <td>f</td>\n",
              "      <td>f</td>\n",
              "      <td>f</td>\n",
              "      <td>f</td>\n",
              "      <td>f</td>\n",
              "      <td>f</td>\n",
              "      <td>t</td>\n",
              "      <td>...</td>\n",
              "      <td>f</td>\n",
              "      <td>?</td>\n",
              "      <td>f</td>\n",
              "      <td>?</td>\n",
              "      <td>f</td>\n",
              "      <td>?</td>\n",
              "      <td>f</td>\n",
              "      <td>?</td>\n",
              "      <td>other</td>\n",
              "      <td>0</td>\n",
              "    </tr>\n",
              "    <tr>\n",
              "      <th>1</th>\n",
              "      <td>29</td>\n",
              "      <td>F</td>\n",
              "      <td>f</td>\n",
              "      <td>f</td>\n",
              "      <td>f</td>\n",
              "      <td>f</td>\n",
              "      <td>f</td>\n",
              "      <td>f</td>\n",
              "      <td>f</td>\n",
              "      <td>f</td>\n",
              "      <td>...</td>\n",
              "      <td>t</td>\n",
              "      <td>128</td>\n",
              "      <td>f</td>\n",
              "      <td>?</td>\n",
              "      <td>f</td>\n",
              "      <td>?</td>\n",
              "      <td>f</td>\n",
              "      <td>?</td>\n",
              "      <td>other</td>\n",
              "      <td>0</td>\n",
              "    </tr>\n",
              "    <tr>\n",
              "      <th>2</th>\n",
              "      <td>41</td>\n",
              "      <td>F</td>\n",
              "      <td>f</td>\n",
              "      <td>f</td>\n",
              "      <td>f</td>\n",
              "      <td>f</td>\n",
              "      <td>f</td>\n",
              "      <td>f</td>\n",
              "      <td>f</td>\n",
              "      <td>f</td>\n",
              "      <td>...</td>\n",
              "      <td>f</td>\n",
              "      <td>?</td>\n",
              "      <td>f</td>\n",
              "      <td>?</td>\n",
              "      <td>f</td>\n",
              "      <td>?</td>\n",
              "      <td>t</td>\n",
              "      <td>11</td>\n",
              "      <td>other</td>\n",
              "      <td>0</td>\n",
              "    </tr>\n",
              "    <tr>\n",
              "      <th>3</th>\n",
              "      <td>36</td>\n",
              "      <td>F</td>\n",
              "      <td>f</td>\n",
              "      <td>f</td>\n",
              "      <td>f</td>\n",
              "      <td>f</td>\n",
              "      <td>f</td>\n",
              "      <td>f</td>\n",
              "      <td>f</td>\n",
              "      <td>f</td>\n",
              "      <td>...</td>\n",
              "      <td>f</td>\n",
              "      <td>?</td>\n",
              "      <td>f</td>\n",
              "      <td>?</td>\n",
              "      <td>f</td>\n",
              "      <td>?</td>\n",
              "      <td>t</td>\n",
              "      <td>26</td>\n",
              "      <td>other</td>\n",
              "      <td>0</td>\n",
              "    </tr>\n",
              "    <tr>\n",
              "      <th>4</th>\n",
              "      <td>32</td>\n",
              "      <td>F</td>\n",
              "      <td>f</td>\n",
              "      <td>f</td>\n",
              "      <td>f</td>\n",
              "      <td>f</td>\n",
              "      <td>f</td>\n",
              "      <td>f</td>\n",
              "      <td>f</td>\n",
              "      <td>f</td>\n",
              "      <td>...</td>\n",
              "      <td>f</td>\n",
              "      <td>?</td>\n",
              "      <td>f</td>\n",
              "      <td>?</td>\n",
              "      <td>f</td>\n",
              "      <td>?</td>\n",
              "      <td>t</td>\n",
              "      <td>36</td>\n",
              "      <td>other</td>\n",
              "      <td>1</td>\n",
              "    </tr>\n",
              "    <tr>\n",
              "      <th>...</th>\n",
              "      <td>...</td>\n",
              "      <td>...</td>\n",
              "      <td>...</td>\n",
              "      <td>...</td>\n",
              "      <td>...</td>\n",
              "      <td>...</td>\n",
              "      <td>...</td>\n",
              "      <td>...</td>\n",
              "      <td>...</td>\n",
              "      <td>...</td>\n",
              "      <td>...</td>\n",
              "      <td>...</td>\n",
              "      <td>...</td>\n",
              "      <td>...</td>\n",
              "      <td>...</td>\n",
              "      <td>...</td>\n",
              "      <td>...</td>\n",
              "      <td>...</td>\n",
              "      <td>...</td>\n",
              "      <td>...</td>\n",
              "      <td>...</td>\n",
              "    </tr>\n",
              "    <tr>\n",
              "      <th>9167</th>\n",
              "      <td>56</td>\n",
              "      <td>M</td>\n",
              "      <td>f</td>\n",
              "      <td>f</td>\n",
              "      <td>f</td>\n",
              "      <td>f</td>\n",
              "      <td>f</td>\n",
              "      <td>f</td>\n",
              "      <td>f</td>\n",
              "      <td>f</td>\n",
              "      <td>...</td>\n",
              "      <td>t</td>\n",
              "      <td>64</td>\n",
              "      <td>t</td>\n",
              "      <td>0.83</td>\n",
              "      <td>t</td>\n",
              "      <td>77</td>\n",
              "      <td>f</td>\n",
              "      <td>?</td>\n",
              "      <td>SVI</td>\n",
              "      <td>0</td>\n",
              "    </tr>\n",
              "    <tr>\n",
              "      <th>9168</th>\n",
              "      <td>22</td>\n",
              "      <td>M</td>\n",
              "      <td>f</td>\n",
              "      <td>f</td>\n",
              "      <td>f</td>\n",
              "      <td>f</td>\n",
              "      <td>f</td>\n",
              "      <td>f</td>\n",
              "      <td>f</td>\n",
              "      <td>f</td>\n",
              "      <td>...</td>\n",
              "      <td>t</td>\n",
              "      <td>91</td>\n",
              "      <td>t</td>\n",
              "      <td>0.92</td>\n",
              "      <td>t</td>\n",
              "      <td>99</td>\n",
              "      <td>f</td>\n",
              "      <td>?</td>\n",
              "      <td>SVI</td>\n",
              "      <td>0</td>\n",
              "    </tr>\n",
              "    <tr>\n",
              "      <th>9169</th>\n",
              "      <td>69</td>\n",
              "      <td>M</td>\n",
              "      <td>f</td>\n",
              "      <td>f</td>\n",
              "      <td>f</td>\n",
              "      <td>f</td>\n",
              "      <td>f</td>\n",
              "      <td>f</td>\n",
              "      <td>f</td>\n",
              "      <td>f</td>\n",
              "      <td>...</td>\n",
              "      <td>t</td>\n",
              "      <td>113</td>\n",
              "      <td>t</td>\n",
              "      <td>1.27</td>\n",
              "      <td>t</td>\n",
              "      <td>89</td>\n",
              "      <td>f</td>\n",
              "      <td>?</td>\n",
              "      <td>SVI</td>\n",
              "      <td>1</td>\n",
              "    </tr>\n",
              "    <tr>\n",
              "      <th>9170</th>\n",
              "      <td>47</td>\n",
              "      <td>F</td>\n",
              "      <td>f</td>\n",
              "      <td>f</td>\n",
              "      <td>f</td>\n",
              "      <td>f</td>\n",
              "      <td>f</td>\n",
              "      <td>f</td>\n",
              "      <td>f</td>\n",
              "      <td>f</td>\n",
              "      <td>...</td>\n",
              "      <td>t</td>\n",
              "      <td>75</td>\n",
              "      <td>t</td>\n",
              "      <td>0.85</td>\n",
              "      <td>t</td>\n",
              "      <td>88</td>\n",
              "      <td>f</td>\n",
              "      <td>?</td>\n",
              "      <td>other</td>\n",
              "      <td>0</td>\n",
              "    </tr>\n",
              "    <tr>\n",
              "      <th>9171</th>\n",
              "      <td>31</td>\n",
              "      <td>M</td>\n",
              "      <td>f</td>\n",
              "      <td>f</td>\n",
              "      <td>f</td>\n",
              "      <td>f</td>\n",
              "      <td>f</td>\n",
              "      <td>f</td>\n",
              "      <td>f</td>\n",
              "      <td>t</td>\n",
              "      <td>...</td>\n",
              "      <td>t</td>\n",
              "      <td>66</td>\n",
              "      <td>t</td>\n",
              "      <td>1.02</td>\n",
              "      <td>t</td>\n",
              "      <td>65</td>\n",
              "      <td>f</td>\n",
              "      <td>?</td>\n",
              "      <td>other</td>\n",
              "      <td>0</td>\n",
              "    </tr>\n",
              "  </tbody>\n",
              "</table>\n",
              "<p>9172 rows × 30 columns</p>\n",
              "</div>"
            ],
            "text/plain": [
              "      age sex on thyroxine query on thyroxine on antithyroid medication sick  \\\n",
              "0      29   F            f                  f                         f    f   \n",
              "1      29   F            f                  f                         f    f   \n",
              "2      41   F            f                  f                         f    f   \n",
              "3      36   F            f                  f                         f    f   \n",
              "4      32   F            f                  f                         f    f   \n",
              "...   ...  ..          ...                ...                       ...  ...   \n",
              "9167   56   M            f                  f                         f    f   \n",
              "9168   22   M            f                  f                         f    f   \n",
              "9169   69   M            f                  f                         f    f   \n",
              "9170   47   F            f                  f                         f    f   \n",
              "9171   31   M            f                  f                         f    f   \n",
              "\n",
              "     pregnant thyroid surgery I131 treatment query hypothyroid  ...  \\\n",
              "0           f               f              f                 t  ...   \n",
              "1           f               f              f                 f  ...   \n",
              "2           f               f              f                 f  ...   \n",
              "3           f               f              f                 f  ...   \n",
              "4           f               f              f                 f  ...   \n",
              "...       ...             ...            ...               ...  ...   \n",
              "9167        f               f              f                 f  ...   \n",
              "9168        f               f              f                 f  ...   \n",
              "9169        f               f              f                 f  ...   \n",
              "9170        f               f              f                 f  ...   \n",
              "9171        f               f              f                 t  ...   \n",
              "\n",
              "     TT4 measured  TT4 T4U measured   T4U FTI measured FTI TBG measured TBG  \\\n",
              "0               f    ?            f     ?            f   ?            f   ?   \n",
              "1               t  128            f     ?            f   ?            f   ?   \n",
              "2               f    ?            f     ?            f   ?            t  11   \n",
              "3               f    ?            f     ?            f   ?            t  26   \n",
              "4               f    ?            f     ?            f   ?            t  36   \n",
              "...           ...  ...          ...   ...          ...  ..          ...  ..   \n",
              "9167            t   64            t  0.83            t  77            f   ?   \n",
              "9168            t   91            t  0.92            t  99            f   ?   \n",
              "9169            t  113            t  1.27            t  89            f   ?   \n",
              "9170            t   75            t  0.85            t  88            f   ?   \n",
              "9171            t   66            t  1.02            t  65            f   ?   \n",
              "\n",
              "     referral source  y  \n",
              "0              other  0  \n",
              "1              other  0  \n",
              "2              other  0  \n",
              "3              other  0  \n",
              "4              other  1  \n",
              "...              ... ..  \n",
              "9167             SVI  0  \n",
              "9168             SVI  0  \n",
              "9169             SVI  1  \n",
              "9170           other  0  \n",
              "9171           other  0  \n",
              "\n",
              "[9172 rows x 30 columns]"
            ]
          },
          "execution_count": 391,
          "metadata": {},
          "output_type": "execute_result"
        }
      ],
      "source": [
        "import numpy as np\n",
        "import pandas as pd\n",
        "df= pd.read_csv('thyroid.csv')\n",
        "df"
      ]
    },
    {
      "cell_type": "code",
      "execution_count": null,
      "metadata": {
        "id": "FYaHR6XtqVqE",
        "outputId": "b9d41da3-8375-4ba3-d566-c7b0a6f2f238"
      },
      "outputs": [
        {
          "data": {
            "text/plain": [
              "0       30\n",
              "1       30\n",
              "2       30\n",
              "3       30\n",
              "4       30\n",
              "        ..\n",
              "9167    30\n",
              "9168    30\n",
              "9169    30\n",
              "9170    30\n",
              "9171    30\n",
              "Length: 9172, dtype: int64"
            ]
          },
          "execution_count": 392,
          "metadata": {},
          "output_type": "execute_result"
        }
      ],
      "source": [
        "df.count(1)"
      ]
    },
    {
      "cell_type": "code",
      "execution_count": null,
      "metadata": {
        "id": "Dc3bnIZGqVqF"
      },
      "outputs": [],
      "source": [
        "# number of rows 9172 #number of column 30"
      ]
    },
    {
      "cell_type": "code",
      "execution_count": null,
      "metadata": {
        "id": "SiyE9AZEqVqF",
        "outputId": "2a6f85b9-316e-492f-ae38-e6eac9d9fe90"
      },
      "outputs": [
        {
          "data": {
            "text/plain": [
              "age                          0\n",
              "sex                          0\n",
              "on thyroxine                 0\n",
              "query on thyroxine           0\n",
              "on antithyroid medication    0\n",
              "sick                         0\n",
              "pregnant                     0\n",
              "thyroid surgery              0\n",
              "I131 treatment               0\n",
              "query hypothyroid            0\n",
              "query hyperthyroid           0\n",
              "lithium                      0\n",
              "goitre                       0\n",
              "tumor                        0\n",
              "hypopituitary                0\n",
              "psych                        0\n",
              "TSH measured                 0\n",
              "TSH                          0\n",
              "T3 measured                  0\n",
              "T3                           0\n",
              "TT4 measured                 0\n",
              "TT4                          0\n",
              "T4U measured                 0\n",
              "T4U                          0\n",
              "FTI measured                 0\n",
              "FTI                          0\n",
              "TBG measured                 0\n",
              "TBG                          0\n",
              "referral source              0\n",
              "y                            0\n",
              "dtype: int64"
            ]
          },
          "execution_count": 394,
          "metadata": {},
          "output_type": "execute_result"
        }
      ],
      "source": [
        "df.isnull().sum()"
      ]
    },
    {
      "cell_type": "code",
      "execution_count": null,
      "metadata": {
        "id": "VZzg78tjqVqF",
        "outputId": "0f8b8772-1451-48fe-bcbc-33f190f83ad5"
      },
      "outputs": [
        {
          "data": {
            "text/plain": [
              "Index(['age', 'sex', 'on thyroxine', 'query on thyroxine',\n",
              "       'on antithyroid medication', 'sick', 'pregnant', 'thyroid surgery',\n",
              "       'I131 treatment', 'query hypothyroid', 'query hyperthyroid', 'lithium',\n",
              "       'goitre', 'tumor', 'hypopituitary', 'psych', 'TSH measured', 'TSH',\n",
              "       'T3 measured', 'T3', 'TT4 measured', 'TT4', 'T4U measured', 'T4U',\n",
              "       'FTI measured', 'FTI', 'TBG measured', 'TBG', 'referral source', 'y'],\n",
              "      dtype='object')"
            ]
          },
          "execution_count": 395,
          "metadata": {},
          "output_type": "execute_result"
        }
      ],
      "source": [
        "df.columns"
      ]
    },
    {
      "cell_type": "code",
      "execution_count": null,
      "metadata": {
        "id": "Oe2zaiEOqVqG"
      },
      "outputs": [],
      "source": []
    },
    {
      "cell_type": "code",
      "execution_count": null,
      "metadata": {
        "id": "opaYAnIvqVqH",
        "outputId": "f36552d9-2cf1-4976-8c05-3ee246a8f69f"
      },
      "outputs": [
        {
          "name": "stdout",
          "output_type": "stream",
          "text": [
            "      age\n",
            "y        \n",
            "0  547444\n",
            "1  127210\n"
          ]
        }
      ],
      "source": [
        "print(df.groupby('y').sum())"
      ]
    },
    {
      "cell_type": "code",
      "execution_count": null,
      "metadata": {
        "id": "KT5DtbRjqVqH",
        "outputId": "f574d0a4-1e77-4a4e-c844-6f8d37eda7e1"
      },
      "outputs": [
        {
          "data": {
            "text/plain": [
              "26.18"
            ]
          },
          "execution_count": 397,
          "metadata": {},
          "output_type": "execute_result"
        }
      ],
      "source": [
        "round((df['y'] == 1).sum() / len(df['y']) * 100, 2)"
      ]
    },
    {
      "cell_type": "markdown",
      "metadata": {
        "id": "cSCl2OudqVqH"
      },
      "source": [
        " #5. What percentage of instances in this data frame are Female? Enter the answer as a value between 0 and 100, and two digits after the decimal point without the percent sign\n"
      ]
    },
    {
      "cell_type": "code",
      "execution_count": null,
      "metadata": {
        "id": "zew0ewOxqVqI",
        "outputId": "caea9165-7fc6-49eb-f0ad-1adf7bf7c814"
      },
      "outputs": [
        {
          "data": {
            "text/plain": [
              "66.21"
            ]
          },
          "execution_count": 398,
          "metadata": {},
          "output_type": "execute_result"
        }
      ],
      "source": [
        "round((df['sex'] == 'F').sum() / len(df['sex']) * 100, 2)"
      ]
    },
    {
      "cell_type": "markdown",
      "metadata": {
        "id": "enVn-7_sqVqI"
      },
      "source": [
        "#6. What is the average age of all patients in this data frame? Enter the answer with two digits after the decimal point."
      ]
    },
    {
      "cell_type": "code",
      "execution_count": null,
      "metadata": {
        "id": "G8vmS-hiqVqI",
        "outputId": "c4aa432d-3daa-47d9-b76f-411bafddda71"
      },
      "outputs": [
        {
          "data": {
            "text/plain": [
              "73.55582206716092"
            ]
          },
          "execution_count": 457,
          "metadata": {},
          "output_type": "execute_result"
        }
      ],
      "source": [
        "df['age'].mean()"
      ]
    },
    {
      "cell_type": "markdown",
      "metadata": {
        "id": "T0piVn2fqVqJ"
      },
      "source": [
        "How many unique values are in the column referral source?"
      ]
    },
    {
      "cell_type": "code",
      "execution_count": null,
      "metadata": {
        "id": "iFdaOUmPqVqJ",
        "outputId": "dd8da3f4-48a8-407a-fef2-3533698c74aa"
      },
      "outputs": [
        {
          "data": {
            "text/plain": [
              "6"
            ]
          },
          "execution_count": 400,
          "metadata": {},
          "output_type": "execute_result"
        }
      ],
      "source": [
        "len(df['referral source'].unique())"
      ]
    },
    {
      "cell_type": "code",
      "execution_count": null,
      "metadata": {
        "id": "sExX5AgQqVqK",
        "outputId": "e6f76d99-f3ab-4ee2-8864-e92285ebb384"
      },
      "outputs": [
        {
          "data": {
            "text/plain": [
              "'other'"
            ]
          },
          "execution_count": 401,
          "metadata": {},
          "output_type": "execute_result"
        }
      ],
      "source": [
        "#8. Which class in the column referral source has the highest frequency?¶\n",
        "item_count=df['referral source'].value_counts().idxmax()\n",
        "item_count"
      ]
    },
    {
      "cell_type": "code",
      "execution_count": null,
      "metadata": {
        "id": "wLWk0rDrqVqK"
      },
      "outputs": [],
      "source": [
        "df = df.replace('?', np.nan)\n"
      ]
    },
    {
      "cell_type": "code",
      "execution_count": null,
      "metadata": {
        "id": "VFlZqdc8qVqL",
        "outputId": "a3f42d17-7466-4543-fb2e-1fcb76801b04"
      },
      "outputs": [
        {
          "data": {
            "text/plain": [
              "5.316543102195086"
            ]
          },
          "execution_count": 403,
          "metadata": {},
          "output_type": "execute_result"
        }
      ],
      "source": [
        "(df.isna().sum().sum()/df.size)*100"
      ]
    },
    {
      "cell_type": "code",
      "execution_count": null,
      "metadata": {
        "id": "Rq6Jg1yvqVqL",
        "outputId": "51b0dabe-929e-45df-d417-ce87e38fc71a"
      },
      "outputs": [
        {
          "data": {
            "text/plain": [
              "275160"
            ]
          },
          "execution_count": 404,
          "metadata": {},
          "output_type": "execute_result"
        }
      ],
      "source": [
        "df.size"
      ]
    },
    {
      "cell_type": "code",
      "execution_count": null,
      "metadata": {
        "id": "qyJLNIkTqVqL",
        "outputId": "26019c00-8d3f-4240-8bc9-707734f79bd6"
      },
      "outputs": [
        {
          "data": {
            "text/plain": [
              "14629"
            ]
          },
          "execution_count": 405,
          "metadata": {},
          "output_type": "execute_result"
        }
      ],
      "source": [
        "df.isna().sum().sum()"
      ]
    },
    {
      "cell_type": "code",
      "execution_count": null,
      "metadata": {
        "id": "8X3-yAzdqVqM",
        "outputId": "feebf39e-102e-43b0-ab58-371507c62dc9"
      },
      "outputs": [
        {
          "data": {
            "text/plain": [
              "275160"
            ]
          },
          "execution_count": 406,
          "metadata": {},
          "output_type": "execute_result"
        }
      ],
      "source": [
        "df.size"
      ]
    },
    {
      "cell_type": "code",
      "execution_count": null,
      "metadata": {
        "id": "gGvtQbzcqVqM",
        "outputId": "9c00d890-fefb-4963-c602-9df73d47a52a"
      },
      "outputs": [
        {
          "data": {
            "text/plain": [
              "(9172, 30)"
            ]
          },
          "execution_count": 407,
          "metadata": {},
          "output_type": "execute_result"
        }
      ],
      "source": [
        "df.shape"
      ]
    },
    {
      "cell_type": "code",
      "execution_count": null,
      "metadata": {
        "id": "uQz5EZRpqVqM",
        "outputId": "75953f82-2299-4dbf-fb9b-aa029f22040c"
      },
      "outputs": [
        {
          "data": {
            "text/plain": [
              "5.32"
            ]
          },
          "execution_count": 408,
          "metadata": {},
          "output_type": "execute_result"
        }
      ],
      "source": [
        "\n",
        "round(((df.isna().sum().sum()) / df.size) * 100, 2)"
      ]
    },
    {
      "cell_type": "markdown",
      "metadata": {
        "id": "6SJco1j5qVqM"
      },
      "source": [
        "What percentage of rows have at least one attribute flagged as missing value? Enter the answer as a value between 0 and 100, and two digits after the decimal point without the percent sign*********************************"
      ]
    },
    {
      "cell_type": "code",
      "execution_count": null,
      "metadata": {
        "id": "vODYHSw3qVqN",
        "outputId": "2202429f-4a44-4755-f8fa-537407f4e045"
      },
      "outputs": [
        {
          "data": {
            "text/plain": [
              "99.78"
            ]
          },
          "execution_count": 409,
          "metadata": {},
          "output_type": "execute_result"
        }
      ],
      "source": [
        "round(((df.isna().sum(axis=1) >= 1).sum() / len(df)) * 100, 2)"
      ]
    },
    {
      "cell_type": "markdown",
      "metadata": {
        "id": "HruGr0ZPqVqN"
      },
      "source": [
        "11. What is the average number of missing values in all the data frame rows? Enter the answer with two digits after the decimal point"
      ]
    },
    {
      "cell_type": "code",
      "execution_count": null,
      "metadata": {
        "id": "zZGsBqCKqVqN",
        "outputId": "eafcc62f-41f0-4bb3-c8f8-4afe39031be4"
      },
      "outputs": [
        {
          "data": {
            "text/plain": [
              "1.594962930658526"
            ]
          },
          "execution_count": 410,
          "metadata": {},
          "output_type": "execute_result"
        }
      ],
      "source": [
        "df.isna().sum(axis=1).sum()/len(df)"
      ]
    },
    {
      "cell_type": "code",
      "execution_count": null,
      "metadata": {
        "id": "fJlg8yqzqVqO",
        "outputId": "dd1ec12e-77bc-4da1-9981-d6baef16bc85"
      },
      "outputs": [
        {
          "data": {
            "text/plain": [
              "F    6073\n",
              "M    2792\n",
              "Name: sex, dtype: int64"
            ]
          },
          "execution_count": 411,
          "metadata": {},
          "output_type": "execute_result"
        }
      ],
      "source": [
        "df['sex'].value_counts()### F IS MORE"
      ]
    },
    {
      "cell_type": "markdown",
      "metadata": {
        "id": "nBpQaG8YqVqO"
      },
      "source": [
        "12. Replace all the missing values in column sex with the value of the most frequent class. Then properly transform this column to a numerical column. What is the mean() of all values in this column after transformation? Enter the answer with two digits after the decimal point"
      ]
    },
    {
      "cell_type": "code",
      "execution_count": null,
      "metadata": {
        "id": "JsJU8jRVqVqO"
      },
      "outputs": [],
      "source": [
        "\n",
        "df['sex'] = df['sex'].fillna(df['sex'].value_counts().idxmax())\n",
        "\n"
      ]
    },
    {
      "cell_type": "code",
      "execution_count": null,
      "metadata": {
        "id": "-UPUzRbsqVqO"
      },
      "outputs": [],
      "source": [
        "df['sex'] = df['sex'].replace({'F': 1, 'M': 0})\n"
      ]
    },
    {
      "cell_type": "code",
      "execution_count": null,
      "metadata": {
        "id": "7w_OOR38qVqP",
        "outputId": "0c18e26b-24c9-404a-fd34-3fa8986d4f95"
      },
      "outputs": [
        {
          "data": {
            "text/plain": [
              "0.7"
            ]
          },
          "execution_count": 414,
          "metadata": {},
          "output_type": "execute_result"
        }
      ],
      "source": [
        "# after transformation\n",
        "round(df['sex'].mean(), 2)"
      ]
    },
    {
      "cell_type": "code",
      "execution_count": null,
      "metadata": {
        "id": "ZaUreciLqVqP"
      },
      "outputs": [],
      "source": []
    },
    {
      "cell_type": "markdown",
      "metadata": {
        "id": "EoKJgu6gqVqP"
      },
      "source": [
        "13. How many instances in this data frame have different values on 'on thyroxine' and 'query on thyroxine'?"
      ]
    },
    {
      "cell_type": "code",
      "execution_count": null,
      "metadata": {
        "id": "Lxl4dEJRqVqQ",
        "outputId": "97dee4a0-3d0f-42f8-f80d-19004245df3b"
      },
      "outputs": [
        {
          "data": {
            "text/plain": [
              "1345"
            ]
          },
          "execution_count": 415,
          "metadata": {},
          "output_type": "execute_result"
        }
      ],
      "source": [
        "(df['on thyroxine'] != df['query on thyroxine']).sum()"
      ]
    },
    {
      "cell_type": "markdown",
      "metadata": {
        "id": "uxwix0vJqVqQ"
      },
      "source": [
        "14. Thyroxine, also knows as T4, is a type of thyroid hormone. The test measures the level of T4 in blood. Too much or too little T4 can indicate thyroid disease. Since we have other columns holding similar data, we will drop columns 'query on thyroxine' and 'on thyroxine' from the current data frame. After dropping these two columns, how manay columns do you have in your data frame?¶"
      ]
    },
    {
      "cell_type": "code",
      "execution_count": null,
      "metadata": {
        "id": "3eSRXLzcqVqQ",
        "outputId": "25d541cf-da7a-4667-d178-35a22df77509"
      },
      "outputs": [
        {
          "data": {
            "text/plain": [
              "28"
            ]
          },
          "execution_count": 416,
          "metadata": {},
          "output_type": "execute_result"
        }
      ],
      "source": [
        "df = df.drop(['query on thyroxine', 'on thyroxine'], axis=1)\n",
        "len(df.columns)"
      ]
    },
    {
      "cell_type": "markdown",
      "metadata": {
        "id": "G3biVlqCqVqR"
      },
      "source": [
        "15Apply a proper data transformation the the columns 'on antithyroid medication' and 'sick' to transform them into numerical columns. Then use a correlation function np.corrcoef to find the linear correlation coefficient of these two columns. Enther the correlation coefficient with two digits after the decimal point.¶"
      ]
    },
    {
      "cell_type": "code",
      "execution_count": null,
      "metadata": {
        "id": "ocUhhSbZqVqR"
      },
      "outputs": [],
      "source": [
        "columns = ['on antithyroid medication', 'sick']\n",
        "df[columns] = df[columns].replace({'f': 0, 't': 1})"
      ]
    },
    {
      "cell_type": "code",
      "execution_count": null,
      "metadata": {
        "id": "cROt82KhqVqR",
        "outputId": "6d66addc-ddca-4e74-f0c6-6e132cc3d56e"
      },
      "outputs": [
        {
          "data": {
            "text/plain": [
              "f    9003\n",
              "t     169\n",
              "Name: I131 treatment, dtype: int64"
            ]
          },
          "execution_count": 418,
          "metadata": {},
          "output_type": "execute_result"
        }
      ],
      "source": [
        "df['I131 treatment'].value_counts()"
      ]
    },
    {
      "cell_type": "markdown",
      "metadata": {
        "id": "oTgQBLpnqVqS"
      },
      "source": [
        "16. What is a proper data transformation on the column 'I131 treatment'? Apply the transformation on your data frame.¶"
      ]
    },
    {
      "cell_type": "code",
      "execution_count": null,
      "metadata": {
        "id": "6RVjuEwvqVqS"
      },
      "outputs": [],
      "source": [
        "df['I131 treatment'] = df['I131 treatment'].replace({'f': 0, 't': 1})"
      ]
    },
    {
      "cell_type": "code",
      "execution_count": null,
      "metadata": {
        "id": "LWTSsFhgqVqS",
        "outputId": "9c1da1a4-a794-4e29-bf44-b21936e4d0a5"
      },
      "outputs": [
        {
          "data": {
            "text/plain": [
              "f    9038\n",
              "t     134\n",
              "Name: thyroid surgery, dtype: int64"
            ]
          },
          "execution_count": 420,
          "metadata": {},
          "output_type": "execute_result"
        }
      ],
      "source": [
        "df['thyroid surgery'].value_counts() ##FAMELA 1"
      ]
    },
    {
      "cell_type": "markdown",
      "metadata": {
        "id": "LjypewnpqVqT"
      },
      "source": [
        "17. What is a propert data transformation on the column 'thyroid surgery'? Apply the transformation on your data frame"
      ]
    },
    {
      "cell_type": "code",
      "execution_count": null,
      "metadata": {
        "id": "aZwfFIz7qVqT"
      },
      "outputs": [],
      "source": [
        "df['thyroid surgery'] = df['thyroid surgery'].replace({'f': 0, 't': 1})"
      ]
    },
    {
      "cell_type": "code",
      "execution_count": null,
      "metadata": {
        "id": "cOBWHt3uqVqT",
        "outputId": "85c40923-b59b-42ef-e127-c683ea268925"
      },
      "outputs": [
        {
          "data": {
            "text/plain": [
              "f    9065\n",
              "t     107\n",
              "Name: pregnant, dtype: int64"
            ]
          },
          "execution_count": 422,
          "metadata": {},
          "output_type": "execute_result"
        }
      ],
      "source": [
        "df['pregnant'].value_counts()"
      ]
    },
    {
      "cell_type": "markdown",
      "metadata": {
        "id": "UYjaGkJ1qVqT"
      },
      "source": [
        "18. What is the propery data transformation on the column 'pregnant'? Apply the transformation on your data frame"
      ]
    },
    {
      "cell_type": "code",
      "execution_count": null,
      "metadata": {
        "id": "XMDVITM0qVqU"
      },
      "outputs": [],
      "source": [
        "df['pregnant'] = df['pregnant'].replace({'f': 0, 't': 1})"
      ]
    },
    {
      "cell_type": "code",
      "execution_count": null,
      "metadata": {
        "id": "5vwS2hggqVqU",
        "outputId": "4d9ee3de-60aa-462a-ced9-ba3559ebd2d5"
      },
      "outputs": [
        {
          "data": {
            "text/plain": [
              "f    8542\n",
              "t     630\n",
              "Name: query hypothyroid, dtype: int64"
            ]
          },
          "execution_count": 424,
          "metadata": {},
          "output_type": "execute_result"
        }
      ],
      "source": [
        "df['query hypothyroid'].value_counts()"
      ]
    },
    {
      "cell_type": "markdown",
      "metadata": {
        "id": "uWSmNeU6qVqU"
      },
      "source": [
        "19. What is the proper data transformation of the column 'query hypothyroid'? Apply the transformation on your data frame"
      ]
    },
    {
      "cell_type": "code",
      "execution_count": null,
      "metadata": {
        "id": "9YabFbQQqVqU"
      },
      "outputs": [],
      "source": [
        "df['query hypothyroid'] = df['query hypothyroid'].replace({'f': 0, 't': 1})"
      ]
    },
    {
      "cell_type": "code",
      "execution_count": null,
      "metadata": {
        "id": "40Ct_ChGqVqV",
        "outputId": "a1c9dfdf-aaa1-415b-cb81-707540099b78"
      },
      "outputs": [
        {
          "data": {
            "text/plain": [
              "f    8521\n",
              "t     651\n",
              "Name: query hyperthyroid, dtype: int64"
            ]
          },
          "execution_count": 426,
          "metadata": {},
          "output_type": "execute_result"
        }
      ],
      "source": [
        "df['query hyperthyroid'].value_counts()"
      ]
    },
    {
      "cell_type": "markdown",
      "metadata": {
        "id": "vEHQBAj_qVqV"
      },
      "source": [
        "20. What is the proper data transformation of the column 'query hyperthyroid'? Apply the transformation on your data frame"
      ]
    },
    {
      "cell_type": "code",
      "execution_count": null,
      "metadata": {
        "id": "pdYLuAUFqVqW"
      },
      "outputs": [],
      "source": [
        "df['query hyperthyroid'] = df['query hyperthyroid'].replace({'f': 0, 't': 1})"
      ]
    },
    {
      "cell_type": "code",
      "execution_count": null,
      "metadata": {
        "id": "JfPUap5GqVqW",
        "outputId": "c81b8c15-6c79-4f57-f7bd-928beadece18"
      },
      "outputs": [
        {
          "data": {
            "text/plain": [
              "f    9088\n",
              "t      84\n",
              "Name: goitre, dtype: int64"
            ]
          },
          "execution_count": 428,
          "metadata": {},
          "output_type": "execute_result"
        }
      ],
      "source": [
        "df['goitre'].value_counts()"
      ]
    },
    {
      "cell_type": "code",
      "execution_count": null,
      "metadata": {
        "id": "OYZuaEjDqVqW"
      },
      "outputs": [],
      "source": [
        "df['lithium'] = df['lithium'].replace({'f': 0, 't': 1})"
      ]
    },
    {
      "cell_type": "code",
      "execution_count": null,
      "metadata": {
        "id": "tdygsCl1qVqX"
      },
      "outputs": [],
      "source": []
    },
    {
      "cell_type": "code",
      "execution_count": null,
      "metadata": {
        "id": "BUSfmIRPqVqX"
      },
      "outputs": [],
      "source": [
        "df['goitre'] = df['goitre'].replace({'f': 0, 't': 1})"
      ]
    },
    {
      "cell_type": "code",
      "execution_count": null,
      "metadata": {
        "id": "ycw2W7-iqVqX",
        "outputId": "c7d61dc1-4cf8-4ef3-a457-9bae25b14174"
      },
      "outputs": [
        {
          "data": {
            "text/plain": [
              "f    8931\n",
              "t     241\n",
              "Name: tumor, dtype: int64"
            ]
          },
          "execution_count": 431,
          "metadata": {},
          "output_type": "execute_result"
        }
      ],
      "source": [
        "df['tumor'].value_counts()"
      ]
    },
    {
      "cell_type": "code",
      "execution_count": null,
      "metadata": {
        "id": "2rCT98YsqVqY"
      },
      "outputs": [],
      "source": [
        "df['tumor'] = df['tumor'].replace({'f': 0, 't': 1})"
      ]
    },
    {
      "cell_type": "code",
      "execution_count": null,
      "metadata": {
        "id": "kukB6r4WqVqY",
        "outputId": "698380de-f345-456e-dc78-a712f5506b73"
      },
      "outputs": [
        {
          "data": {
            "text/plain": [
              "f    8754\n",
              "t     418\n",
              "Name: psych, dtype: int64"
            ]
          },
          "execution_count": 433,
          "metadata": {},
          "output_type": "execute_result"
        }
      ],
      "source": [
        "df['psych'].value_counts()"
      ]
    },
    {
      "cell_type": "code",
      "execution_count": null,
      "metadata": {
        "id": "7sKmKRGOqVqY"
      },
      "outputs": [],
      "source": [
        "#25\n",
        "df['psych'] = df['psych'].replace({'f': 0, 't': 1})"
      ]
    },
    {
      "cell_type": "code",
      "execution_count": null,
      "metadata": {
        "id": "r9BYaG2RqVqZ",
        "outputId": "a0379878-2519-4724-e459-5f76a0d468c9"
      },
      "outputs": [
        {
          "data": {
            "text/plain": [
              "t    8330\n",
              "f     842\n",
              "Name: TSH measured, dtype: int64"
            ]
          },
          "execution_count": 435,
          "metadata": {},
          "output_type": "execute_result"
        }
      ],
      "source": [
        "df['TSH measured'].value_counts()###T IS ONE"
      ]
    },
    {
      "cell_type": "code",
      "execution_count": null,
      "metadata": {
        "id": "aRpuUAGHqVqZ"
      },
      "outputs": [],
      "source": [
        "df['TSH measured'] = df['TSH measured'].replace({'f': 0, 't': 1})"
      ]
    },
    {
      "cell_type": "markdown",
      "metadata": {
        "id": "EEbhvt5UqVqZ"
      },
      "source": [
        "27. If you study the data frame carefully, you can see that instances with 'TSH measured' values as 'f', have NaN values under the column 'TSH'. To impute missing values in this column, we will replace all the NaN values with 0. What is the column 'TSH' average after the data transformation? Enter the answer with two digits after the decimal point"
      ]
    },
    {
      "cell_type": "code",
      "execution_count": null,
      "metadata": {
        "id": "pYgsGg3xqVqa"
      },
      "outputs": [],
      "source": [
        "df['TSH'] = df['TSH'].fillna(0)\n",
        "\n",
        "df['TSH'] = pd.to_numeric(df['TSH'])"
      ]
    },
    {
      "cell_type": "code",
      "execution_count": null,
      "metadata": {
        "id": "x8L-8spcqVqa",
        "outputId": "8a58e088-3a91-4c8c-eedf-501112f172d4"
      },
      "outputs": [
        {
          "data": {
            "text/plain": [
              "4.74"
            ]
          },
          "execution_count": 438,
          "metadata": {},
          "output_type": "execute_result"
        }
      ],
      "source": [
        "round(df['TSH'].mean(), 2)"
      ]
    },
    {
      "cell_type": "markdown",
      "metadata": {
        "id": "vh-EohaxqVqa"
      },
      "source": [
        "28. To conclude this lab, run the info() function and enter the number of columns with datatype 'object'"
      ]
    },
    {
      "cell_type": "code",
      "execution_count": null,
      "metadata": {
        "id": "00okr884qVqb"
      },
      "outputs": [],
      "source": [
        "#df.info()##12 colums\n",
        "\n",
        "df1=df.select_dtypes(include=[object])\n"
      ]
    },
    {
      "cell_type": "code",
      "execution_count": null,
      "metadata": {
        "id": "3CK_56ySqVqb"
      },
      "outputs": [],
      "source": [
        "#df.info()"
      ]
    },
    {
      "cell_type": "code",
      "execution_count": null,
      "metadata": {
        "id": "HNM1mV79qVqb",
        "outputId": "9d7b4e4c-0a7e-4013-9695-c5bfb9a5efa3"
      },
      "outputs": [
        {
          "name": "stdout",
          "output_type": "stream",
          "text": [
            "<class 'pandas.core.frame.DataFrame'>\n",
            "RangeIndex: 9172 entries, 0 to 9171\n",
            "Data columns (total 12 columns):\n",
            " #   Column           Non-Null Count  Dtype \n",
            "---  ------           --------------  ----- \n",
            " 0   hypopituitary    9172 non-null   object\n",
            " 1   T3 measured      9172 non-null   object\n",
            " 2   T3               6568 non-null   object\n",
            " 3   TT4 measured     9172 non-null   object\n",
            " 4   TT4              8730 non-null   object\n",
            " 5   T4U measured     9172 non-null   object\n",
            " 6   T4U              8363 non-null   object\n",
            " 7   FTI measured     9172 non-null   object\n",
            " 8   FTI              8370 non-null   object\n",
            " 9   TBG measured     9172 non-null   object\n",
            " 10  TBG              349 non-null    object\n",
            " 11  referral source  9172 non-null   object\n",
            "dtypes: object(12)\n",
            "memory usage: 860.0+ KB\n"
          ]
        }
      ],
      "source": [
        "df1.info()\n"
      ]
    },
    {
      "cell_type": "markdown",
      "metadata": {
        "id": "McUiDaSSqVqc"
      },
      "source": [
        "10. What percentage of rows have at least one attribute flagged as missing value? Enter the answer as a value between 0 and 100, and two digits after the decimal point without the percent sign"
      ]
    },
    {
      "cell_type": "code",
      "execution_count": null,
      "metadata": {
        "id": "SnTT2mZ1qVqc",
        "outputId": "e6d6a760-f273-45d0-f273-3309aa5f6e7b"
      },
      "outputs": [
        {
          "name": "stdout",
          "output_type": "stream",
          "text": [
            "<class 'pandas.core.frame.DataFrame'>\n",
            "RangeIndex: 9172 entries, 0 to 9171\n",
            "Data columns (total 28 columns):\n",
            " #   Column                     Non-Null Count  Dtype  \n",
            "---  ------                     --------------  -----  \n",
            " 0   age                        9172 non-null   int64  \n",
            " 1   sex                        9172 non-null   int64  \n",
            " 2   on antithyroid medication  9172 non-null   int64  \n",
            " 3   sick                       9172 non-null   int64  \n",
            " 4   pregnant                   9172 non-null   int64  \n",
            " 5   thyroid surgery            9172 non-null   int64  \n",
            " 6   I131 treatment             9172 non-null   int64  \n",
            " 7   query hypothyroid          9172 non-null   int64  \n",
            " 8   query hyperthyroid         9172 non-null   int64  \n",
            " 9   lithium                    9172 non-null   int64  \n",
            " 10  goitre                     9172 non-null   int64  \n",
            " 11  tumor                      9172 non-null   int64  \n",
            " 12  hypopituitary              9172 non-null   object \n",
            " 13  psych                      9172 non-null   int64  \n",
            " 14  TSH measured               9172 non-null   int64  \n",
            " 15  TSH                        9172 non-null   float64\n",
            " 16  T3 measured                9172 non-null   object \n",
            " 17  T3                         6568 non-null   object \n",
            " 18  TT4 measured               9172 non-null   object \n",
            " 19  TT4                        8730 non-null   object \n",
            " 20  T4U measured               9172 non-null   object \n",
            " 21  T4U                        8363 non-null   object \n",
            " 22  FTI measured               9172 non-null   object \n",
            " 23  FTI                        8370 non-null   object \n",
            " 24  TBG measured               9172 non-null   object \n",
            " 25  TBG                        349 non-null    object \n",
            " 26  referral source            9172 non-null   object \n",
            " 27  y                          9172 non-null   int64  \n",
            "dtypes: float64(1), int64(15), object(12)\n",
            "memory usage: 2.0+ MB\n"
          ]
        }
      ],
      "source": [
        "df.info()"
      ]
    },
    {
      "cell_type": "code",
      "execution_count": null,
      "metadata": {
        "id": "KQxP1PmlqVqd",
        "outputId": "883ba2ca-e24e-4444-cca3-f4d0cdefcb0d"
      },
      "outputs": [
        {
          "data": {
            "text/plain": [
              "9140"
            ]
          },
          "execution_count": 443,
          "metadata": {},
          "output_type": "execute_result"
        }
      ],
      "source": [
        "(df.isna().sum(axis=1) >= 1).sum()"
      ]
    },
    {
      "cell_type": "code",
      "execution_count": null,
      "metadata": {
        "id": "awF_CQyfqVqd",
        "outputId": "276995be-7750-4f6d-faf2-5d51f4e3167a"
      },
      "outputs": [
        {
          "data": {
            "text/plain": [
              "99.65"
            ]
          },
          "execution_count": 444,
          "metadata": {},
          "output_type": "execute_result"
        }
      ],
      "source": [
        "round(((df.isna().sum(axis=1) >= 1).sum() / len(df)) * 100, 2)"
      ]
    },
    {
      "cell_type": "code",
      "execution_count": null,
      "metadata": {
        "id": "Vj3B16ijqVqd",
        "outputId": "38b0a1bb-8b2a-4149-eb03-47d2e7025823"
      },
      "outputs": [
        {
          "ename": "KeyError",
          "evalue": "'on thyroxine'",
          "output_type": "error",
          "traceback": [
            "\u001b[1;31m---------------------------------------------------------------------------\u001b[0m",
            "\u001b[1;31mKeyError\u001b[0m                                  Traceback (most recent call last)",
            "\u001b[1;32m~\\anaconda3\\lib\\site-packages\\pandas\\core\\indexes\\base.py\u001b[0m in \u001b[0;36mget_loc\u001b[1;34m(self, key, method, tolerance)\u001b[0m\n\u001b[0;32m   2894\u001b[0m             \u001b[1;32mtry\u001b[0m\u001b[1;33m:\u001b[0m\u001b[1;33m\u001b[0m\u001b[1;33m\u001b[0m\u001b[0m\n\u001b[1;32m-> 2895\u001b[1;33m                 \u001b[1;32mreturn\u001b[0m \u001b[0mself\u001b[0m\u001b[1;33m.\u001b[0m\u001b[0m_engine\u001b[0m\u001b[1;33m.\u001b[0m\u001b[0mget_loc\u001b[0m\u001b[1;33m(\u001b[0m\u001b[0mcasted_key\u001b[0m\u001b[1;33m)\u001b[0m\u001b[1;33m\u001b[0m\u001b[1;33m\u001b[0m\u001b[0m\n\u001b[0m\u001b[0;32m   2896\u001b[0m             \u001b[1;32mexcept\u001b[0m \u001b[0mKeyError\u001b[0m \u001b[1;32mas\u001b[0m \u001b[0merr\u001b[0m\u001b[1;33m:\u001b[0m\u001b[1;33m\u001b[0m\u001b[1;33m\u001b[0m\u001b[0m\n",
            "\u001b[1;32mpandas\\_libs\\index.pyx\u001b[0m in \u001b[0;36mpandas._libs.index.IndexEngine.get_loc\u001b[1;34m()\u001b[0m\n",
            "\u001b[1;32mpandas\\_libs\\index.pyx\u001b[0m in \u001b[0;36mpandas._libs.index.IndexEngine.get_loc\u001b[1;34m()\u001b[0m\n",
            "\u001b[1;32mpandas\\_libs\\hashtable_class_helper.pxi\u001b[0m in \u001b[0;36mpandas._libs.hashtable.PyObjectHashTable.get_item\u001b[1;34m()\u001b[0m\n",
            "\u001b[1;32mpandas\\_libs\\hashtable_class_helper.pxi\u001b[0m in \u001b[0;36mpandas._libs.hashtable.PyObjectHashTable.get_item\u001b[1;34m()\u001b[0m\n",
            "\u001b[1;31mKeyError\u001b[0m: 'on thyroxine'",
            "\nThe above exception was the direct cause of the following exception:\n",
            "\u001b[1;31mKeyError\u001b[0m                                  Traceback (most recent call last)",
            "\u001b[1;32m<ipython-input-445-4dccb703427a>\u001b[0m in \u001b[0;36m<module>\u001b[1;34m\u001b[0m\n\u001b[1;32m----> 1\u001b[1;33m \u001b[1;33m(\u001b[0m\u001b[0mdf\u001b[0m\u001b[1;33m[\u001b[0m\u001b[1;34m'on thyroxine'\u001b[0m\u001b[1;33m]\u001b[0m \u001b[1;33m!=\u001b[0m \u001b[0mdf\u001b[0m\u001b[1;33m[\u001b[0m\u001b[1;34m'query on thyroxine'\u001b[0m\u001b[1;33m]\u001b[0m\u001b[1;33m)\u001b[0m\u001b[1;33m.\u001b[0m\u001b[0msum\u001b[0m\u001b[1;33m(\u001b[0m\u001b[1;33m)\u001b[0m\u001b[1;33m\u001b[0m\u001b[1;33m\u001b[0m\u001b[0m\n\u001b[0m",
            "\u001b[1;32m~\\anaconda3\\lib\\site-packages\\pandas\\core\\frame.py\u001b[0m in \u001b[0;36m__getitem__\u001b[1;34m(self, key)\u001b[0m\n\u001b[0;32m   2900\u001b[0m             \u001b[1;32mif\u001b[0m \u001b[0mself\u001b[0m\u001b[1;33m.\u001b[0m\u001b[0mcolumns\u001b[0m\u001b[1;33m.\u001b[0m\u001b[0mnlevels\u001b[0m \u001b[1;33m>\u001b[0m \u001b[1;36m1\u001b[0m\u001b[1;33m:\u001b[0m\u001b[1;33m\u001b[0m\u001b[1;33m\u001b[0m\u001b[0m\n\u001b[0;32m   2901\u001b[0m                 \u001b[1;32mreturn\u001b[0m \u001b[0mself\u001b[0m\u001b[1;33m.\u001b[0m\u001b[0m_getitem_multilevel\u001b[0m\u001b[1;33m(\u001b[0m\u001b[0mkey\u001b[0m\u001b[1;33m)\u001b[0m\u001b[1;33m\u001b[0m\u001b[1;33m\u001b[0m\u001b[0m\n\u001b[1;32m-> 2902\u001b[1;33m             \u001b[0mindexer\u001b[0m \u001b[1;33m=\u001b[0m \u001b[0mself\u001b[0m\u001b[1;33m.\u001b[0m\u001b[0mcolumns\u001b[0m\u001b[1;33m.\u001b[0m\u001b[0mget_loc\u001b[0m\u001b[1;33m(\u001b[0m\u001b[0mkey\u001b[0m\u001b[1;33m)\u001b[0m\u001b[1;33m\u001b[0m\u001b[1;33m\u001b[0m\u001b[0m\n\u001b[0m\u001b[0;32m   2903\u001b[0m             \u001b[1;32mif\u001b[0m \u001b[0mis_integer\u001b[0m\u001b[1;33m(\u001b[0m\u001b[0mindexer\u001b[0m\u001b[1;33m)\u001b[0m\u001b[1;33m:\u001b[0m\u001b[1;33m\u001b[0m\u001b[1;33m\u001b[0m\u001b[0m\n\u001b[0;32m   2904\u001b[0m                 \u001b[0mindexer\u001b[0m \u001b[1;33m=\u001b[0m \u001b[1;33m[\u001b[0m\u001b[0mindexer\u001b[0m\u001b[1;33m]\u001b[0m\u001b[1;33m\u001b[0m\u001b[1;33m\u001b[0m\u001b[0m\n",
            "\u001b[1;32m~\\anaconda3\\lib\\site-packages\\pandas\\core\\indexes\\base.py\u001b[0m in \u001b[0;36mget_loc\u001b[1;34m(self, key, method, tolerance)\u001b[0m\n\u001b[0;32m   2895\u001b[0m                 \u001b[1;32mreturn\u001b[0m \u001b[0mself\u001b[0m\u001b[1;33m.\u001b[0m\u001b[0m_engine\u001b[0m\u001b[1;33m.\u001b[0m\u001b[0mget_loc\u001b[0m\u001b[1;33m(\u001b[0m\u001b[0mcasted_key\u001b[0m\u001b[1;33m)\u001b[0m\u001b[1;33m\u001b[0m\u001b[1;33m\u001b[0m\u001b[0m\n\u001b[0;32m   2896\u001b[0m             \u001b[1;32mexcept\u001b[0m \u001b[0mKeyError\u001b[0m \u001b[1;32mas\u001b[0m \u001b[0merr\u001b[0m\u001b[1;33m:\u001b[0m\u001b[1;33m\u001b[0m\u001b[1;33m\u001b[0m\u001b[0m\n\u001b[1;32m-> 2897\u001b[1;33m                 \u001b[1;32mraise\u001b[0m \u001b[0mKeyError\u001b[0m\u001b[1;33m(\u001b[0m\u001b[0mkey\u001b[0m\u001b[1;33m)\u001b[0m \u001b[1;32mfrom\u001b[0m \u001b[0merr\u001b[0m\u001b[1;33m\u001b[0m\u001b[1;33m\u001b[0m\u001b[0m\n\u001b[0m\u001b[0;32m   2898\u001b[0m \u001b[1;33m\u001b[0m\u001b[0m\n\u001b[0;32m   2899\u001b[0m         \u001b[1;32mif\u001b[0m \u001b[0mtolerance\u001b[0m \u001b[1;32mis\u001b[0m \u001b[1;32mnot\u001b[0m \u001b[1;32mNone\u001b[0m\u001b[1;33m:\u001b[0m\u001b[1;33m\u001b[0m\u001b[1;33m\u001b[0m\u001b[0m\n",
            "\u001b[1;31mKeyError\u001b[0m: 'on thyroxine'"
          ]
        }
      ],
      "source": [
        "(df['on thyroxine'] != df['query on thyroxine']).sum()"
      ]
    },
    {
      "cell_type": "markdown",
      "metadata": {
        "id": "3eeYgT4GqVqe"
      },
      "source": [
        "# lab 2"
      ]
    },
    {
      "cell_type": "code",
      "execution_count": null,
      "metadata": {
        "id": "nxNFtbroqVqe",
        "outputId": "5c13c4f1-5b90-4e95-c954-d593e4ecc9f2"
      },
      "outputs": [
        {
          "data": {
            "text/plain": [
              "442"
            ]
          },
          "execution_count": 446,
          "metadata": {},
          "output_type": "execute_result"
        }
      ],
      "source": [
        "df['TT4'].isnull().sum()"
      ]
    },
    {
      "cell_type": "code",
      "execution_count": null,
      "metadata": {
        "id": "C-_x9W8cqVqe"
      },
      "outputs": [],
      "source": [
        "df['TT4']=df['TT4'].replace(np.nan,0)\n"
      ]
    },
    {
      "cell_type": "code",
      "execution_count": null,
      "metadata": {
        "id": "_JAmXxe5qVqf"
      },
      "outputs": [],
      "source": [
        "df['TT4'] = pd.to_numeric(df['TT4'])"
      ]
    },
    {
      "cell_type": "code",
      "execution_count": null,
      "metadata": {
        "id": "moBWeSHyqVqf",
        "outputId": "4cb1f400-2dca-4172-cf08-13ecf38902c2"
      },
      "outputs": [
        {
          "data": {
            "text/plain": [
              "103.46202136938508"
            ]
          },
          "execution_count": 449,
          "metadata": {},
          "output_type": "execute_result"
        }
      ],
      "source": [
        "df['TT4'].mean()"
      ]
    },
    {
      "cell_type": "code",
      "execution_count": null,
      "metadata": {
        "id": "9tjRA9ZAqVqf",
        "outputId": "f6d541af-9440-477c-e56f-75ee9e104248"
      },
      "outputs": [
        {
          "data": {
            "text/plain": [
              "0         0.0\n",
              "1       128.0\n",
              "2         0.0\n",
              "3         0.0\n",
              "4         0.0\n",
              "        ...  \n",
              "9167     64.0\n",
              "9168     91.0\n",
              "9169    113.0\n",
              "9170     75.0\n",
              "9171     66.0\n",
              "Name: TT4, Length: 9172, dtype: float64"
            ]
          },
          "execution_count": 450,
          "metadata": {},
          "output_type": "execute_result"
        }
      ],
      "source": [
        "df['TT4']"
      ]
    },
    {
      "cell_type": "code",
      "execution_count": null,
      "metadata": {
        "id": "1UONp8zYqVqg",
        "outputId": "d2b70918-e728-44e2-fa1e-f37fe3f3bc70"
      },
      "outputs": [
        {
          "data": {
            "text/plain": [
              "t    8730\n",
              "f     442\n",
              "Name: TT4 measured, dtype: int64"
            ]
          },
          "execution_count": 390,
          "metadata": {},
          "output_type": "execute_result"
        }
      ],
      "source": [
        "df['TT4 measured'].value_counts()"
      ]
    },
    {
      "cell_type": "code",
      "execution_count": null,
      "metadata": {
        "id": "qYMGf7jyqVqg"
      },
      "outputs": [],
      "source": [
        "df['TT4 measured'] = df['TT4 measured'].replace({'f': 0, 't': 1})"
      ]
    },
    {
      "cell_type": "code",
      "execution_count": null,
      "metadata": {
        "id": "bbOZcY8SqVqg"
      },
      "outputs": [],
      "source": [
        "#"
      ]
    },
    {
      "cell_type": "code",
      "execution_count": null,
      "metadata": {
        "id": "jjROAgPkqVqh",
        "outputId": "140002f3-f9ca-47ac-9bb0-a5353334a2cf"
      },
      "outputs": [
        {
          "data": {
            "text/plain": [
              "t    6568\n",
              "f    2604\n",
              "Name: T3 measured, dtype: int64"
            ]
          },
          "execution_count": 58,
          "metadata": {},
          "output_type": "execute_result"
        }
      ],
      "source": [
        "#3\n",
        "df['T3 measured'].value_counts()\n"
      ]
    },
    {
      "cell_type": "code",
      "execution_count": null,
      "metadata": {
        "id": "_Ik-q21oqVqh"
      },
      "outputs": [],
      "source": [
        "df['T3 measured'] = df['T3 measured'].replace({'f': 0, 't': 1})"
      ]
    },
    {
      "cell_type": "code",
      "execution_count": null,
      "metadata": {
        "id": "pMxlh2IOqVqh",
        "outputId": "1f8e029f-8f56-4de7-b80e-d30ad161301d"
      },
      "outputs": [
        {
          "data": {
            "text/plain": [
              "1.4111524199738308"
            ]
          },
          "execution_count": 452,
          "metadata": {},
          "output_type": "execute_result"
        }
      ],
      "source": [
        "df['T3']=df['T3'].replace(np.nan,0)\n",
        "df['T3'] = pd.to_numeric(df['T3'])\n",
        "df['T3'].mean()"
      ]
    },
    {
      "cell_type": "code",
      "execution_count": null,
      "metadata": {
        "id": "rxNhQfmOqVqi",
        "outputId": "a030a8b9-2146-41fe-e321-acff55394690"
      },
      "outputs": [
        {
          "data": {
            "text/plain": [
              "t    8363\n",
              "f     809\n",
              "Name: T4U measured, dtype: int64"
            ]
          },
          "execution_count": 60,
          "metadata": {},
          "output_type": "execute_result"
        }
      ],
      "source": [
        "#5\n",
        "df['T4U measured'].value_counts()\n"
      ]
    },
    {
      "cell_type": "code",
      "execution_count": null,
      "metadata": {
        "id": "TWO30baaqVqi"
      },
      "outputs": [],
      "source": [
        "df['T4U measured'] = df['T4U measured'].replace({'f': 0, 't': 1})"
      ]
    },
    {
      "cell_type": "code",
      "execution_count": null,
      "metadata": {
        "id": "-TuHJqTmqVqi",
        "outputId": "97021b19-6651-456b-c1bc-acf7a461606e"
      },
      "outputs": [
        {
          "data": {
            "text/plain": [
              "0.8899644570431716"
            ]
          },
          "execution_count": 453,
          "metadata": {},
          "output_type": "execute_result"
        }
      ],
      "source": [
        "df['T4U']=df['T4U'].replace(np.nan,0)\n",
        "df['T4U'] = pd.to_numeric(df['T4U'])\n",
        "df['T4U'].mean()"
      ]
    },
    {
      "cell_type": "code",
      "execution_count": null,
      "metadata": {
        "id": "M00y25PaqVqj",
        "outputId": "cc94d094-d6df-4c51-ec9a-86b5227123bd"
      },
      "outputs": [
        {
          "data": {
            "text/plain": [
              "f    8823\n",
              "t     349\n",
              "Name: TBG measured, dtype: int64"
            ]
          },
          "execution_count": 62,
          "metadata": {},
          "output_type": "execute_result"
        }
      ],
      "source": [
        "#9\n",
        "\n",
        "df['TBG measured'].value_counts() ##f 1"
      ]
    },
    {
      "cell_type": "code",
      "execution_count": null,
      "metadata": {
        "id": "0cjZt4adqVqj"
      },
      "outputs": [],
      "source": [
        "df['TBG measured'] = df['TBG measured'].replace({'f': 0, 't': 1})"
      ]
    },
    {
      "cell_type": "code",
      "execution_count": null,
      "metadata": {
        "id": "y4aJb-blqVqj",
        "outputId": "9d3cfabe-beb1-4f4f-875c-adf447989291"
      },
      "outputs": [
        {
          "data": {
            "text/plain": [
              "1.136573266027039"
            ]
          },
          "execution_count": 454,
          "metadata": {},
          "output_type": "execute_result"
        }
      ],
      "source": [
        "df['TBG']=df['TBG'].replace(np.nan,0)\n",
        "df['TBG'] = pd.to_numeric(df['TBG'])\n",
        "df['TBG'].mean()"
      ]
    },
    {
      "cell_type": "markdown",
      "metadata": {
        "id": "4LW72aKFqVqj"
      },
      "source": [
        "# q11"
      ]
    },
    {
      "cell_type": "code",
      "execution_count": null,
      "metadata": {
        "id": "akuwxKQfqVqj",
        "outputId": "58a9b1a9-44a3-469b-e4c2-6435b8de70fd"
      },
      "outputs": [
        {
          "data": {
            "text/plain": [
              "other    5493\n",
              "SVI      2394\n",
              "SVHC      956\n",
              "STMW      255\n",
              "SVHD       71\n",
              "WEST        3\n",
              "Name: referral source, dtype: int64"
            ]
          },
          "execution_count": 69,
          "metadata": {},
          "output_type": "execute_result"
        }
      ],
      "source": [
        "df['referral source'].value_counts()"
      ]
    },
    {
      "cell_type": "code",
      "execution_count": null,
      "metadata": {
        "id": "C15o1XRVqVqk",
        "outputId": "b62ec5d1-6509-443c-d200-53bed7b52889"
      },
      "outputs": [
        {
          "data": {
            "text/plain": [
              "t    8370\n",
              "f     802\n",
              "Name: FTI measured, dtype: int64"
            ]
          },
          "execution_count": 70,
          "metadata": {},
          "output_type": "execute_result"
        }
      ],
      "source": [
        "df['FTI measured'].value_counts()"
      ]
    },
    {
      "cell_type": "code",
      "execution_count": null,
      "metadata": {
        "id": "00wAzaPGqVqk"
      },
      "outputs": [],
      "source": [
        "df['FTI measured'] = df['FTI measured'].replace({'f': 0, 't': 1})"
      ]
    },
    {
      "cell_type": "code",
      "execution_count": null,
      "metadata": {
        "id": "W-0O0-kEqVqk",
        "outputId": "9d317d87-b296-4118-d6b3-67b1a0b31493"
      },
      "outputs": [
        {
          "data": {
            "text/plain": [
              "103.70399476635413"
            ]
          },
          "execution_count": 455,
          "metadata": {},
          "output_type": "execute_result"
        }
      ],
      "source": [
        "df['FTI']=df['FTI'].replace(np.nan,0)\n",
        "df['FTI'] = pd.to_numeric(df['FTI'])\n",
        "df['FTI'].mean()"
      ]
    },
    {
      "cell_type": "code",
      "execution_count": null,
      "metadata": {
        "id": "Y51uAwrLqVqk",
        "outputId": "4cb5cade-30ee-4732-b579-8e66e97b1348"
      },
      "outputs": [
        {
          "data": {
            "text/plain": [
              "60       209\n",
              "62       208\n",
              "72       207\n",
              "59       201\n",
              "61       192\n",
              "        ... \n",
              "5          2\n",
              "65526      1\n",
              "65511      1\n",
              "455        1\n",
              "65512      1\n",
              "Name: age, Length: 100, dtype: int64"
            ]
          },
          "execution_count": 456,
          "metadata": {},
          "output_type": "execute_result"
        }
      ],
      "source": [
        "df['age'].value_counts()"
      ]
    },
    {
      "cell_type": "code",
      "execution_count": null,
      "metadata": {
        "id": "zYOKLvXxqVql"
      },
      "outputs": [],
      "source": []
    },
    {
      "cell_type": "code",
      "execution_count": null,
      "metadata": {
        "id": "dEXNLduHqVql"
      },
      "outputs": [],
      "source": []
    }
  ],
  "metadata": {
    "kernelspec": {
      "display_name": "Python 3",
      "language": "python",
      "name": "python3"
    },
    "language_info": {
      "codemirror_mode": {
        "name": "ipython",
        "version": 3
      },
      "file_extension": ".py",
      "mimetype": "text/x-python",
      "name": "python",
      "nbconvert_exporter": "python",
      "pygments_lexer": "ipython3",
      "version": "3.8.5"
    },
    "colab": {
      "provenance": [],
      "include_colab_link": true
    }
  },
  "nbformat": 4,
  "nbformat_minor": 0
}