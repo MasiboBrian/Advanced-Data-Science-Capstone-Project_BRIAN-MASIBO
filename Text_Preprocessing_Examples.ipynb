{
  "nbformat": 4,
  "nbformat_minor": 0,
  "metadata": {
    "kernelspec": {
      "display_name": "Python 3",
      "language": "python",
      "name": "python3"
    },
    "language_info": {
      "codemirror_mode": {
        "name": "ipython",
        "version": 3
      },
      "file_extension": ".py",
      "mimetype": "text/x-python",
      "name": "python",
      "nbconvert_exporter": "python",
      "pygments_lexer": "ipython3",
      "version": "3.6.5"
    },
    "colab": {
      "provenance": [],
      "include_colab_link": true
    }
  },
  "cells": [
    {
      "cell_type": "markdown",
      "metadata": {
        "id": "view-in-github",
        "colab_type": "text"
      },
      "source": [
        "<a href=\"https://colab.research.google.com/github/MasiboBrian/AirBNB-Price-Prediction/blob/master/Text_Preprocessing_Examples.ipynb\" target=\"_parent\"><img src=\"https://colab.research.google.com/assets/colab-badge.svg\" alt=\"Open In Colab\"/></a>"
      ]
    },
    {
      "cell_type": "markdown",
      "metadata": {
        "id": "gk9jELJrpDOW"
      },
      "source": [
        "# Code tidbits for preprocessing texts"
      ]
    },
    {
      "cell_type": "markdown",
      "metadata": {
        "id": "SWWlmowSpDOc"
      },
      "source": [
        "## Lowercasing"
      ]
    },
    {
      "cell_type": "code",
      "metadata": {
        "id": "-_ea8CqxpDOd",
        "outputId": "3ac851b9-101d-42e3-e642-257ce7390f73",
        "colab": {
          "base_uri": "https://localhost:8080/"
        }
      },
      "source": [
        "texts=[\"CANADA\",\"Canada\",\"canadA\",\"canada\"]\n",
        "lower_words=[word.lower() for word in texts]\n",
        "lower_words"
      ],
      "execution_count": null,
      "outputs": [
        {
          "output_type": "execute_result",
          "data": {
            "text/plain": [
              "['canada', 'canada', 'canada', 'canada']"
            ]
          },
          "metadata": {},
          "execution_count": 1
        }
      ]
    },
    {
      "cell_type": "markdown",
      "metadata": {
        "id": "1dL_2QsEpDOf"
      },
      "source": [
        "## Stemming"
      ]
    },
    {
      "cell_type": "code",
      "metadata": {
        "id": "b3Fy-nocpDOg"
      },
      "source": [
        "import nltk\n",
        "import pandas as pd\n",
        "from nltk.stem import PorterStemmer\n",
        "\n",
        "# init stemmer\n",
        "porter_stemmer=PorterStemmer()"
      ],
      "execution_count": null,
      "outputs": []
    },
    {
      "cell_type": "code",
      "metadata": {
        "id": "BzeoIixxpDOg",
        "outputId": "c206a1ec-2a06-442f-b279-62b21d735f22",
        "colab": {
          "base_uri": "https://localhost:8080/",
          "height": 204
        }
      },
      "source": [
        "# stem connect variations\n",
        "words=[\"connect\",\"connected\",\"connection\",\"connections\",\"connects\"]\n",
        "stemmed_words=[porter_stemmer.stem(word=word) for word in words]\n",
        "\n",
        "stemdf= pd.DataFrame({'original_word': words,'stemmed_word': stemmed_words})\n",
        "stemdf"
      ],
      "execution_count": null,
      "outputs": [
        {
          "output_type": "execute_result",
          "data": {
            "text/html": [
              "<div>\n",
              "<style scoped>\n",
              "    .dataframe tbody tr th:only-of-type {\n",
              "        vertical-align: middle;\n",
              "    }\n",
              "\n",
              "    .dataframe tbody tr th {\n",
              "        vertical-align: top;\n",
              "    }\n",
              "\n",
              "    .dataframe thead th {\n",
              "        text-align: right;\n",
              "    }\n",
              "</style>\n",
              "<table border=\"1\" class=\"dataframe\">\n",
              "  <thead>\n",
              "    <tr style=\"text-align: right;\">\n",
              "      <th></th>\n",
              "      <th>original_word</th>\n",
              "      <th>stemmed_word</th>\n",
              "    </tr>\n",
              "  </thead>\n",
              "  <tbody>\n",
              "    <tr>\n",
              "      <th>0</th>\n",
              "      <td>connect</td>\n",
              "      <td>connect</td>\n",
              "    </tr>\n",
              "    <tr>\n",
              "      <th>1</th>\n",
              "      <td>connected</td>\n",
              "      <td>connect</td>\n",
              "    </tr>\n",
              "    <tr>\n",
              "      <th>2</th>\n",
              "      <td>connection</td>\n",
              "      <td>connect</td>\n",
              "    </tr>\n",
              "    <tr>\n",
              "      <th>3</th>\n",
              "      <td>connections</td>\n",
              "      <td>connect</td>\n",
              "    </tr>\n",
              "    <tr>\n",
              "      <th>4</th>\n",
              "      <td>connects</td>\n",
              "      <td>connect</td>\n",
              "    </tr>\n",
              "  </tbody>\n",
              "</table>\n",
              "</div>"
            ],
            "text/plain": [
              "  original_word stemmed_word\n",
              "0       connect      connect\n",
              "1     connected      connect\n",
              "2    connection      connect\n",
              "3   connections      connect\n",
              "4      connects      connect"
            ]
          },
          "metadata": {},
          "execution_count": 3
        }
      ]
    },
    {
      "cell_type": "code",
      "metadata": {
        "id": "GIt5f3ZNpDOh",
        "outputId": "d05a27df-033e-445e-fbb5-47aa46bfaf97",
        "colab": {
          "base_uri": "https://localhost:8080/",
          "height": 173
        }
      },
      "source": [
        "# stem trouble variations\n",
        "words=[\"trouble\",\"troubled\",\"troubles\",\"troublemsome\"]\n",
        "stemmed_words=[porter_stemmer.stem(word=word) for word in words]\n",
        "\n",
        "stemdf= pd.DataFrame({'original_word': words,'stemmed_word': stemmed_words})\n",
        "stemdf"
      ],
      "execution_count": null,
      "outputs": [
        {
          "output_type": "execute_result",
          "data": {
            "text/html": [
              "<div>\n",
              "<style scoped>\n",
              "    .dataframe tbody tr th:only-of-type {\n",
              "        vertical-align: middle;\n",
              "    }\n",
              "\n",
              "    .dataframe tbody tr th {\n",
              "        vertical-align: top;\n",
              "    }\n",
              "\n",
              "    .dataframe thead th {\n",
              "        text-align: right;\n",
              "    }\n",
              "</style>\n",
              "<table border=\"1\" class=\"dataframe\">\n",
              "  <thead>\n",
              "    <tr style=\"text-align: right;\">\n",
              "      <th></th>\n",
              "      <th>original_word</th>\n",
              "      <th>stemmed_word</th>\n",
              "    </tr>\n",
              "  </thead>\n",
              "  <tbody>\n",
              "    <tr>\n",
              "      <th>0</th>\n",
              "      <td>trouble</td>\n",
              "      <td>troubl</td>\n",
              "    </tr>\n",
              "    <tr>\n",
              "      <th>1</th>\n",
              "      <td>troubled</td>\n",
              "      <td>troubl</td>\n",
              "    </tr>\n",
              "    <tr>\n",
              "      <th>2</th>\n",
              "      <td>troubles</td>\n",
              "      <td>troubl</td>\n",
              "    </tr>\n",
              "    <tr>\n",
              "      <th>3</th>\n",
              "      <td>troublemsome</td>\n",
              "      <td>troublemsom</td>\n",
              "    </tr>\n",
              "  </tbody>\n",
              "</table>\n",
              "</div>"
            ],
            "text/plain": [
              "  original_word stemmed_word\n",
              "0       trouble       troubl\n",
              "1      troubled       troubl\n",
              "2      troubles       troubl\n",
              "3  troublemsome  troublemsom"
            ]
          },
          "metadata": {},
          "execution_count": 4
        }
      ]
    },
    {
      "cell_type": "markdown",
      "metadata": {
        "id": "sKEmERNrpDOi"
      },
      "source": [
        "## Lemmatization"
      ]
    },
    {
      "cell_type": "code",
      "metadata": {
        "id": "qgncZC3HpDOj",
        "outputId": "0e53d0b5-7c64-495c-dd96-53f05ec4f310",
        "colab": {
          "base_uri": "https://localhost:8080/"
        }
      },
      "source": [
        "from nltk.stem import WordNetLemmatizer\n",
        "nltk.download('wordnet')\n",
        "\n",
        "# init lemmatizer\n",
        "lemmatizer = WordNetLemmatizer()\n"
      ],
      "execution_count": null,
      "outputs": [
        {
          "output_type": "stream",
          "name": "stdout",
          "text": [
            "[nltk_data] Downloading package wordnet to /root/nltk_data...\n",
            "[nltk_data]   Unzipping corpora/wordnet.zip.\n"
          ]
        }
      ]
    },
    {
      "cell_type": "code",
      "metadata": {
        "id": "b_bscjpWpDOk",
        "outputId": "ca20af99-a257-42da-effb-8f1b835c4a90",
        "colab": {
          "base_uri": "https://localhost:8080/",
          "height": 173
        }
      },
      "source": [
        "#lemmatize trouble variations\n",
        "words=[\"trouble\",\"troubling\",\"troubled\",\"troubles\",]\n",
        "lemmatized_words=[lemmatizer.lemmatize(word=word,pos='v') for word in words]\n",
        "lemmatizeddf= pd.DataFrame({'original_word': words,'lemmatized_word': lemmatized_words})\n",
        "lemmatizeddf=lemmatizeddf[['original_word','lemmatized_word']]\n",
        "lemmatizeddf"
      ],
      "execution_count": null,
      "outputs": [
        {
          "output_type": "execute_result",
          "data": {
            "text/html": [
              "<div>\n",
              "<style scoped>\n",
              "    .dataframe tbody tr th:only-of-type {\n",
              "        vertical-align: middle;\n",
              "    }\n",
              "\n",
              "    .dataframe tbody tr th {\n",
              "        vertical-align: top;\n",
              "    }\n",
              "\n",
              "    .dataframe thead th {\n",
              "        text-align: right;\n",
              "    }\n",
              "</style>\n",
              "<table border=\"1\" class=\"dataframe\">\n",
              "  <thead>\n",
              "    <tr style=\"text-align: right;\">\n",
              "      <th></th>\n",
              "      <th>original_word</th>\n",
              "      <th>lemmatized_word</th>\n",
              "    </tr>\n",
              "  </thead>\n",
              "  <tbody>\n",
              "    <tr>\n",
              "      <th>0</th>\n",
              "      <td>trouble</td>\n",
              "      <td>trouble</td>\n",
              "    </tr>\n",
              "    <tr>\n",
              "      <th>1</th>\n",
              "      <td>troubling</td>\n",
              "      <td>trouble</td>\n",
              "    </tr>\n",
              "    <tr>\n",
              "      <th>2</th>\n",
              "      <td>troubled</td>\n",
              "      <td>trouble</td>\n",
              "    </tr>\n",
              "    <tr>\n",
              "      <th>3</th>\n",
              "      <td>troubles</td>\n",
              "      <td>trouble</td>\n",
              "    </tr>\n",
              "  </tbody>\n",
              "</table>\n",
              "</div>"
            ],
            "text/plain": [
              "  original_word lemmatized_word\n",
              "0       trouble         trouble\n",
              "1     troubling         trouble\n",
              "2      troubled         trouble\n",
              "3      troubles         trouble"
            ]
          },
          "metadata": {},
          "execution_count": 6
        }
      ]
    },
    {
      "cell_type": "code",
      "metadata": {
        "id": "GBsu6_SxpDOl",
        "outputId": "58e079b0-b2a4-4564-ba9b-d5ad5a3553bc",
        "colab": {
          "base_uri": "https://localhost:8080/",
          "height": 111
        }
      },
      "source": [
        "#lemmatize goose variations\n",
        "words=[\"goose\",\"geese\"]\n",
        "lemmatized_words=[lemmatizer.lemmatize(word=word,pos='n') for word in words]\n",
        "lemmatizeddf= pd.DataFrame({'original_word': words,'lemmatized_word': lemmatized_words})\n",
        "lemmatizeddf=lemmatizeddf[['original_word','lemmatized_word']]\n",
        "lemmatizeddf"
      ],
      "execution_count": null,
      "outputs": [
        {
          "output_type": "execute_result",
          "data": {
            "text/html": [
              "<div>\n",
              "<style scoped>\n",
              "    .dataframe tbody tr th:only-of-type {\n",
              "        vertical-align: middle;\n",
              "    }\n",
              "\n",
              "    .dataframe tbody tr th {\n",
              "        vertical-align: top;\n",
              "    }\n",
              "\n",
              "    .dataframe thead th {\n",
              "        text-align: right;\n",
              "    }\n",
              "</style>\n",
              "<table border=\"1\" class=\"dataframe\">\n",
              "  <thead>\n",
              "    <tr style=\"text-align: right;\">\n",
              "      <th></th>\n",
              "      <th>original_word</th>\n",
              "      <th>lemmatized_word</th>\n",
              "    </tr>\n",
              "  </thead>\n",
              "  <tbody>\n",
              "    <tr>\n",
              "      <th>0</th>\n",
              "      <td>goose</td>\n",
              "      <td>goose</td>\n",
              "    </tr>\n",
              "    <tr>\n",
              "      <th>1</th>\n",
              "      <td>geese</td>\n",
              "      <td>goose</td>\n",
              "    </tr>\n",
              "  </tbody>\n",
              "</table>\n",
              "</div>"
            ],
            "text/plain": [
              "  original_word lemmatized_word\n",
              "0         goose           goose\n",
              "1         geese           goose"
            ]
          },
          "metadata": {},
          "execution_count": 7
        }
      ]
    },
    {
      "cell_type": "markdown",
      "metadata": {
        "id": "rsfr7d2ppDOl"
      },
      "source": [
        "## Stop Word Removal"
      ]
    },
    {
      "cell_type": "code",
      "metadata": {
        "id": "Mmvlm03_pDOm"
      },
      "source": [
        "stopwords=['this','that','and','a','we','it','to','is','of','up','need']\n",
        "text=\"this is a text full of content and we need to clean it up\""
      ],
      "execution_count": null,
      "outputs": []
    },
    {
      "cell_type": "code",
      "metadata": {
        "id": "MMU0WOiapDOm",
        "outputId": "3fae04aa-79a3-4c30-c744-5ace7031b7e1",
        "colab": {
          "base_uri": "https://localhost:8080/"
        }
      },
      "source": [
        "words=text.split(\" \")\n",
        "shortlisted_words=[]\n",
        "\n",
        "#remove stop words\n",
        "for w in words:\n",
        "    if w not in stopwords:\n",
        "        shortlisted_words.append(w)\n",
        "    else:\n",
        "        shortlisted_words.append(\"W\")\n",
        "\n",
        "print(\"original sentence = \",text)\n",
        "print(\"sentence with stop words removed= \",' '.join(shortlisted_words))"
      ],
      "execution_count": null,
      "outputs": [
        {
          "output_type": "stream",
          "name": "stdout",
          "text": [
            "original sentence =  this is a text full of content and we need to clean it up\n",
            "sentence with stop words removed=  W W W text full W content W W W W clean W W\n"
          ]
        }
      ]
    },
    {
      "cell_type": "markdown",
      "metadata": {
        "id": "WBMzAqaEpDOn"
      },
      "source": [
        "## Noise Removal\n"
      ]
    },
    {
      "cell_type": "code",
      "metadata": {
        "id": "JILpEfUCpDOn"
      },
      "source": [
        "import nltk\n",
        "import pandas as pd\n",
        "import re\n",
        "from nltk.stem import PorterStemmer\n",
        "\n",
        "porter_stemmer=PorterStemmer()\n"
      ],
      "execution_count": null,
      "outputs": []
    },
    {
      "cell_type": "code",
      "metadata": {
        "id": "z2zakg70pDOn",
        "outputId": "8e592cf6-2672-4381-9037-32c094de9f20",
        "colab": {
          "base_uri": "https://localhost:8080/",
          "height": 204
        }
      },
      "source": [
        "# stem raw words with noise\n",
        "raw_words=[\"..trouble..\",\"trouble<\",\"trouble!\",\"<a>trouble</a>\",'1.trouble']\n",
        "stemmed_words=[porter_stemmer.stem(word=word) for word in raw_words]\n",
        "stemdf= pd.DataFrame({'raw_word': raw_words,'stemmed_word': stemmed_words})\n",
        "stemdf"
      ],
      "execution_count": null,
      "outputs": [
        {
          "output_type": "execute_result",
          "data": {
            "text/html": [
              "<div>\n",
              "<style scoped>\n",
              "    .dataframe tbody tr th:only-of-type {\n",
              "        vertical-align: middle;\n",
              "    }\n",
              "\n",
              "    .dataframe tbody tr th {\n",
              "        vertical-align: top;\n",
              "    }\n",
              "\n",
              "    .dataframe thead th {\n",
              "        text-align: right;\n",
              "    }\n",
              "</style>\n",
              "<table border=\"1\" class=\"dataframe\">\n",
              "  <thead>\n",
              "    <tr style=\"text-align: right;\">\n",
              "      <th></th>\n",
              "      <th>raw_word</th>\n",
              "      <th>stemmed_word</th>\n",
              "    </tr>\n",
              "  </thead>\n",
              "  <tbody>\n",
              "    <tr>\n",
              "      <th>0</th>\n",
              "      <td>..trouble..</td>\n",
              "      <td>..trouble..</td>\n",
              "    </tr>\n",
              "    <tr>\n",
              "      <th>1</th>\n",
              "      <td>trouble&lt;</td>\n",
              "      <td>trouble&lt;</td>\n",
              "    </tr>\n",
              "    <tr>\n",
              "      <th>2</th>\n",
              "      <td>trouble!</td>\n",
              "      <td>trouble!</td>\n",
              "    </tr>\n",
              "    <tr>\n",
              "      <th>3</th>\n",
              "      <td>&lt;a&gt;trouble&lt;/a&gt;</td>\n",
              "      <td>&lt;a&gt;trouble&lt;/a&gt;</td>\n",
              "    </tr>\n",
              "    <tr>\n",
              "      <th>4</th>\n",
              "      <td>1.trouble</td>\n",
              "      <td>1.troubl</td>\n",
              "    </tr>\n",
              "  </tbody>\n",
              "</table>\n",
              "</div>"
            ],
            "text/plain": [
              "         raw_word    stemmed_word\n",
              "0     ..trouble..     ..trouble..\n",
              "1        trouble<        trouble<\n",
              "2        trouble!        trouble!\n",
              "3  <a>trouble</a>  <a>trouble</a>\n",
              "4       1.trouble        1.troubl"
            ]
          },
          "metadata": {},
          "execution_count": 11
        }
      ]
    },
    {
      "cell_type": "code",
      "metadata": {
        "id": "IpffICH0pDOo"
      },
      "source": [
        "def scrub_words(text):\n",
        "    \"\"\"Basic cleaning of texts.\"\"\"\n",
        "\n",
        "    # remove html markup\n",
        "    text=re.sub(\"(<.*?>)\",\"\",text)\n",
        "\n",
        "    #remove non-ascii and digits\n",
        "    text=re.sub(\"(\\\\W|\\\\d)\",\" \",text)\n",
        "\n",
        "    #remove whitespace\n",
        "    text=text.strip()\n",
        "    return text"
      ],
      "execution_count": null,
      "outputs": []
    },
    {
      "cell_type": "code",
      "metadata": {
        "id": "71Qt1Am2pDOo",
        "outputId": "3f341348-ed29-4342-d2d8-a82474445a87",
        "colab": {
          "base_uri": "https://localhost:8080/",
          "height": 204
        }
      },
      "source": [
        "# stem words already cleaned\n",
        "cleaned_words=[scrub_words(w) for w in raw_words]\n",
        "cleaned_stemmed_words=[porter_stemmer.stem(word=word) for word in cleaned_words]\n",
        "stemdf= pd.DataFrame({'raw_word': raw_words,'cleaned_word':cleaned_words,'stemmed_word': cleaned_stemmed_words})\n",
        "stemdf=stemdf[['raw_word','cleaned_word','stemmed_word']]\n",
        "stemdf"
      ],
      "execution_count": null,
      "outputs": [
        {
          "output_type": "execute_result",
          "data": {
            "text/html": [
              "<div>\n",
              "<style scoped>\n",
              "    .dataframe tbody tr th:only-of-type {\n",
              "        vertical-align: middle;\n",
              "    }\n",
              "\n",
              "    .dataframe tbody tr th {\n",
              "        vertical-align: top;\n",
              "    }\n",
              "\n",
              "    .dataframe thead th {\n",
              "        text-align: right;\n",
              "    }\n",
              "</style>\n",
              "<table border=\"1\" class=\"dataframe\">\n",
              "  <thead>\n",
              "    <tr style=\"text-align: right;\">\n",
              "      <th></th>\n",
              "      <th>raw_word</th>\n",
              "      <th>cleaned_word</th>\n",
              "      <th>stemmed_word</th>\n",
              "    </tr>\n",
              "  </thead>\n",
              "  <tbody>\n",
              "    <tr>\n",
              "      <th>0</th>\n",
              "      <td>..trouble..</td>\n",
              "      <td>trouble</td>\n",
              "      <td>troubl</td>\n",
              "    </tr>\n",
              "    <tr>\n",
              "      <th>1</th>\n",
              "      <td>trouble&lt;</td>\n",
              "      <td>trouble</td>\n",
              "      <td>troubl</td>\n",
              "    </tr>\n",
              "    <tr>\n",
              "      <th>2</th>\n",
              "      <td>trouble!</td>\n",
              "      <td>trouble</td>\n",
              "      <td>troubl</td>\n",
              "    </tr>\n",
              "    <tr>\n",
              "      <th>3</th>\n",
              "      <td>&lt;a&gt;trouble&lt;/a&gt;</td>\n",
              "      <td>trouble</td>\n",
              "      <td>troubl</td>\n",
              "    </tr>\n",
              "    <tr>\n",
              "      <th>4</th>\n",
              "      <td>1.trouble</td>\n",
              "      <td>trouble</td>\n",
              "      <td>troubl</td>\n",
              "    </tr>\n",
              "  </tbody>\n",
              "</table>\n",
              "</div>"
            ],
            "text/plain": [
              "         raw_word cleaned_word stemmed_word\n",
              "0     ..trouble..      trouble       troubl\n",
              "1        trouble<      trouble       troubl\n",
              "2        trouble!      trouble       troubl\n",
              "3  <a>trouble</a>      trouble       troubl\n",
              "4       1.trouble      trouble       troubl"
            ]
          },
          "metadata": {},
          "execution_count": 13
        }
      ]
    }
  ]
}