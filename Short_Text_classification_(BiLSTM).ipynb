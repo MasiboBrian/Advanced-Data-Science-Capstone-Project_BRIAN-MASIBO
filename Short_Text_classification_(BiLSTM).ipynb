{
  "cells": [
    {
      "cell_type": "markdown",
      "metadata": {
        "id": "view-in-github",
        "colab_type": "text"
      },
      "source": [
        "<a href=\"https://colab.research.google.com/github/MasiboBrian/AirBNB-Price-Prediction/blob/master/Short_Text_classification_(BiLSTM).ipynb\" target=\"_parent\"><img src=\"https://colab.research.google.com/assets/colab-badge.svg\" alt=\"Open In Colab\"/></a>"
      ]
    },
    {
      "cell_type": "markdown",
      "source": [
        "\n",
        "## BiLSM\n",
        "\n",
        "\n"
      ],
      "metadata": {
        "id": "8nZ1cnx3H35v"
      }
    },
    {
      "cell_type": "code",
      "execution_count": null,
      "metadata": {
        "colab": {
          "base_uri": "https://localhost:8080/"
        },
        "id": "ssn0gBDu6WZX",
        "outputId": "48c14d16-981c-405a-af8b-6e82329d59e9"
      },
      "outputs": [
        {
          "output_type": "stream",
          "name": "stdout",
          "text": [
            "[nltk_data] Downloading package stopwords to /root/nltk_data...\n",
            "[nltk_data]   Unzipping corpora/stopwords.zip.\n"
          ]
        }
      ],
      "source": [
        "import numpy as np\n",
        "import pandas as pd\n",
        "import matplotlib.pyplot as plt\n",
        "import seaborn as sns\n",
        "from keras.preprocessing.text import Tokenizer\n",
        "from keras.preprocessing.sequence import pad_sequences\n",
        "from keras.models import Sequential\n",
        "from keras.layers import Dense, Embedding, Conv1D, GlobalMaxPooling1D, Bidirectional, LSTM\n",
        "from sklearn.model_selection import train_test_split\n",
        "from keras.utils.np_utils import to_categorical\n",
        "from keras.callbacks import EarlyStopping\n",
        "from keras.layers import Dropout\n",
        "import re\n",
        "from nltk.corpus import stopwords\n",
        "from nltk import word_tokenize\n",
        "import nltk\n",
        "nltk.download('stopwords')\n",
        "STOPWORDS = set(stopwords.words('english'))"
      ]
    },
    {
      "cell_type": "code",
      "execution_count": null,
      "metadata": {
        "id": "SRGNtvYQ6WZf"
      },
      "outputs": [],
      "source": [
        "#df1 = pd.read_csv('/content/labeled_data.csv')\n",
        "df1 = pd.read_csv('/content/Train.csv')"
      ]
    },
    {
      "cell_type": "code",
      "execution_count": null,
      "metadata": {
        "colab": {
          "base_uri": "https://localhost:8080/",
          "height": 206
        },
        "id": "RILcBX8j6WZg",
        "outputId": "7576c942-be15-4ca8-ebdf-1178e27b2bf0"
      },
      "outputs": [
        {
          "output_type": "execute_result",
          "data": {
            "text/plain": [
              "      id      label     sublabel      country  \\\n",
              "0    833  Terrorism       Biowar   California   \n",
              "1   6932     attack     massacre      Houston   \n",
              "2  10505       Fire     wildfire  New Jersey    \n",
              "3   5780       fire  forest fire    australia   \n",
              "4   4511  emergency          NaN  New Jersey    \n",
              "\n",
              "                                                text  \n",
              "0  USA TODAY: .@FedEx will no longer to transport...  \n",
              "1  Another White mass murderer. Thank God I live ...  \n",
              "2  California is battling its scariest 2015 wildf...  \n",
              "3  U.S. Forest Service says spending more than ha...  \n",
              "4  God forbid anyone in my family knows how to an...  "
            ],
            "text/html": [
              "\n",
              "  <div id=\"df-ea9e0687-d871-448a-bb50-75f136789877\">\n",
              "    <div class=\"colab-df-container\">\n",
              "      <div>\n",
              "<style scoped>\n",
              "    .dataframe tbody tr th:only-of-type {\n",
              "        vertical-align: middle;\n",
              "    }\n",
              "\n",
              "    .dataframe tbody tr th {\n",
              "        vertical-align: top;\n",
              "    }\n",
              "\n",
              "    .dataframe thead th {\n",
              "        text-align: right;\n",
              "    }\n",
              "</style>\n",
              "<table border=\"1\" class=\"dataframe\">\n",
              "  <thead>\n",
              "    <tr style=\"text-align: right;\">\n",
              "      <th></th>\n",
              "      <th>id</th>\n",
              "      <th>label</th>\n",
              "      <th>sublabel</th>\n",
              "      <th>country</th>\n",
              "      <th>text</th>\n",
              "    </tr>\n",
              "  </thead>\n",
              "  <tbody>\n",
              "    <tr>\n",
              "      <th>0</th>\n",
              "      <td>833</td>\n",
              "      <td>Terrorism</td>\n",
              "      <td>Biowar</td>\n",
              "      <td>California</td>\n",
              "      <td>USA TODAY: .@FedEx will no longer to transport...</td>\n",
              "    </tr>\n",
              "    <tr>\n",
              "      <th>1</th>\n",
              "      <td>6932</td>\n",
              "      <td>attack</td>\n",
              "      <td>massacre</td>\n",
              "      <td>Houston</td>\n",
              "      <td>Another White mass murderer. Thank God I live ...</td>\n",
              "    </tr>\n",
              "    <tr>\n",
              "      <th>2</th>\n",
              "      <td>10505</td>\n",
              "      <td>Fire</td>\n",
              "      <td>wildfire</td>\n",
              "      <td>New Jersey</td>\n",
              "      <td>California is battling its scariest 2015 wildf...</td>\n",
              "    </tr>\n",
              "    <tr>\n",
              "      <th>3</th>\n",
              "      <td>5780</td>\n",
              "      <td>fire</td>\n",
              "      <td>forest fire</td>\n",
              "      <td>australia</td>\n",
              "      <td>U.S. Forest Service says spending more than ha...</td>\n",
              "    </tr>\n",
              "    <tr>\n",
              "      <th>4</th>\n",
              "      <td>4511</td>\n",
              "      <td>emergency</td>\n",
              "      <td>NaN</td>\n",
              "      <td>New Jersey</td>\n",
              "      <td>God forbid anyone in my family knows how to an...</td>\n",
              "    </tr>\n",
              "  </tbody>\n",
              "</table>\n",
              "</div>\n",
              "      <button class=\"colab-df-convert\" onclick=\"convertToInteractive('df-ea9e0687-d871-448a-bb50-75f136789877')\"\n",
              "              title=\"Convert this dataframe to an interactive table.\"\n",
              "              style=\"display:none;\">\n",
              "        \n",
              "  <svg xmlns=\"http://www.w3.org/2000/svg\" height=\"24px\"viewBox=\"0 0 24 24\"\n",
              "       width=\"24px\">\n",
              "    <path d=\"M0 0h24v24H0V0z\" fill=\"none\"/>\n",
              "    <path d=\"M18.56 5.44l.94 2.06.94-2.06 2.06-.94-2.06-.94-.94-2.06-.94 2.06-2.06.94zm-11 1L8.5 8.5l.94-2.06 2.06-.94-2.06-.94L8.5 2.5l-.94 2.06-2.06.94zm10 10l.94 2.06.94-2.06 2.06-.94-2.06-.94-.94-2.06-.94 2.06-2.06.94z\"/><path d=\"M17.41 7.96l-1.37-1.37c-.4-.4-.92-.59-1.43-.59-.52 0-1.04.2-1.43.59L10.3 9.45l-7.72 7.72c-.78.78-.78 2.05 0 2.83L4 21.41c.39.39.9.59 1.41.59.51 0 1.02-.2 1.41-.59l7.78-7.78 2.81-2.81c.8-.78.8-2.07 0-2.86zM5.41 20L4 18.59l7.72-7.72 1.47 1.35L5.41 20z\"/>\n",
              "  </svg>\n",
              "      </button>\n",
              "      \n",
              "  <style>\n",
              "    .colab-df-container {\n",
              "      display:flex;\n",
              "      flex-wrap:wrap;\n",
              "      gap: 12px;\n",
              "    }\n",
              "\n",
              "    .colab-df-convert {\n",
              "      background-color: #E8F0FE;\n",
              "      border: none;\n",
              "      border-radius: 50%;\n",
              "      cursor: pointer;\n",
              "      display: none;\n",
              "      fill: #1967D2;\n",
              "      height: 32px;\n",
              "      padding: 0 0 0 0;\n",
              "      width: 32px;\n",
              "    }\n",
              "\n",
              "    .colab-df-convert:hover {\n",
              "      background-color: #E2EBFA;\n",
              "      box-shadow: 0px 1px 2px rgba(60, 64, 67, 0.3), 0px 1px 3px 1px rgba(60, 64, 67, 0.15);\n",
              "      fill: #174EA6;\n",
              "    }\n",
              "\n",
              "    [theme=dark] .colab-df-convert {\n",
              "      background-color: #3B4455;\n",
              "      fill: #D2E3FC;\n",
              "    }\n",
              "\n",
              "    [theme=dark] .colab-df-convert:hover {\n",
              "      background-color: #434B5C;\n",
              "      box-shadow: 0px 1px 3px 1px rgba(0, 0, 0, 0.15);\n",
              "      filter: drop-shadow(0px 1px 2px rgba(0, 0, 0, 0.3));\n",
              "      fill: #FFFFFF;\n",
              "    }\n",
              "  </style>\n",
              "\n",
              "      <script>\n",
              "        const buttonEl =\n",
              "          document.querySelector('#df-ea9e0687-d871-448a-bb50-75f136789877 button.colab-df-convert');\n",
              "        buttonEl.style.display =\n",
              "          google.colab.kernel.accessAllowed ? 'block' : 'none';\n",
              "\n",
              "        async function convertToInteractive(key) {\n",
              "          const element = document.querySelector('#df-ea9e0687-d871-448a-bb50-75f136789877');\n",
              "          const dataTable =\n",
              "            await google.colab.kernel.invokeFunction('convertToInteractive',\n",
              "                                                     [key], {});\n",
              "          if (!dataTable) return;\n",
              "\n",
              "          const docLinkHtml = 'Like what you see? Visit the ' +\n",
              "            '<a target=\"_blank\" href=https://colab.research.google.com/notebooks/data_table.ipynb>data table notebook</a>'\n",
              "            + ' to learn more about interactive tables.';\n",
              "          element.innerHTML = '';\n",
              "          dataTable['output_type'] = 'display_data';\n",
              "          await google.colab.output.renderOutput(dataTable, element);\n",
              "          const docLink = document.createElement('div');\n",
              "          docLink.innerHTML = docLinkHtml;\n",
              "          element.appendChild(docLink);\n",
              "        }\n",
              "      </script>\n",
              "    </div>\n",
              "  </div>\n",
              "  "
            ]
          },
          "metadata": {},
          "execution_count": 3
        }
      ],
      "source": [
        "df1.head()"
      ]
    },
    {
      "cell_type": "code",
      "execution_count": null,
      "metadata": {
        "colab": {
          "base_uri": "https://localhost:8080/",
          "height": 363
        },
        "id": "PxSk66gn6WZj",
        "outputId": "2f7e03f8-be71-490d-cf12-08ef96cb300f"
      },
      "outputs": [
        {
          "output_type": "execute_result",
          "data": {
            "text/plain": [
              "       id      label           sublabel      country  \\\n",
              "0     833  Terrorism             Biowar   California   \n",
              "1    6932     attack           massacre      Houston   \n",
              "2   10505       Fire           wildfire  New Jersey    \n",
              "3    5780       fire        forest fire    australia   \n",
              "5    6573   Hospital             injury    australia   \n",
              "6     213   accident  airplane accident      Nigeria   \n",
              "7    8061     Police             rescue        Japan   \n",
              "8    2770   Pandemic             curfew        Japan   \n",
              "9    8180     Police             rescue      England   \n",
              "10  10364  Terrorism            weapons        Japan   \n",
              "\n",
              "                                                 text  \n",
              "0   USA TODAY: .@FedEx will no longer to transport...  \n",
              "1   Another White mass murderer. Thank God I live ...  \n",
              "2   California is battling its scariest 2015 wildf...  \n",
              "3   U.S. Forest Service says spending more than ha...  \n",
              "5   @JJ_DIRTY @MLSTransfers @greggmair oh Gio was ...  \n",
              "6   I almost sent my coworker nudes on accident th...  \n",
              "7   Don't Panik! #KelbyTomlinson to the rescue! ht...  \n",
              "8   Her curfew will start right after her private ...  \n",
              "9   VIDEO: 'We're picking up bodies from water': R...  \n",
              "10  Your Router is One of the Latest DDoS Attack W...  "
            ],
            "text/html": [
              "\n",
              "  <div id=\"df-721fef6f-1738-4fe4-bf5a-d27eff7889ab\">\n",
              "    <div class=\"colab-df-container\">\n",
              "      <div>\n",
              "<style scoped>\n",
              "    .dataframe tbody tr th:only-of-type {\n",
              "        vertical-align: middle;\n",
              "    }\n",
              "\n",
              "    .dataframe tbody tr th {\n",
              "        vertical-align: top;\n",
              "    }\n",
              "\n",
              "    .dataframe thead th {\n",
              "        text-align: right;\n",
              "    }\n",
              "</style>\n",
              "<table border=\"1\" class=\"dataframe\">\n",
              "  <thead>\n",
              "    <tr style=\"text-align: right;\">\n",
              "      <th></th>\n",
              "      <th>id</th>\n",
              "      <th>label</th>\n",
              "      <th>sublabel</th>\n",
              "      <th>country</th>\n",
              "      <th>text</th>\n",
              "    </tr>\n",
              "  </thead>\n",
              "  <tbody>\n",
              "    <tr>\n",
              "      <th>0</th>\n",
              "      <td>833</td>\n",
              "      <td>Terrorism</td>\n",
              "      <td>Biowar</td>\n",
              "      <td>California</td>\n",
              "      <td>USA TODAY: .@FedEx will no longer to transport...</td>\n",
              "    </tr>\n",
              "    <tr>\n",
              "      <th>1</th>\n",
              "      <td>6932</td>\n",
              "      <td>attack</td>\n",
              "      <td>massacre</td>\n",
              "      <td>Houston</td>\n",
              "      <td>Another White mass murderer. Thank God I live ...</td>\n",
              "    </tr>\n",
              "    <tr>\n",
              "      <th>2</th>\n",
              "      <td>10505</td>\n",
              "      <td>Fire</td>\n",
              "      <td>wildfire</td>\n",
              "      <td>New Jersey</td>\n",
              "      <td>California is battling its scariest 2015 wildf...</td>\n",
              "    </tr>\n",
              "    <tr>\n",
              "      <th>3</th>\n",
              "      <td>5780</td>\n",
              "      <td>fire</td>\n",
              "      <td>forest fire</td>\n",
              "      <td>australia</td>\n",
              "      <td>U.S. Forest Service says spending more than ha...</td>\n",
              "    </tr>\n",
              "    <tr>\n",
              "      <th>5</th>\n",
              "      <td>6573</td>\n",
              "      <td>Hospital</td>\n",
              "      <td>injury</td>\n",
              "      <td>australia</td>\n",
              "      <td>@JJ_DIRTY @MLSTransfers @greggmair oh Gio was ...</td>\n",
              "    </tr>\n",
              "    <tr>\n",
              "      <th>6</th>\n",
              "      <td>213</td>\n",
              "      <td>accident</td>\n",
              "      <td>airplane accident</td>\n",
              "      <td>Nigeria</td>\n",
              "      <td>I almost sent my coworker nudes on accident th...</td>\n",
              "    </tr>\n",
              "    <tr>\n",
              "      <th>7</th>\n",
              "      <td>8061</td>\n",
              "      <td>Police</td>\n",
              "      <td>rescue</td>\n",
              "      <td>Japan</td>\n",
              "      <td>Don't Panik! #KelbyTomlinson to the rescue! ht...</td>\n",
              "    </tr>\n",
              "    <tr>\n",
              "      <th>8</th>\n",
              "      <td>2770</td>\n",
              "      <td>Pandemic</td>\n",
              "      <td>curfew</td>\n",
              "      <td>Japan</td>\n",
              "      <td>Her curfew will start right after her private ...</td>\n",
              "    </tr>\n",
              "    <tr>\n",
              "      <th>9</th>\n",
              "      <td>8180</td>\n",
              "      <td>Police</td>\n",
              "      <td>rescue</td>\n",
              "      <td>England</td>\n",
              "      <td>VIDEO: 'We're picking up bodies from water': R...</td>\n",
              "    </tr>\n",
              "    <tr>\n",
              "      <th>10</th>\n",
              "      <td>10364</td>\n",
              "      <td>Terrorism</td>\n",
              "      <td>weapons</td>\n",
              "      <td>Japan</td>\n",
              "      <td>Your Router is One of the Latest DDoS Attack W...</td>\n",
              "    </tr>\n",
              "  </tbody>\n",
              "</table>\n",
              "</div>\n",
              "      <button class=\"colab-df-convert\" onclick=\"convertToInteractive('df-721fef6f-1738-4fe4-bf5a-d27eff7889ab')\"\n",
              "              title=\"Convert this dataframe to an interactive table.\"\n",
              "              style=\"display:none;\">\n",
              "        \n",
              "  <svg xmlns=\"http://www.w3.org/2000/svg\" height=\"24px\"viewBox=\"0 0 24 24\"\n",
              "       width=\"24px\">\n",
              "    <path d=\"M0 0h24v24H0V0z\" fill=\"none\"/>\n",
              "    <path d=\"M18.56 5.44l.94 2.06.94-2.06 2.06-.94-2.06-.94-.94-2.06-.94 2.06-2.06.94zm-11 1L8.5 8.5l.94-2.06 2.06-.94-2.06-.94L8.5 2.5l-.94 2.06-2.06.94zm10 10l.94 2.06.94-2.06 2.06-.94-2.06-.94-.94-2.06-.94 2.06-2.06.94z\"/><path d=\"M17.41 7.96l-1.37-1.37c-.4-.4-.92-.59-1.43-.59-.52 0-1.04.2-1.43.59L10.3 9.45l-7.72 7.72c-.78.78-.78 2.05 0 2.83L4 21.41c.39.39.9.59 1.41.59.51 0 1.02-.2 1.41-.59l7.78-7.78 2.81-2.81c.8-.78.8-2.07 0-2.86zM5.41 20L4 18.59l7.72-7.72 1.47 1.35L5.41 20z\"/>\n",
              "  </svg>\n",
              "      </button>\n",
              "      \n",
              "  <style>\n",
              "    .colab-df-container {\n",
              "      display:flex;\n",
              "      flex-wrap:wrap;\n",
              "      gap: 12px;\n",
              "    }\n",
              "\n",
              "    .colab-df-convert {\n",
              "      background-color: #E8F0FE;\n",
              "      border: none;\n",
              "      border-radius: 50%;\n",
              "      cursor: pointer;\n",
              "      display: none;\n",
              "      fill: #1967D2;\n",
              "      height: 32px;\n",
              "      padding: 0 0 0 0;\n",
              "      width: 32px;\n",
              "    }\n",
              "\n",
              "    .colab-df-convert:hover {\n",
              "      background-color: #E2EBFA;\n",
              "      box-shadow: 0px 1px 2px rgba(60, 64, 67, 0.3), 0px 1px 3px 1px rgba(60, 64, 67, 0.15);\n",
              "      fill: #174EA6;\n",
              "    }\n",
              "\n",
              "    [theme=dark] .colab-df-convert {\n",
              "      background-color: #3B4455;\n",
              "      fill: #D2E3FC;\n",
              "    }\n",
              "\n",
              "    [theme=dark] .colab-df-convert:hover {\n",
              "      background-color: #434B5C;\n",
              "      box-shadow: 0px 1px 3px 1px rgba(0, 0, 0, 0.15);\n",
              "      filter: drop-shadow(0px 1px 2px rgba(0, 0, 0, 0.3));\n",
              "      fill: #FFFFFF;\n",
              "    }\n",
              "  </style>\n",
              "\n",
              "      <script>\n",
              "        const buttonEl =\n",
              "          document.querySelector('#df-721fef6f-1738-4fe4-bf5a-d27eff7889ab button.colab-df-convert');\n",
              "        buttonEl.style.display =\n",
              "          google.colab.kernel.accessAllowed ? 'block' : 'none';\n",
              "\n",
              "        async function convertToInteractive(key) {\n",
              "          const element = document.querySelector('#df-721fef6f-1738-4fe4-bf5a-d27eff7889ab');\n",
              "          const dataTable =\n",
              "            await google.colab.kernel.invokeFunction('convertToInteractive',\n",
              "                                                     [key], {});\n",
              "          if (!dataTable) return;\n",
              "\n",
              "          const docLinkHtml = 'Like what you see? Visit the ' +\n",
              "            '<a target=\"_blank\" href=https://colab.research.google.com/notebooks/data_table.ipynb>data table notebook</a>'\n",
              "            + ' to learn more about interactive tables.';\n",
              "          element.innerHTML = '';\n",
              "          dataTable['output_type'] = 'display_data';\n",
              "          await google.colab.output.renderOutput(dataTable, element);\n",
              "          const docLink = document.createElement('div');\n",
              "          docLink.innerHTML = docLinkHtml;\n",
              "          element.appendChild(docLink);\n",
              "        }\n",
              "      </script>\n",
              "    </div>\n",
              "  </div>\n",
              "  "
            ]
          },
          "metadata": {},
          "execution_count": 4
        }
      ],
      "source": [
        "df1 = df1.dropna()\n",
        "df1.head(10)"
      ]
    },
    {
      "cell_type": "code",
      "source": [
        "text = df1\n",
        "text['label'] = text['label'].replace(['police'],'Police')\n",
        "text['label'] = text['label'].replace(['attack'],'Attack')\n",
        "text['label'] = text['label'].replace(['fire'],'Fire')\n",
        "\n",
        "text.label.unique()"
      ],
      "metadata": {
        "colab": {
          "base_uri": "https://localhost:8080/"
        },
        "id": "UpOyluBBvlWa",
        "outputId": "f6d609a2-6e62-40dc-e369-26e41efc9a94"
      },
      "execution_count": null,
      "outputs": [
        {
          "output_type": "execute_result",
          "data": {
            "text/plain": [
              "array(['Terrorism', 'Attack', 'Fire', 'Hospital', 'accident', 'Police',\n",
              "       'Pandemic', 'emergency'], dtype=object)"
            ]
          },
          "metadata": {},
          "execution_count": 8
        }
      ]
    },
    {
      "cell_type": "code",
      "source": [
        "text.sublabel.unique()"
      ],
      "metadata": {
        "colab": {
          "base_uri": "https://localhost:8080/"
        },
        "id": "HPnanCnOv451",
        "outputId": "1bb9d1ce-408e-4736-848c-a1d39b051add"
      },
      "execution_count": null,
      "outputs": [
        {
          "output_type": "execute_result",
          "data": {
            "text/plain": [
              "array(['Biowar', 'massacre', 'wildfire', 'forest fire', 'injury',\n",
              "       'airplane accident', 'rescue', 'curfew', 'weapons', 'riot',\n",
              "       'smoke', 'collapse', 'Terrorist', 'army', 'scream', 'fire truck',\n",
              "       'outbreak', 'chemical emergency', 'suicid bombing',\n",
              "       'emergency plan', 'quarantine', 'military', 'wounds', 'ambulance'],\n",
              "      dtype=object)"
            ]
          },
          "metadata": {},
          "execution_count": 9
        }
      ]
    },
    {
      "cell_type": "code",
      "execution_count": null,
      "metadata": {
        "id": "0y0joYWR6WZm"
      },
      "outputs": [],
      "source": [
        "df = text.reset_index(drop=True)\n",
        "REPLACE_BY_SPACE_RE = re.compile('[/(){}\\[\\]\\|@,;]')\n",
        "BAD_SYMBOLS_RE = re.compile('[^0-9a-z #+_]')\n",
        "STOPWORDS = set(stopwords.words('english'))\n",
        "\n",
        "def clean_text(text):\n",
        "    \"\"\"\n",
        "        text: a string\n",
        "\n",
        "        return: modified initial string\n",
        "    \"\"\"\n",
        "    text = text.lower() # lowercase text\n",
        "    text = REPLACE_BY_SPACE_RE.sub(' ', text) # replace REPLACE_BY_SPACE_RE symbols by space in text. substitute the matched string in REPLACE_BY_SPACE_RE with space.\n",
        "    text = BAD_SYMBOLS_RE.sub('', text) # remove symbols which are in BAD_SYMBOLS_RE from text. substitute the matched string in BAD_SYMBOLS_RE with nothing.\n",
        "    text = text.replace('x', '')\n",
        "#    text = re.sub(r'\\W+', '', text)\n",
        "    text = ' '.join(word for word in text.split() if word not in STOPWORDS) # remove stopwors from text\n",
        "    return text\n",
        "df['tweet'] = df['tweet'].apply(clean_text)"
      ]
    },
    {
      "cell_type": "code",
      "execution_count": null,
      "metadata": {
        "colab": {
          "base_uri": "https://localhost:8080/"
        },
        "id": "hlXAKSa66WZn",
        "outputId": "69437d25-5a52-4877-e494-188a94998fa3"
      },
      "outputs": [
        {
          "output_type": "stream",
          "name": "stderr",
          "text": [
            "/usr/local/lib/python3.7/dist-packages/ipykernel_launcher.py:1: FutureWarning: The default value of regex will change from True to False in a future version.\n",
            "  \"\"\"Entry point for launching an IPython kernel.\n"
          ]
        }
      ],
      "source": [
        "df['tweet'] = df['tweet'].str.replace('\\d+', '')"
      ]
    },
    {
      "cell_type": "code",
      "execution_count": null,
      "metadata": {
        "colab": {
          "base_uri": "https://localhost:8080/"
        },
        "id": "HBy0xd3X6WZo",
        "outputId": "8f481ae5-2713-4af2-b27b-b7270fb8858f"
      },
      "outputs": [
        {
          "output_type": "stream",
          "name": "stdout",
          "text": [
            "Found 6886 unique tokens.\n"
          ]
        }
      ],
      "source": [
        "# The maximum number of words to be used. (most frequent)\n",
        "MAX_NB_WORDS = 50000\n",
        "# Max number of words in each tweet.\n",
        "MAX_SEQUENCE_LENGTH = 10\n",
        "# This is fixed.\n",
        "EMBEDDING_DIM = 100\n",
        "\n",
        "tokenizer = Tokenizer(num_words=MAX_NB_WORDS, filters='!\"#$%&()*+,-./:;<=>?@[\\]^_`{|}~', lower=True)\n",
        "tokenizer.fit_on_texts(df['tweet'].values)\n",
        "word_index = tokenizer.word_index\n",
        "print('Found %s unique tokens.' % len(word_index))"
      ]
    },
    {
      "cell_type": "code",
      "execution_count": null,
      "metadata": {
        "colab": {
          "base_uri": "https://localhost:8080/"
        },
        "id": "LpDgYWgM6WZq",
        "outputId": "21baac91-bdd7-4122-da2c-ddc0d4cd806d"
      },
      "outputs": [
        {
          "output_type": "stream",
          "name": "stdout",
          "text": [
            "Shape of data tensor: (1724, 10)\n"
          ]
        }
      ],
      "source": [
        "X = tokenizer.texts_to_sequences(df['tweet'].values)\n",
        "X = pad_sequences(X, maxlen=MAX_SEQUENCE_LENGTH)\n",
        "print('Shape of data tensor:', X.shape)\n"
      ]
    },
    {
      "cell_type": "code",
      "source": [
        "Y = df.drop(['id','country','text','tweet'], axis = 1)"
      ],
      "metadata": {
        "id": "cDnR4JEW_fR4"
      },
      "execution_count": null,
      "outputs": []
    },
    {
      "cell_type": "code",
      "source": [
        "type(X)"
      ],
      "metadata": {
        "colab": {
          "base_uri": "https://localhost:8080/"
        },
        "id": "5hGen8kXDaW8",
        "outputId": "9cec3d21-9d0a-4104-eb3c-fdfe4e3ff359"
      },
      "execution_count": null,
      "outputs": [
        {
          "output_type": "execute_result",
          "data": {
            "text/plain": [
              "numpy.ndarray"
            ]
          },
          "metadata": {},
          "execution_count": 14
        }
      ]
    },
    {
      "cell_type": "code",
      "source": [
        "type(Y)"
      ],
      "metadata": {
        "colab": {
          "base_uri": "https://localhost:8080/"
        },
        "id": "MnA0lmxUyRuS",
        "outputId": "5c60c4bf-db2e-481c-839d-658d6d7a8588"
      },
      "execution_count": null,
      "outputs": [
        {
          "output_type": "execute_result",
          "data": {
            "text/plain": [
              "pandas.core.frame.DataFrame"
            ]
          },
          "metadata": {},
          "execution_count": 15
        }
      ]
    },
    {
      "cell_type": "code",
      "source": [
        "Y = pd.get_dummies(data=Y, columns = Y.columns)\n",
        "Y"
      ],
      "metadata": {
        "colab": {
          "base_uri": "https://localhost:8080/",
          "height": 505
        },
        "id": "MMQqBWEHw5eP",
        "outputId": "85776608-eef6-4cb3-f719-818624770196"
      },
      "execution_count": null,
      "outputs": [
        {
          "output_type": "execute_result",
          "data": {
            "text/plain": [
              "      label_Attack  label_Fire  label_Hospital  label_Pandemic  label_Police  \\\n",
              "0                0           0               0               0             0   \n",
              "1                1           0               0               0             0   \n",
              "2                0           1               0               0             0   \n",
              "3                0           1               0               0             0   \n",
              "4                0           0               1               0             0   \n",
              "...            ...         ...             ...             ...           ...   \n",
              "1719             1           0               0               0             0   \n",
              "1720             0           0               0               0             0   \n",
              "1721             0           0               1               0             0   \n",
              "1722             0           0               0               0             0   \n",
              "1723             0           0               0               0             0   \n",
              "\n",
              "      label_Terrorism  label_accident  label_emergency  sublabel_Biowar  \\\n",
              "0                   1               0                0                1   \n",
              "1                   0               0                0                0   \n",
              "2                   0               0                0                0   \n",
              "3                   0               0                0                0   \n",
              "4                   0               0                0                0   \n",
              "...               ...             ...              ...              ...   \n",
              "1719                0               0                0                0   \n",
              "1720                1               0                0                0   \n",
              "1721                0               0                0                0   \n",
              "1722                1               0                0                1   \n",
              "1723                0               0                1                0   \n",
              "\n",
              "      sublabel_Terrorist  ...  sublabel_outbreak  sublabel_quarantine  \\\n",
              "0                      0  ...                  0                    0   \n",
              "1                      0  ...                  0                    0   \n",
              "2                      0  ...                  0                    0   \n",
              "3                      0  ...                  0                    0   \n",
              "4                      0  ...                  0                    0   \n",
              "...                  ...  ...                ...                  ...   \n",
              "1719                   0  ...                  0                    0   \n",
              "1720                   0  ...                  0                    0   \n",
              "1721                   0  ...                  0                    0   \n",
              "1722                   0  ...                  0                    0   \n",
              "1723                   0  ...                  0                    0   \n",
              "\n",
              "      sublabel_rescue  sublabel_riot  sublabel_scream  sublabel_smoke  \\\n",
              "0                   0              0                0               0   \n",
              "1                   0              0                0               0   \n",
              "2                   0              0                0               0   \n",
              "3                   0              0                0               0   \n",
              "4                   0              0                0               0   \n",
              "...               ...            ...              ...             ...   \n",
              "1719                0              0                0               0   \n",
              "1720                0              0                0               0   \n",
              "1721                0              0                0               0   \n",
              "1722                0              0                0               0   \n",
              "1723                0              0                0               0   \n",
              "\n",
              "      sublabel_suicid bombing  sublabel_weapons  sublabel_wildfire  \\\n",
              "0                           0                 0                  0   \n",
              "1                           0                 0                  0   \n",
              "2                           0                 0                  1   \n",
              "3                           0                 0                  0   \n",
              "4                           0                 0                  0   \n",
              "...                       ...               ...                ...   \n",
              "1719                        0                 0                  0   \n",
              "1720                        0                 1                  0   \n",
              "1721                        0                 0                  0   \n",
              "1722                        0                 0                  0   \n",
              "1723                        0                 0                  0   \n",
              "\n",
              "      sublabel_wounds  \n",
              "0                   0  \n",
              "1                   0  \n",
              "2                   0  \n",
              "3                   0  \n",
              "4                   0  \n",
              "...               ...  \n",
              "1719                0  \n",
              "1720                0  \n",
              "1721                0  \n",
              "1722                0  \n",
              "1723                0  \n",
              "\n",
              "[1724 rows x 32 columns]"
            ],
            "text/html": [
              "\n",
              "  <div id=\"df-fd5e4eb8-5666-4205-8120-a8cc31c30518\">\n",
              "    <div class=\"colab-df-container\">\n",
              "      <div>\n",
              "<style scoped>\n",
              "    .dataframe tbody tr th:only-of-type {\n",
              "        vertical-align: middle;\n",
              "    }\n",
              "\n",
              "    .dataframe tbody tr th {\n",
              "        vertical-align: top;\n",
              "    }\n",
              "\n",
              "    .dataframe thead th {\n",
              "        text-align: right;\n",
              "    }\n",
              "</style>\n",
              "<table border=\"1\" class=\"dataframe\">\n",
              "  <thead>\n",
              "    <tr style=\"text-align: right;\">\n",
              "      <th></th>\n",
              "      <th>label_Attack</th>\n",
              "      <th>label_Fire</th>\n",
              "      <th>label_Hospital</th>\n",
              "      <th>label_Pandemic</th>\n",
              "      <th>label_Police</th>\n",
              "      <th>label_Terrorism</th>\n",
              "      <th>label_accident</th>\n",
              "      <th>label_emergency</th>\n",
              "      <th>sublabel_Biowar</th>\n",
              "      <th>sublabel_Terrorist</th>\n",
              "      <th>...</th>\n",
              "      <th>sublabel_outbreak</th>\n",
              "      <th>sublabel_quarantine</th>\n",
              "      <th>sublabel_rescue</th>\n",
              "      <th>sublabel_riot</th>\n",
              "      <th>sublabel_scream</th>\n",
              "      <th>sublabel_smoke</th>\n",
              "      <th>sublabel_suicid bombing</th>\n",
              "      <th>sublabel_weapons</th>\n",
              "      <th>sublabel_wildfire</th>\n",
              "      <th>sublabel_wounds</th>\n",
              "    </tr>\n",
              "  </thead>\n",
              "  <tbody>\n",
              "    <tr>\n",
              "      <th>0</th>\n",
              "      <td>0</td>\n",
              "      <td>0</td>\n",
              "      <td>0</td>\n",
              "      <td>0</td>\n",
              "      <td>0</td>\n",
              "      <td>1</td>\n",
              "      <td>0</td>\n",
              "      <td>0</td>\n",
              "      <td>1</td>\n",
              "      <td>0</td>\n",
              "      <td>...</td>\n",
              "      <td>0</td>\n",
              "      <td>0</td>\n",
              "      <td>0</td>\n",
              "      <td>0</td>\n",
              "      <td>0</td>\n",
              "      <td>0</td>\n",
              "      <td>0</td>\n",
              "      <td>0</td>\n",
              "      <td>0</td>\n",
              "      <td>0</td>\n",
              "    </tr>\n",
              "    <tr>\n",
              "      <th>1</th>\n",
              "      <td>1</td>\n",
              "      <td>0</td>\n",
              "      <td>0</td>\n",
              "      <td>0</td>\n",
              "      <td>0</td>\n",
              "      <td>0</td>\n",
              "      <td>0</td>\n",
              "      <td>0</td>\n",
              "      <td>0</td>\n",
              "      <td>0</td>\n",
              "      <td>...</td>\n",
              "      <td>0</td>\n",
              "      <td>0</td>\n",
              "      <td>0</td>\n",
              "      <td>0</td>\n",
              "      <td>0</td>\n",
              "      <td>0</td>\n",
              "      <td>0</td>\n",
              "      <td>0</td>\n",
              "      <td>0</td>\n",
              "      <td>0</td>\n",
              "    </tr>\n",
              "    <tr>\n",
              "      <th>2</th>\n",
              "      <td>0</td>\n",
              "      <td>1</td>\n",
              "      <td>0</td>\n",
              "      <td>0</td>\n",
              "      <td>0</td>\n",
              "      <td>0</td>\n",
              "      <td>0</td>\n",
              "      <td>0</td>\n",
              "      <td>0</td>\n",
              "      <td>0</td>\n",
              "      <td>...</td>\n",
              "      <td>0</td>\n",
              "      <td>0</td>\n",
              "      <td>0</td>\n",
              "      <td>0</td>\n",
              "      <td>0</td>\n",
              "      <td>0</td>\n",
              "      <td>0</td>\n",
              "      <td>0</td>\n",
              "      <td>1</td>\n",
              "      <td>0</td>\n",
              "    </tr>\n",
              "    <tr>\n",
              "      <th>3</th>\n",
              "      <td>0</td>\n",
              "      <td>1</td>\n",
              "      <td>0</td>\n",
              "      <td>0</td>\n",
              "      <td>0</td>\n",
              "      <td>0</td>\n",
              "      <td>0</td>\n",
              "      <td>0</td>\n",
              "      <td>0</td>\n",
              "      <td>0</td>\n",
              "      <td>...</td>\n",
              "      <td>0</td>\n",
              "      <td>0</td>\n",
              "      <td>0</td>\n",
              "      <td>0</td>\n",
              "      <td>0</td>\n",
              "      <td>0</td>\n",
              "      <td>0</td>\n",
              "      <td>0</td>\n",
              "      <td>0</td>\n",
              "      <td>0</td>\n",
              "    </tr>\n",
              "    <tr>\n",
              "      <th>4</th>\n",
              "      <td>0</td>\n",
              "      <td>0</td>\n",
              "      <td>1</td>\n",
              "      <td>0</td>\n",
              "      <td>0</td>\n",
              "      <td>0</td>\n",
              "      <td>0</td>\n",
              "      <td>0</td>\n",
              "      <td>0</td>\n",
              "      <td>0</td>\n",
              "      <td>...</td>\n",
              "      <td>0</td>\n",
              "      <td>0</td>\n",
              "      <td>0</td>\n",
              "      <td>0</td>\n",
              "      <td>0</td>\n",
              "      <td>0</td>\n",
              "      <td>0</td>\n",
              "      <td>0</td>\n",
              "      <td>0</td>\n",
              "      <td>0</td>\n",
              "    </tr>\n",
              "    <tr>\n",
              "      <th>...</th>\n",
              "      <td>...</td>\n",
              "      <td>...</td>\n",
              "      <td>...</td>\n",
              "      <td>...</td>\n",
              "      <td>...</td>\n",
              "      <td>...</td>\n",
              "      <td>...</td>\n",
              "      <td>...</td>\n",
              "      <td>...</td>\n",
              "      <td>...</td>\n",
              "      <td>...</td>\n",
              "      <td>...</td>\n",
              "      <td>...</td>\n",
              "      <td>...</td>\n",
              "      <td>...</td>\n",
              "      <td>...</td>\n",
              "      <td>...</td>\n",
              "      <td>...</td>\n",
              "      <td>...</td>\n",
              "      <td>...</td>\n",
              "      <td>...</td>\n",
              "    </tr>\n",
              "    <tr>\n",
              "      <th>1719</th>\n",
              "      <td>1</td>\n",
              "      <td>0</td>\n",
              "      <td>0</td>\n",
              "      <td>0</td>\n",
              "      <td>0</td>\n",
              "      <td>0</td>\n",
              "      <td>0</td>\n",
              "      <td>0</td>\n",
              "      <td>0</td>\n",
              "      <td>0</td>\n",
              "      <td>...</td>\n",
              "      <td>0</td>\n",
              "      <td>0</td>\n",
              "      <td>0</td>\n",
              "      <td>0</td>\n",
              "      <td>0</td>\n",
              "      <td>0</td>\n",
              "      <td>0</td>\n",
              "      <td>0</td>\n",
              "      <td>0</td>\n",
              "      <td>0</td>\n",
              "    </tr>\n",
              "    <tr>\n",
              "      <th>1720</th>\n",
              "      <td>0</td>\n",
              "      <td>0</td>\n",
              "      <td>0</td>\n",
              "      <td>0</td>\n",
              "      <td>0</td>\n",
              "      <td>1</td>\n",
              "      <td>0</td>\n",
              "      <td>0</td>\n",
              "      <td>0</td>\n",
              "      <td>0</td>\n",
              "      <td>...</td>\n",
              "      <td>0</td>\n",
              "      <td>0</td>\n",
              "      <td>0</td>\n",
              "      <td>0</td>\n",
              "      <td>0</td>\n",
              "      <td>0</td>\n",
              "      <td>0</td>\n",
              "      <td>1</td>\n",
              "      <td>0</td>\n",
              "      <td>0</td>\n",
              "    </tr>\n",
              "    <tr>\n",
              "      <th>1721</th>\n",
              "      <td>0</td>\n",
              "      <td>0</td>\n",
              "      <td>1</td>\n",
              "      <td>0</td>\n",
              "      <td>0</td>\n",
              "      <td>0</td>\n",
              "      <td>0</td>\n",
              "      <td>0</td>\n",
              "      <td>0</td>\n",
              "      <td>0</td>\n",
              "      <td>...</td>\n",
              "      <td>0</td>\n",
              "      <td>0</td>\n",
              "      <td>0</td>\n",
              "      <td>0</td>\n",
              "      <td>0</td>\n",
              "      <td>0</td>\n",
              "      <td>0</td>\n",
              "      <td>0</td>\n",
              "      <td>0</td>\n",
              "      <td>0</td>\n",
              "    </tr>\n",
              "    <tr>\n",
              "      <th>1722</th>\n",
              "      <td>0</td>\n",
              "      <td>0</td>\n",
              "      <td>0</td>\n",
              "      <td>0</td>\n",
              "      <td>0</td>\n",
              "      <td>1</td>\n",
              "      <td>0</td>\n",
              "      <td>0</td>\n",
              "      <td>1</td>\n",
              "      <td>0</td>\n",
              "      <td>...</td>\n",
              "      <td>0</td>\n",
              "      <td>0</td>\n",
              "      <td>0</td>\n",
              "      <td>0</td>\n",
              "      <td>0</td>\n",
              "      <td>0</td>\n",
              "      <td>0</td>\n",
              "      <td>0</td>\n",
              "      <td>0</td>\n",
              "      <td>0</td>\n",
              "    </tr>\n",
              "    <tr>\n",
              "      <th>1723</th>\n",
              "      <td>0</td>\n",
              "      <td>0</td>\n",
              "      <td>0</td>\n",
              "      <td>0</td>\n",
              "      <td>0</td>\n",
              "      <td>0</td>\n",
              "      <td>0</td>\n",
              "      <td>1</td>\n",
              "      <td>0</td>\n",
              "      <td>0</td>\n",
              "      <td>...</td>\n",
              "      <td>0</td>\n",
              "      <td>0</td>\n",
              "      <td>0</td>\n",
              "      <td>0</td>\n",
              "      <td>0</td>\n",
              "      <td>0</td>\n",
              "      <td>0</td>\n",
              "      <td>0</td>\n",
              "      <td>0</td>\n",
              "      <td>0</td>\n",
              "    </tr>\n",
              "  </tbody>\n",
              "</table>\n",
              "<p>1724 rows × 32 columns</p>\n",
              "</div>\n",
              "      <button class=\"colab-df-convert\" onclick=\"convertToInteractive('df-fd5e4eb8-5666-4205-8120-a8cc31c30518')\"\n",
              "              title=\"Convert this dataframe to an interactive table.\"\n",
              "              style=\"display:none;\">\n",
              "        \n",
              "  <svg xmlns=\"http://www.w3.org/2000/svg\" height=\"24px\"viewBox=\"0 0 24 24\"\n",
              "       width=\"24px\">\n",
              "    <path d=\"M0 0h24v24H0V0z\" fill=\"none\"/>\n",
              "    <path d=\"M18.56 5.44l.94 2.06.94-2.06 2.06-.94-2.06-.94-.94-2.06-.94 2.06-2.06.94zm-11 1L8.5 8.5l.94-2.06 2.06-.94-2.06-.94L8.5 2.5l-.94 2.06-2.06.94zm10 10l.94 2.06.94-2.06 2.06-.94-2.06-.94-.94-2.06-.94 2.06-2.06.94z\"/><path d=\"M17.41 7.96l-1.37-1.37c-.4-.4-.92-.59-1.43-.59-.52 0-1.04.2-1.43.59L10.3 9.45l-7.72 7.72c-.78.78-.78 2.05 0 2.83L4 21.41c.39.39.9.59 1.41.59.51 0 1.02-.2 1.41-.59l7.78-7.78 2.81-2.81c.8-.78.8-2.07 0-2.86zM5.41 20L4 18.59l7.72-7.72 1.47 1.35L5.41 20z\"/>\n",
              "  </svg>\n",
              "      </button>\n",
              "      \n",
              "  <style>\n",
              "    .colab-df-container {\n",
              "      display:flex;\n",
              "      flex-wrap:wrap;\n",
              "      gap: 12px;\n",
              "    }\n",
              "\n",
              "    .colab-df-convert {\n",
              "      background-color: #E8F0FE;\n",
              "      border: none;\n",
              "      border-radius: 50%;\n",
              "      cursor: pointer;\n",
              "      display: none;\n",
              "      fill: #1967D2;\n",
              "      height: 32px;\n",
              "      padding: 0 0 0 0;\n",
              "      width: 32px;\n",
              "    }\n",
              "\n",
              "    .colab-df-convert:hover {\n",
              "      background-color: #E2EBFA;\n",
              "      box-shadow: 0px 1px 2px rgba(60, 64, 67, 0.3), 0px 1px 3px 1px rgba(60, 64, 67, 0.15);\n",
              "      fill: #174EA6;\n",
              "    }\n",
              "\n",
              "    [theme=dark] .colab-df-convert {\n",
              "      background-color: #3B4455;\n",
              "      fill: #D2E3FC;\n",
              "    }\n",
              "\n",
              "    [theme=dark] .colab-df-convert:hover {\n",
              "      background-color: #434B5C;\n",
              "      box-shadow: 0px 1px 3px 1px rgba(0, 0, 0, 0.15);\n",
              "      filter: drop-shadow(0px 1px 2px rgba(0, 0, 0, 0.3));\n",
              "      fill: #FFFFFF;\n",
              "    }\n",
              "  </style>\n",
              "\n",
              "      <script>\n",
              "        const buttonEl =\n",
              "          document.querySelector('#df-fd5e4eb8-5666-4205-8120-a8cc31c30518 button.colab-df-convert');\n",
              "        buttonEl.style.display =\n",
              "          google.colab.kernel.accessAllowed ? 'block' : 'none';\n",
              "\n",
              "        async function convertToInteractive(key) {\n",
              "          const element = document.querySelector('#df-fd5e4eb8-5666-4205-8120-a8cc31c30518');\n",
              "          const dataTable =\n",
              "            await google.colab.kernel.invokeFunction('convertToInteractive',\n",
              "                                                     [key], {});\n",
              "          if (!dataTable) return;\n",
              "\n",
              "          const docLinkHtml = 'Like what you see? Visit the ' +\n",
              "            '<a target=\"_blank\" href=https://colab.research.google.com/notebooks/data_table.ipynb>data table notebook</a>'\n",
              "            + ' to learn more about interactive tables.';\n",
              "          element.innerHTML = '';\n",
              "          dataTable['output_type'] = 'display_data';\n",
              "          await google.colab.output.renderOutput(dataTable, element);\n",
              "          const docLink = document.createElement('div');\n",
              "          docLink.innerHTML = docLinkHtml;\n",
              "          element.appendChild(docLink);\n",
              "        }\n",
              "      </script>\n",
              "    </div>\n",
              "  </div>\n",
              "  "
            ]
          },
          "metadata": {},
          "execution_count": 16
        }
      ]
    },
    {
      "cell_type": "code",
      "source": [
        "Y = Y.to_numpy()"
      ],
      "metadata": {
        "id": "s5_T5t-oyiEq"
      },
      "execution_count": null,
      "outputs": []
    },
    {
      "cell_type": "code",
      "source": [
        "type(Y)"
      ],
      "metadata": {
        "colab": {
          "base_uri": "https://localhost:8080/"
        },
        "id": "vRWw9od4ytjS",
        "outputId": "ae87c1a4-6a95-41ae-9e6b-9acc59749f6f"
      },
      "execution_count": null,
      "outputs": [
        {
          "output_type": "execute_result",
          "data": {
            "text/plain": [
              "numpy.ndarray"
            ]
          },
          "metadata": {},
          "execution_count": 18
        }
      ]
    },
    {
      "cell_type": "code",
      "source": [
        "'''\n",
        "v = pd.get_dummies(df['label']).values\n",
        "print('Shape of label tensor:', v.shape)\n",
        "'''"
      ],
      "metadata": {
        "colab": {
          "base_uri": "https://localhost:8080/",
          "height": 35
        },
        "id": "Z6p2KXWsDd6I",
        "outputId": "e503ce5a-1c70-4fc8-be72-aa417c52322a"
      },
      "execution_count": null,
      "outputs": [
        {
          "output_type": "execute_result",
          "data": {
            "text/plain": [
              "\"\\nv = pd.get_dummies(df['label']).values\\nprint('Shape of label tensor:', v.shape)\\n\""
            ],
            "application/vnd.google.colaboratory.intrinsic+json": {
              "type": "string"
            }
          },
          "metadata": {},
          "execution_count": 19
        }
      ]
    },
    {
      "cell_type": "code",
      "execution_count": null,
      "metadata": {
        "colab": {
          "base_uri": "https://localhost:8080/"
        },
        "id": "0aaQjt8T6WZu",
        "outputId": "2083745d-d14d-4c17-f1b4-439f386e1545"
      },
      "outputs": [
        {
          "output_type": "stream",
          "name": "stdout",
          "text": [
            "(1206, 10) (1206, 32)\n",
            "(518, 10) (518, 32)\n"
          ]
        }
      ],
      "source": [
        "X_train, X_test, Y_train, Y_test = train_test_split(X,Y, test_size = 0.3, random_state = 99)\n",
        "print(X_train.shape,Y_train.shape)\n",
        "print(X_test.shape,Y_test.shape)"
      ]
    },
    {
      "cell_type": "code",
      "source": [
        "X_train"
      ],
      "metadata": {
        "colab": {
          "base_uri": "https://localhost:8080/"
        },
        "id": "lxETOwrOK80E",
        "outputId": "1cdeeb1f-0955-420d-fa35-447ddf011528"
      },
      "execution_count": null,
      "outputs": [
        {
          "output_type": "execute_result",
          "data": {
            "text/plain": [
              "array([[  65,  192,  203, ...,    2,    1, 3280],\n",
              "       [2224, 2225, 2226, ..., 2229, 2230, 1305],\n",
              "       [ 190,  332,  283, ...,    2,    1, 6327],\n",
              "       ...,\n",
              "       [5410, 5411, 5412, ...,  198,   19,   11],\n",
              "       [ 118,  171,  152, ...,    2,    1, 5005],\n",
              "       [ 228, 3846,  953, ...,    2,    1, 3847]], dtype=int32)"
            ]
          },
          "metadata": {},
          "execution_count": 21
        }
      ]
    },
    {
      "cell_type": "code",
      "source": [
        "type(X_train)"
      ],
      "metadata": {
        "colab": {
          "base_uri": "https://localhost:8080/"
        },
        "id": "vWDbm-0arM-B",
        "outputId": "0e4d0710-25a8-409e-e17f-6fd70acc6694"
      },
      "execution_count": null,
      "outputs": [
        {
          "output_type": "execute_result",
          "data": {
            "text/plain": [
              "numpy.ndarray"
            ]
          },
          "metadata": {},
          "execution_count": 22
        }
      ]
    },
    {
      "cell_type": "code",
      "source": [
        "Y_train"
      ],
      "metadata": {
        "colab": {
          "base_uri": "https://localhost:8080/"
        },
        "id": "9ZiXYbYZK8wo",
        "outputId": "d4f0f680-2393-426e-ecd6-6e8d6c3db306"
      },
      "execution_count": null,
      "outputs": [
        {
          "output_type": "execute_result",
          "data": {
            "text/plain": [
              "array([[0, 0, 0, ..., 0, 0, 0],\n",
              "       [0, 0, 0, ..., 0, 0, 0],\n",
              "       [0, 0, 0, ..., 0, 0, 0],\n",
              "       ...,\n",
              "       [0, 1, 0, ..., 0, 1, 0],\n",
              "       [0, 0, 0, ..., 0, 0, 0],\n",
              "       [0, 0, 0, ..., 1, 0, 0]], dtype=uint8)"
            ]
          },
          "metadata": {},
          "execution_count": 23
        }
      ]
    },
    {
      "cell_type": "code",
      "source": [
        "type(Y_train)"
      ],
      "metadata": {
        "colab": {
          "base_uri": "https://localhost:8080/"
        },
        "id": "eMX9dIrMrSEL",
        "outputId": "154b82c1-c2e9-45c5-e3fe-664792f9ae96"
      },
      "execution_count": null,
      "outputs": [
        {
          "output_type": "execute_result",
          "data": {
            "text/plain": [
              "numpy.ndarray"
            ]
          },
          "metadata": {},
          "execution_count": 24
        }
      ]
    },
    {
      "cell_type": "code",
      "source": [
        "print(X_train.shape,Y_train.shape)\n",
        "print(X_test.shape,Y_test.shape)"
      ],
      "metadata": {
        "colab": {
          "base_uri": "https://localhost:8080/"
        },
        "id": "N0QLenT16uHf",
        "outputId": "8c5774b1-7592-457c-a47d-fc61a876d2c4"
      },
      "execution_count": null,
      "outputs": [
        {
          "output_type": "stream",
          "name": "stdout",
          "text": [
            "(1206, 10) (1206, 32)\n",
            "(518, 10) (518, 32)\n"
          ]
        }
      ]
    },
    {
      "cell_type": "code",
      "source": [
        "from tensorflow.keras.optimizers import SGD"
      ],
      "metadata": {
        "id": "ohWEK5o9-dH0"
      },
      "execution_count": null,
      "outputs": []
    },
    {
      "cell_type": "code",
      "execution_count": null,
      "metadata": {
        "colab": {
          "base_uri": "https://localhost:8080/"
        },
        "id": "qWzQYEuO6WZw",
        "outputId": "5eb9a6a0-3265-4897-84fe-4402c2f10a1f"
      },
      "outputs": [
        {
          "output_type": "stream",
          "name": "stdout",
          "text": [
            "Model: \"sequential_2\"\n",
            "_________________________________________________________________\n",
            " Layer (type)                Output Shape              Param #   \n",
            "=================================================================\n",
            " embedding_2 (Embedding)     (None, 10, 100)           5000000   \n",
            "                                                                 \n",
            " bidirectional_4 (Bidirectio  (None, 10, 40)           19360     \n",
            " nal)                                                            \n",
            "                                                                 \n",
            " bidirectional_5 (Bidirectio  (None, 20)               4080      \n",
            " nal)                                                            \n",
            "                                                                 \n",
            " dense_2 (Dense)             (None, 32)                672       \n",
            "                                                                 \n",
            "=================================================================\n",
            "Total params: 5,024,112\n",
            "Trainable params: 5,024,112\n",
            "Non-trainable params: 0\n",
            "_________________________________________________________________\n",
            "None\n"
          ]
        }
      ],
      "source": [
        "model = Sequential()\n",
        "model.add(Embedding(MAX_NB_WORDS, EMBEDDING_DIM, input_length=X.shape[1]))\n",
        "model.add(Bidirectional(LSTM(20, return_sequences=True),\n",
        "                        input_shape=(5, 10)))\n",
        "model.add(Bidirectional(LSTM(10)))\n",
        "model.add(Dense(32, activation='softmax'))\n",
        "model.compile(loss='categorical_crossentropy', optimizer='rmsprop', metrics=['accuracy'])\n",
        "print(model.summary())"
      ]
    },
    {
      "cell_type": "code",
      "execution_count": null,
      "metadata": {
        "colab": {
          "base_uri": "https://localhost:8080/"
        },
        "id": "VWlWPzvy6WZy",
        "outputId": "58edccab-86f2-4626-ae3d-6603d3d6cec6"
      },
      "outputs": [
        {
          "output_type": "stream",
          "name": "stdout",
          "text": [
            "Epoch 1/100\n",
            "16/16 [==============================] - 10s 155ms/step - loss: 6.8657 - accuracy: 0.1712 - val_loss: 6.7010 - val_accuracy: 0.1570\n",
            "Epoch 2/100\n",
            "16/16 [==============================] - 1s 41ms/step - loss: 6.6678 - accuracy: 0.1587 - val_loss: 6.5432 - val_accuracy: 0.1364\n",
            "Epoch 3/100\n",
            "16/16 [==============================] - 1s 43ms/step - loss: 6.6032 - accuracy: 0.1577 - val_loss: 6.5109 - val_accuracy: 0.1364\n",
            "Epoch 4/100\n",
            "16/16 [==============================] - 1s 41ms/step - loss: 6.5187 - accuracy: 0.1608 - val_loss: 6.4384 - val_accuracy: 0.1488\n",
            "Epoch 5/100\n",
            "16/16 [==============================] - 1s 41ms/step - loss: 6.3774 - accuracy: 0.2012 - val_loss: 6.3610 - val_accuracy: 0.1777\n",
            "Epoch 6/100\n",
            "16/16 [==============================] - 1s 41ms/step - loss: 6.2143 - accuracy: 0.2905 - val_loss: 6.2413 - val_accuracy: 0.2934\n",
            "Epoch 7/100\n",
            "16/16 [==============================] - 1s 40ms/step - loss: 6.0125 - accuracy: 0.4295 - val_loss: 6.1367 - val_accuracy: 0.3140\n",
            "Epoch 8/100\n",
            "16/16 [==============================] - 1s 41ms/step - loss: 5.8451 - accuracy: 0.4595 - val_loss: 6.0757 - val_accuracy: 0.3058\n",
            "Epoch 9/100\n",
            "16/16 [==============================] - 1s 40ms/step - loss: 5.7101 - accuracy: 0.4865 - val_loss: 5.9961 - val_accuracy: 0.3347\n",
            "Epoch 10/100\n",
            "16/16 [==============================] - 1s 39ms/step - loss: 5.5704 - accuracy: 0.5124 - val_loss: 5.9235 - val_accuracy: 0.3554\n",
            "Epoch 11/100\n",
            "16/16 [==============================] - 1s 42ms/step - loss: 5.4180 - accuracy: 0.5529 - val_loss: 5.8731 - val_accuracy: 0.3636\n",
            "Epoch 12/100\n",
            "16/16 [==============================] - 1s 40ms/step - loss: 5.2889 - accuracy: 0.5633 - val_loss: 5.7340 - val_accuracy: 0.4050\n",
            "Epoch 13/100\n",
            "16/16 [==============================] - 1s 41ms/step - loss: 5.1699 - accuracy: 0.6006 - val_loss: 5.6538 - val_accuracy: 0.3967\n",
            "Epoch 14/100\n",
            "16/16 [==============================] - 1s 42ms/step - loss: 5.0703 - accuracy: 0.5726 - val_loss: 5.6286 - val_accuracy: 0.3802\n",
            "Epoch 15/100\n",
            "16/16 [==============================] - 1s 41ms/step - loss: 4.9818 - accuracy: 0.5685 - val_loss: 5.5880 - val_accuracy: 0.3967\n",
            "Epoch 16/100\n",
            "16/16 [==============================] - 1s 41ms/step - loss: 4.9061 - accuracy: 0.6068 - val_loss: 5.5816 - val_accuracy: 0.3926\n",
            "Epoch 17/100\n",
            "16/16 [==============================] - 1s 41ms/step - loss: 4.8346 - accuracy: 0.6234 - val_loss: 5.5020 - val_accuracy: 0.4339\n",
            "Epoch 18/100\n",
            "16/16 [==============================] - 1s 40ms/step - loss: 4.7676 - accuracy: 0.6504 - val_loss: 5.5162 - val_accuracy: 0.4215\n",
            "Epoch 19/100\n",
            "16/16 [==============================] - 1s 42ms/step - loss: 4.7107 - accuracy: 0.6535 - val_loss: 5.5142 - val_accuracy: 0.4008\n",
            "Epoch 20/100\n",
            "16/16 [==============================] - 1s 42ms/step - loss: 4.6547 - accuracy: 0.6618 - val_loss: 5.4438 - val_accuracy: 0.4587\n",
            "Epoch 21/100\n",
            "16/16 [==============================] - 1s 40ms/step - loss: 4.6096 - accuracy: 0.6670 - val_loss: 5.4829 - val_accuracy: 0.4380\n",
            "Epoch 22/100\n",
            "16/16 [==============================] - 1s 41ms/step - loss: 4.5668 - accuracy: 0.6722 - val_loss: 5.5285 - val_accuracy: 0.3843\n",
            "Epoch 23/100\n",
            "16/16 [==============================] - 1s 41ms/step - loss: 4.5163 - accuracy: 0.6826 - val_loss: 5.4374 - val_accuracy: 0.4421\n",
            "Epoch 24/100\n",
            "16/16 [==============================] - 1s 40ms/step - loss: 4.4752 - accuracy: 0.6826 - val_loss: 5.4326 - val_accuracy: 0.4421\n",
            "Epoch 25/100\n",
            "16/16 [==============================] - 1s 45ms/step - loss: 4.4365 - accuracy: 0.6836 - val_loss: 5.4053 - val_accuracy: 0.4339\n",
            "Epoch 26/100\n",
            "16/16 [==============================] - 1s 41ms/step - loss: 4.4025 - accuracy: 0.6857 - val_loss: 5.3761 - val_accuracy: 0.4711\n",
            "Epoch 27/100\n",
            "16/16 [==============================] - 1s 41ms/step - loss: 4.3635 - accuracy: 0.7106 - val_loss: 5.3876 - val_accuracy: 0.5000\n",
            "Epoch 28/100\n",
            "16/16 [==============================] - 1s 41ms/step - loss: 4.3323 - accuracy: 0.7251 - val_loss: 5.3813 - val_accuracy: 0.5000\n",
            "Epoch 29/100\n",
            "16/16 [==============================] - 1s 41ms/step - loss: 4.3050 - accuracy: 0.7241 - val_loss: 5.3836 - val_accuracy: 0.4628\n"
          ]
        }
      ],
      "source": [
        "epochs = 100\n",
        "batch_size = 64\n",
        "\n",
        "history = model.fit(X_train, Y_train, epochs=epochs, batch_size=batch_size,validation_split=0.2, callbacks=[EarlyStopping(monitor='val_loss', patience=3, min_delta=0.0001)])"
      ]
    },
    {
      "cell_type": "code",
      "execution_count": null,
      "metadata": {
        "colab": {
          "base_uri": "https://localhost:8080/"
        },
        "id": "Y0zp4fuo6WZ0",
        "outputId": "dc45f33a-678b-41be-e833-b81c294ba4b8"
      },
      "outputs": [
        {
          "output_type": "stream",
          "name": "stdout",
          "text": [
            "17/17 [==============================] - 0s 6ms/step - loss: 5.4380 - accuracy: 0.4749\n",
            "Test set\n",
            "  Loss: 5.438\n",
            "  Accuracy: 0.475\n"
          ]
        }
      ],
      "source": [
        "accr = model.evaluate(X_test,Y_test)\n",
        "print('Test set\\n  Loss: {:0.3f}\\n  Accuracy: {:0.3f}'.format(accr[0],accr[1]))"
      ]
    },
    {
      "cell_type": "code",
      "execution_count": null,
      "metadata": {
        "colab": {
          "base_uri": "https://localhost:8080/",
          "height": 281
        },
        "id": "ZTwqoKiu6WZ1",
        "outputId": "c2e184c4-c0a1-4ace-8953-307e5db3f0e1"
      },
      "outputs": [
        {
          "output_type": "display_data",
          "data": {
            "text/plain": [
              "<Figure size 432x288 with 1 Axes>"
            ],
            "image/png": "[encoded data removed]"
          },
          "metadata": {
            "needs_background": "light"
          }
        }
      ],
      "source": [
        "plt.title('Loss')\n",
        "plt.plot(history.history['loss'], label='train')\n",
        "plt.plot(history.history['val_loss'], label='test')\n",
        "plt.legend()\n",
        "plt.show();\n"
      ]
    },
    {
      "cell_type": "code",
      "execution_count": null,
      "metadata": {
        "colab": {
          "base_uri": "https://localhost:8080/",
          "height": 499
        },
        "id": "XHmFfUAy6WZ1",
        "outputId": "cfc3a070-cc81-467b-d7b1-43c33c8f1160"
      },
      "outputs": [
        {
          "output_type": "error",
          "ename": "KeyError",
          "evalue": "ignored",
          "traceback": [
            "\u001b[0;31m---------------------------------------------------------------------------\u001b[0m",
            "\u001b[0;31mKeyError\u001b[0m                                  Traceback (most recent call last)",
            "\u001b[0;32m<ipython-input-31-17e5e502e63f>\u001b[0m in \u001b[0;36m<module>\u001b[0;34m()\u001b[0m\n\u001b[1;32m      1\u001b[0m \u001b[0mplt\u001b[0m\u001b[0;34m.\u001b[0m\u001b[0mtitle\u001b[0m\u001b[0;34m(\u001b[0m\u001b[0;34m'Accuracy'\u001b[0m\u001b[0;34m)\u001b[0m\u001b[0;34m\u001b[0m\u001b[0;34m\u001b[0m\u001b[0m\n\u001b[0;32m----> 2\u001b[0;31m \u001b[0mplt\u001b[0m\u001b[0;34m.\u001b[0m\u001b[0mplot\u001b[0m\u001b[0;34m(\u001b[0m\u001b[0mhistory\u001b[0m\u001b[0;34m.\u001b[0m\u001b[0mhistory\u001b[0m\u001b[0;34m[\u001b[0m\u001b[0;34m'accr'\u001b[0m\u001b[0;34m]\u001b[0m\u001b[0;34m,\u001b[0m \u001b[0mlabel\u001b[0m\u001b[0;34m=\u001b[0m\u001b[0;34m'train'\u001b[0m\u001b[0;34m)\u001b[0m\u001b[0;34m\u001b[0m\u001b[0;34m\u001b[0m\u001b[0m\n\u001b[0m\u001b[1;32m      3\u001b[0m \u001b[0mplt\u001b[0m\u001b[0;34m.\u001b[0m\u001b[0mplot\u001b[0m\u001b[0;34m(\u001b[0m\u001b[0mhistory\u001b[0m\u001b[0;34m.\u001b[0m\u001b[0mhistory\u001b[0m\u001b[0;34m[\u001b[0m\u001b[0;34m'val_acc'\u001b[0m\u001b[0;34m]\u001b[0m\u001b[0;34m,\u001b[0m \u001b[0mlabel\u001b[0m\u001b[0;34m=\u001b[0m\u001b[0;34m'test'\u001b[0m\u001b[0;34m)\u001b[0m\u001b[0;34m\u001b[0m\u001b[0;34m\u001b[0m\u001b[0m\n\u001b[1;32m      4\u001b[0m \u001b[0mplt\u001b[0m\u001b[0;34m.\u001b[0m\u001b[0mlegend\u001b[0m\u001b[0;34m(\u001b[0m\u001b[0;34m)\u001b[0m\u001b[0;34m\u001b[0m\u001b[0;34m\u001b[0m\u001b[0m\n\u001b[1;32m      5\u001b[0m \u001b[0mplt\u001b[0m\u001b[0;34m.\u001b[0m\u001b[0mshow\u001b[0m\u001b[0;34m(\u001b[0m\u001b[0;34m)\u001b[0m\u001b[0;34m;\u001b[0m\u001b[0;34m\u001b[0m\u001b[0;34m\u001b[0m\u001b[0m\n",
            "\u001b[0;31mKeyError\u001b[0m: 'accr'"
          ]
        },
        {
          "output_type": "display_data",
          "data": {
            "text/plain": [
              "<Figure size 432x288 with 1 Axes>"
            ],
            "image/png": "[encoded data removed]"
          },
          "metadata": {
            "needs_background": "light"
          }
        }
      ],
      "source": [
        "plt.title('Accuracy')\n",
        "plt.plot(history.history['accr'], label='train')\n",
        "plt.plot(history.history['val_acc'], label='test')\n",
        "plt.legend()\n",
        "plt.show();"
      ]
    },
    {
      "cell_type": "code",
      "execution_count": null,
      "metadata": {
        "id": "uGA5gEnE6WZ2"
      },
      "outputs": [],
      "source": [
        "\n",
        "new_tweet = ['As a woman you shouldnt complain about cleaning up your house. &amp']\n",
        "seq = tokenizer.texts_to_sequences(new_tweet)\n",
        "padded = pad_sequences(seq, maxlen=MAX_SEQUENCE_LENGTH)\n",
        "pred = model.predict(padded)\n",
        "labels = ['Hate_speech', 'Offensive_language', 'None']\n",
        "print(pred,labels[np.argmax(pred)])\n",
        "\n"
      ]
    },
    {
      "cell_type": "code",
      "execution_count": null,
      "metadata": {
        "id": "4E9GrInX6WZ2"
      },
      "outputs": [],
      "source": []
    },
    {
      "cell_type": "code",
      "execution_count": null,
      "metadata": {
        "id": "yy1Qw0qh6WZ3"
      },
      "outputs": [],
      "source": []
    }
  ],
  "metadata": {
    "kernelspec": {
      "display_name": "Python 3",
      "language": "python",
      "name": "python3"
    },
    "language_info": {
      "codemirror_mode": {
        "name": "ipython",
        "version": 3
      },
      "file_extension": ".py",
      "mimetype": "text/x-python",
      "name": "python",
      "nbconvert_exporter": "python",
      "pygments_lexer": "ipython3",
      "version": "3.6.7"
    },
    "colab": {
      "provenance": [],
      "include_colab_link": true
    },
    "accelerator": "GPU"
  },
  "nbformat": 4,
  "nbformat_minor": 0
}