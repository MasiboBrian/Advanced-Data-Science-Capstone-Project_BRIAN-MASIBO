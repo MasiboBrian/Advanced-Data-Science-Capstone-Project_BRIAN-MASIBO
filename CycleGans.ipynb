{
  "nbformat": 4,
  "nbformat_minor": 0,
  "metadata": {
    "kernelspec": {
      "display_name": "Python 3",
      "language": "python",
      "name": "python3"
    },
    "language_info": {
      "codemirror_mode": {
        "name": "ipython",
        "version": 3
      },
      "file_extension": ".py",
      "mimetype": "text/x-python",
      "name": "python",
      "nbconvert_exporter": "python",
      "pygments_lexer": "ipython3",
      "version": "3.7.7"
    },
    "colab": {
      "provenance": [],
      "toc_visible": true,
      "include_colab_link": true
    }
  },
  "cells": [
    {
      "cell_type": "markdown",
      "metadata": {
        "id": "view-in-github",
        "colab_type": "text"
      },
      "source": [
        "<a href=\"https://colab.research.google.com/github/MasiboBrian/AirBNB-Price-Prediction/blob/master/CycleGans.ipynb\" target=\"_parent\"><img src=\"https://colab.research.google.com/assets/colab-badge.svg\" alt=\"Open In Colab\"/></a>"
      ]
    },
    {
      "cell_type": "markdown",
      "metadata": {
        "id": "cmjo8rsfN7W1"
      },
      "source": [
        "## Cycle GAN in PyTorch"
      ]
    },
    {
      "cell_type": "code",
      "metadata": {
        "colab": {
          "base_uri": "https://localhost:8080/"
        },
        "id": "M8Zhz-qzN7XA",
        "outputId": "52b6b31f-876e-4871-c1f2-a6035921dda0"
      },
      "source": [
        "%load_ext autoreload\n",
        "%matplotlib inline\n",
        "!pip install utils"
      ],
      "execution_count": null,
      "outputs": [
        {
          "output_type": "stream",
          "text": [
            "Collecting utils\n",
            "  Downloading https://files.pythonhosted.org/packages/55/e6/c2d2b2703e7debc8b501caae0e6f7ead148fd0faa3c8131292a599930029/utils-1.0.1-py2.py3-none-any.whl\n",
            "Installing collected packages: utils\n",
            "Successfully installed utils-1.0.1\n"
          ],
          "name": "stdout"
        }
      ]
    },
    {
      "cell_type": "code",
      "metadata": {
        "colab": {
          "base_uri": "https://localhost:8080/",
          "height": 350
        },
        "id": "ksmha2O9kIb5",
        "outputId": "6af6db49-66cc-4318-9e39-354cbbe3b728"
      },
      "source": [
        "!pip install python_utils\n",
        "from python_utils import Logged"
      ],
      "execution_count": null,
      "outputs": [
        {
          "output_type": "stream",
          "text": [
            "Requirement already satisfied: python_utils in /usr/local/lib/python3.7/dist-packages (2.5.6)\n",
            "Requirement already satisfied: six in /usr/local/lib/python3.7/dist-packages (from python_utils) (1.15.0)\n"
          ],
          "name": "stdout"
        },
        {
          "output_type": "error",
          "ename": "ImportError",
          "evalue": "ignored",
          "traceback": [
            "\u001b[0;31m---------------------------------------------------------------------------\u001b[0m",
            "\u001b[0;31mImportError\u001b[0m                               Traceback (most recent call last)",
            "\u001b[0;32m<ipython-input-3-c0f89df88fc9>\u001b[0m in \u001b[0;36m<module>\u001b[0;34m()\u001b[0m\n\u001b[1;32m      1\u001b[0m \u001b[0mget_ipython\u001b[0m\u001b[0;34m(\u001b[0m\u001b[0;34m)\u001b[0m\u001b[0;34m.\u001b[0m\u001b[0msystem\u001b[0m\u001b[0;34m(\u001b[0m\u001b[0;34m'pip install python_utils'\u001b[0m\u001b[0;34m)\u001b[0m\u001b[0;34m\u001b[0m\u001b[0;34m\u001b[0m\u001b[0m\n\u001b[0;32m----> 2\u001b[0;31m \u001b[0;32mfrom\u001b[0m \u001b[0mpython_utils\u001b[0m \u001b[0;32mimport\u001b[0m \u001b[0mLogged\u001b[0m\u001b[0;34m\u001b[0m\u001b[0;34m\u001b[0m\u001b[0m\n\u001b[0m",
            "\u001b[0;31mImportError\u001b[0m: cannot import name 'Logged' from 'python_utils' (/usr/local/lib/python3.7/dist-packages/python_utils/__init__.py)",
            "",
            "\u001b[0;31m---------------------------------------------------------------------------\u001b[0;32m\nNOTE: If your import is failing due to a missing package, you can\nmanually install dependencies using either !pip or !apt.\n\nTo view examples of installing some common dependencies, click the\n\"Open Examples\" button below.\n\u001b[0;31m---------------------------------------------------------------------------\u001b[0m\n"
          ]
        }
      ]
    },
    {
      "cell_type": "code",
      "metadata": {
        "id": "kwfclXz_N7XC"
      },
      "source": [
        "%autoreload 2\n",
        "\n",
        "from IPython import display\n",
        "\n",
        "import torch\n",
        "\n",
        "from torch import nn, optim\n",
        "from torch.autograd.variable import Variable\n",
        "from torchvision import transforms, datasets"
      ],
      "execution_count": null,
      "outputs": []
    },
    {
      "cell_type": "code",
      "metadata": {
        "id": "nY25yZQIN7XD"
      },
      "source": [
        "DATA_FOLDER = './torch_data/CycleGAN'"
      ],
      "execution_count": null,
      "outputs": []
    },
    {
      "cell_type": "code",
      "metadata": {
        "id": "tUmSt0hFN7XE"
      },
      "source": [
        "import os\n",
        "import urllib, zipfile\n",
        "from tqdm import tqdm\n",
        "import zipfile\n",
        "\n",
        "VALID_DATA_NAMES = [\"ae_photos\", \"apple2orange\", \"summer2winter_yosemite\", \"horse2zebra\", \"monet2photo\", \"cezanne2photo\", \"ukiyoe2photo\", \"vangogh2photo\", \"maps\", \"cityscapes\",\"facades\",\"iphone2dslr_flower\",\"mini\", \"mini_pix2pix\", \"mini_colorization\"]\n",
        "\n",
        "URL = 'https://people.eecs.berkeley.edu/~taesung_park/CycleGAN/datasets/{}.zip'\n",
        "class DownloadProgressBar(tqdm):\n",
        "    def update_to(self, b=1, bsize=1, tsize=None):\n",
        "        if tsize is not None:\n",
        "            self.total = tsize\n",
        "        self.update(b * bsize - self.n)\n",
        "\n",
        "def rename_images(rootdir):\n",
        "    for subdir, dirs, files in os.walk(rootdir):\n",
        "        idx = 0\n",
        "        for file in files:\n",
        "            file_path = os.path.join(subdir, file)\n",
        "            new_file_path = os.path.join(subdir, \"{}.jpg\".format(idx))\n",
        "            os.rename(file_path, new_file_path)\n",
        "            idx = idx + 1\n",
        "\n",
        "def download_cyclegan_dataset(filename, path, force=False):\n",
        "    # Validate dataset filename is valid.\n",
        "    assert(filename in VALID_DATA_NAMES)\n",
        "    # Return if path exists.\n",
        "    file_path = \"{}/{}.zip\".format(path, filename)\n",
        "    if(os.path.exists(file_path) and not force): return\n",
        "    # Otherwise download.\n",
        "\n",
        "    # Make path directory if missing.\n",
        "    os.makedirs(path, exist_ok=True)\n",
        "    # Download data\n",
        "    url = URL.format(filename)\n",
        "    with DownloadProgressBar(unit='B', unit_scale=True,\n",
        "                             miniters=1, desc=url.split('/')[-1]) as t:\n",
        "        urllib.request.urlretrieve(url, file_path, reporthook=t.update_to)\n",
        "        with zipfile.ZipFile(file_path, 'r') as zip_obj:\n",
        "            zip_obj.extractall(path)\n",
        "    rename_images(os.path.join(path, filename))"
      ],
      "execution_count": null,
      "outputs": []
    },
    {
      "cell_type": "code",
      "metadata": {
        "id": "lktSwpt5N7XF"
      },
      "source": [
        "for name in VALID_DATA_NAMES:\n",
        "    download_cyclegan_dataset(name, DATA_FOLDER, force=False)"
      ],
      "execution_count": null,
      "outputs": []
    },
    {
      "cell_type": "code",
      "metadata": {
        "id": "w8pA4Fh2N7XG"
      },
      "source": [
        "from torch.utils.data import Dataset\n",
        "from PIL import Image\n",
        "from skimage import io\n",
        "\n",
        "class MyDataset(Dataset):\n",
        "    \"\"\"My dataset.\"\"\"\n",
        "\n",
        "    def __init__(self, path, transform=None):\n",
        "        self._path = path\n",
        "        self.num_files = len(os.listdir(self._path))\n",
        "        self.transform = transform\n",
        "\n",
        "    def __len__(self):\n",
        "        return self.num_files\n",
        "\n",
        "    def filename(self, idx):\n",
        "        for directory in [\"trainA\", \"testA\"]:\n",
        "            possible_path = os.path.join(self._path, directory, \"{}.jpg\".format(str(idx)))\n",
        "            if os.path.exists(possible_path):\n",
        "                return possible_path\n",
        "\n",
        "    def __getitem__(self, idx):\n",
        "        # Handle vectors.\n",
        "        if torch.is_tensor(idx):\n",
        "            idx = idx.tolist()\n",
        "        img_name = self.filename(idx)\n",
        "        print(img_name)\n",
        "        image = Image.fromarray(io.imread(img_name))\n",
        "        if self.transform:\n",
        "            image = self.transform(image)\n",
        "        return image\n",
        "\n",
        "    def visualize(self, idx):\n",
        "        np_img = np.transpose(self[idx].numpy(), (1,2, 0))\n",
        "        plt.imshow(np_img)"
      ],
      "execution_count": null,
      "outputs": []
    },
    {
      "cell_type": "markdown",
      "metadata": {
        "id": "_eO9IZNiN7XH"
      },
      "source": [
        "### Load Data"
      ]
    },
    {
      "cell_type": "code",
      "metadata": {
        "id": "rXlBFle_N7Xe"
      },
      "source": [
        "def my_data():\n",
        "    compose = transforms.Compose(\n",
        "        [transforms.Resize((80, 80)),\n",
        "         transforms.ToTensor(),\n",
        "         transforms.Normalize((.5,), (.5,))\n",
        "        ])\n",
        "    return MyDataset(DATA_FOLDER + \"/ae_photos\", transform=compose)"
      ],
      "execution_count": null,
      "outputs": []
    },
    {
      "cell_type": "code",
      "metadata": {
        "colab": {
          "base_uri": "https://localhost:8080/",
          "height": 322
        },
        "id": "-nBmgpqfN7Xe",
        "outputId": "771f4bda-a2d3-4f68-ef1f-7daa20d0499d"
      },
      "source": [
        "import matplotlib.pyplot as plt\n",
        "import numpy as np\n",
        "\n",
        "# data = MyDataset(DATA_FOLDER + \"/ae_photos\")\n",
        "data = my_data()\n",
        "# Create loader with data, so that we can iterate over it.\n",
        "# data_loader = torch.utils.data.DataLoader(my_data(), batch_size=10, shuffle=True)\n",
        "# plt.imshow(np.flip(my_data()[48], 1))\n",
        "# plt.imshow(my_data()[48][1])\n",
        "data.visualize(101)"
      ],
      "execution_count": null,
      "outputs": [
        {
          "output_type": "stream",
          "text": [
            "Clipping input data to the valid range for imshow with RGB data ([0..1] for floats or [0..255] for integers).\n"
          ],
          "name": "stderr"
        },
        {
          "output_type": "stream",
          "text": [
            "./torch_data/CycleGAN/ae_photos/testA/101.jpg\n"
          ],
          "name": "stdout"
        },
        {
          "output_type": "display_data",
          "data": {
            "image/png": "[encoded data removed]",
            "text/plain": [
              "<Figure size 432x288 with 1 Axes>"
            ]
          },
          "metadata": {
            "tags": [],
            "needs_background": "light"
          }
        }
      ]
    },
    {
      "cell_type": "markdown",
      "metadata": {
        "id": "vpIie1v6N7Xf"
      },
      "source": [
        "#### Discriminator"
      ]
    },
    {
      "cell_type": "code",
      "metadata": {
        "id": "2lU4FTC1N7Xg"
      },
      "source": [
        "import torch\n",
        "import torch.nn as nn\n",
        "import torch.nn.functional as F\n",
        "\n",
        "class DiscriminatorNet(torch.nn.Module):\n",
        "\n",
        "    def __init__(self):\n",
        "        super(DiscriminatorNet, self).__init__()\n",
        "        self.conv_0 = nn.Sequential(\n",
        "            nn.Conv2d(in_channels=3, out_channels=64,\n",
        "                                   kernel_size=(4, 4), stride=2),\n",
        "            nn.LeakyReLU(negative_slope=0.2, inplace=True)\n",
        "        )\n",
        "        self.conv_1 = nn.Sequential(\n",
        "            nn.Conv2d(in_channels=64, out_channels=128,\n",
        "                                   kernel_size=(4, 4), stride=2),\n",
        "            nn.BatchNorm2d(128),\n",
        "            nn.LeakyReLU(negative_slope=0.2, inplace=True)\n",
        "        )\n",
        "        self.conv_2 = nn.Sequential(\n",
        "            nn.Conv2d(in_channels=128, out_channels=256,\n",
        "                                   kernel_size=(4, 4), stride=2),\n",
        "            nn.BatchNorm2d(256),\n",
        "            nn.LeakyReLU(negative_slope=0.2, inplace=True)\n",
        "        )\n",
        "        self.conv_3 = nn.Sequential(\n",
        "            nn.Conv2d(in_channels=256, out_channels=512,\n",
        "                                   kernel_size=(4, 4), stride=2),\n",
        "            nn.BatchNorm2d(512),\n",
        "            nn.LeakyReLU(negative_slope=0.2, inplace=True)\n",
        "        )\n",
        "        self.conv_out = nn.Conv2d(in_channels=512, out_channels=1,\n",
        "                             kernel_size=(4, 4), stride=2)\n",
        "\n",
        "    def forward(self, x):\n",
        "        x = self.conv_0(x)\n",
        "        x = self.conv_1(x)\n",
        "        x = self.conv_2(x)\n",
        "        x = self.conv_3(x)\n",
        "        x = self.conv_out(x)"
      ],
      "execution_count": null,
      "outputs": []
    },
    {
      "cell_type": "code",
      "metadata": {
        "id": "IfBfv0djN7Xh"
      },
      "source": [
        "d = DiscriminatorNet()"
      ],
      "execution_count": null,
      "outputs": []
    },
    {
      "cell_type": "markdown",
      "metadata": {
        "id": "R_LMJeqUN7Xh"
      },
      "source": [
        "#### Generator net"
      ]
    },
    {
      "cell_type": "code",
      "metadata": {
        "id": "LAWQkEXJN7Xi"
      },
      "source": [
        "import torch\n",
        "import torch.nn as nn\n",
        "import torch.nn.functional as F\n",
        "\n",
        "class GeneratorNet(torch.nn.Module):\n",
        "\n",
        "    def __init__(self):\n",
        "        super(GeneratorNet, self).__init__()\n",
        "\n",
        "        # c7s1-64\n",
        "        self.conv_0 = nn.Sequential(\n",
        "            nn.Conv2d(in_channels=3, out_channels=64, kernel_size=(7, 7), stride=1,\n",
        "                      padding_mode='reflect'),\n",
        "            nn.BatchNorm2d(64),\n",
        "            nn.ReLU(inplace=True)\n",
        "        )\n",
        "        # d128\n",
        "        self.conv_1 = nn.Sequential(\n",
        "            nn.Conv2d(in_channels=64, out_channels=128, kernel_size=(3, 3), stride=2,\n",
        "                      padding_mode='reflect'),\n",
        "            nn.BatchNorm2d(64),\n",
        "            nn.ReLU(inplace=True)\n",
        "        )\n",
        "        # d256\n",
        "        self.conv_2 = nn.Sequential(\n",
        "            nn.Conv2d(in_channels=128, out_channels=256, kernel_size=(3, 3), stride=2,\n",
        "                     padding_mode='reflect'),\n",
        "            nn.BatchNorm2d(64),\n",
        "            nn.ReLU(inplace=True)\n",
        "        )\n",
        "        # R256\n",
        "        self.res_3 = nn.Conv2d(in_channels=256, out_channels=256, kernel_size=(3, 3),\n",
        "                               stride=2),\n",
        "        # R256\n",
        "        self.res_4 = nn.Conv2d(in_channels=256, out_channels=256, kernel_size=(3, 3),\n",
        "                               stride=2),\n",
        "        # R256\n",
        "        self.res_5 = nn.Conv2d(in_channels=256, out_channels=256, kernel_size=(3, 3),\n",
        "                               stride=2),\n",
        "        # R256\n",
        "        self.res_6 = nn.Conv2d(in_channels=256, out_channels=256, kernel_size=(3, 3),\n",
        "                               stride=2),\n",
        "        # R256\n",
        "        self.res_7 = nn.Conv2d(in_channels=256, out_channels=256, kernel_size=(3, 3),\n",
        "                               stride=2),\n",
        "        # R256\n",
        "        self.res_8 = nn.Conv2d(in_channels=256, out_channels=256, kernel_size=(3, 3),\n",
        "                               stride=2),\n",
        "        # u128\n",
        "        self.ups_9 = nn.Sequential(\n",
        "            nn.ConvTranspose2d(in_channels=256, out_channels=128,\n",
        "                               kernel_size=(3, 3), stride=0.5),\n",
        "            nn.BatchNorm2d(128),\n",
        "            nn.ReLU(inplace=True)\n",
        "        )\n",
        "        # u64\n",
        "        self.ups_10 = nn.Sequential(\n",
        "            nn.ConvTranspose2d(in_channels=128, out_channels=64, kernel_size=(3, 3),\n",
        "                               stride=0.5),\n",
        "            nn.BatchNorm2d(64),\n",
        "            nn.ReLU(inplace=True)\n",
        "        )\n",
        "        # c7s1-3\n",
        "        self.conv_0 = nn.Sequential(\n",
        "            nn.Conv2d(in_channels=3, out_channels=3, kernel_size=(7, 7), stride=1,\n",
        "                      padding_mode='reflect'),\n",
        "            nn.BatchNorm2d(64),\n",
        "            nn.ReLU(inplace=True)\n",
        "        )\n",
        "\n",
        "    # TODO(diegoalejogm): Add skip layer connections.\n",
        "    def forward(self, x):\n",
        "        x = self.conv_0(x)\n",
        "        x = self.conv_1(x)\n",
        "        x = self.conv_2(x)\n",
        "        x = self.res_3(x)\n",
        "        x = self.res_4(x)\n",
        "        x = self.res_5(x)\n",
        "        x = self.res_6(x)\n",
        "        x = self.res_7(x)\n",
        "        x = self.res_8(x)\n",
        "        x = self.ups_9(x)\n",
        "        x = self.ups_10(x)\n",
        "        x = self.conv_11(x)\n",
        "        return x\n",
        ""
      ],
      "execution_count": null,
      "outputs": []
    },
    {
      "cell_type": "code",
      "metadata": {
        "id": "wmBEj-nDN7Xq"
      },
      "source": [
        "g = GeneratorNet()"
      ],
      "execution_count": null,
      "outputs": []
    },
    {
      "cell_type": "code",
      "metadata": {
        "id": "tudMTqEPN7Xw"
      },
      "source": [],
      "execution_count": null,
      "outputs": []
    }
  ]
}