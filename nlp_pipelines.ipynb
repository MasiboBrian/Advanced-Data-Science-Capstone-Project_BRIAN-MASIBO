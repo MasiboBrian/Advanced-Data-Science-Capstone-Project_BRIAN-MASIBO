{
  "nbformat": 4,
  "nbformat_minor": 0,
  "metadata": {
    "kernelspec": {
      "display_name": "Python 3",
      "language": "python",
      "name": "python3"
    },
    "language_info": {
      "codemirror_mode": {
        "name": "ipython",
        "version": 3
      },
      "file_extension": ".py",
      "mimetype": "text/x-python",
      "name": "python",
      "nbconvert_exporter": "python",
      "pygments_lexer": "ipython3",
      "version": "3.8.3"
    },
    "colab": {
      "name": "nlp_pipelines.ipynb",
      "provenance": [],
      "include_colab_link": true
    }
  },
  "cells": [
    {
      "cell_type": "markdown",
      "metadata": {
        "id": "view-in-github",
        "colab_type": "text"
      },
      "source": [
        "<a href=\"https://colab.research.google.com/github/MasiboBrian/Advanced-Data-Science-Capstone-Project_BRIAN-MASIBO/blob/master/nlp_pipelines.ipynb\" target=\"_parent\"><img src=\"https://colab.research.google.com/assets/colab-badge.svg\" alt=\"Open In Colab\"/></a>"
      ]
    },
    {
      "cell_type": "markdown",
      "metadata": {
        "id": "RKPS3kBVVNSo"
      },
      "source": [
        "### Business Context"
      ]
    },
    {
      "cell_type": "markdown",
      "metadata": {
        "id": "JOvLhnBjVNSt"
      },
      "source": [
        "To build text classificaton model using a dataset which contains what corporations actually talk about on social media. The statements were labelled as into following categories - `information` (objective statements about the company or it's activities), `dialog` (replies to users, etc.), or `action` (messages that ask for votes or ask users to click on links, etc.). Our aim is to build a model to automatically categorize the text into their respective categories. You can download the dataset from [here](https://data.world/crowdflower/corporate-messaging)"
      ]
    },
    {
      "cell_type": "markdown",
      "metadata": {
        "id": "NbgIcQMSVNSu"
      },
      "source": [
        "### Task 1: Understanding and loading the dataset"
      ]
    },
    {
      "cell_type": "code",
      "metadata": {
        "id": "B2yaatWZVNSu"
      },
      "source": [
        "# load required libraries\n",
        "import pandas as pd\n",
        "import numpy as np\n",
        "import seaborn as sns\n",
        "import matplotlib.pyplot as plt\n"
      ],
      "execution_count": null,
      "outputs": []
    },
    {
      "cell_type": "code",
      "metadata": {
        "id": "TWNPG0IOVNSv"
      },
      "source": [
        "# load the dataset\n",
        "\n",
        "data = pd.read_csv('corporate_messaging_dfe.csv')"
      ],
      "execution_count": null,
      "outputs": []
    },
    {
      "cell_type": "code",
      "metadata": {
        "id": "mGHCXOVRVNSw",
        "outputId": "ccb3ab61-fe85-46c4-c931-6e856da3883e"
      },
      "source": [
        "# see head of the dataset\n",
        "\n",
        "data.head()"
      ],
      "execution_count": null,
      "outputs": [
        {
          "output_type": "execute_result",
          "data": {
            "text/html": [
              "<div>\n",
              "<style scoped>\n",
              "    .dataframe tbody tr th:only-of-type {\n",
              "        vertical-align: middle;\n",
              "    }\n",
              "\n",
              "    .dataframe tbody tr th {\n",
              "        vertical-align: top;\n",
              "    }\n",
              "\n",
              "    .dataframe thead th {\n",
              "        text-align: right;\n",
              "    }\n",
              "</style>\n",
              "<table border=\"1\" class=\"dataframe\">\n",
              "  <thead>\n",
              "    <tr style=\"text-align: right;\">\n",
              "      <th></th>\n",
              "      <th>unit_id</th>\n",
              "      <th>golden</th>\n",
              "      <th>unit_state</th>\n",
              "      <th>trusted_judgments</th>\n",
              "      <th>last_judgment_at</th>\n",
              "      <th>category</th>\n",
              "      <th>category_confidence</th>\n",
              "      <th>category_gold</th>\n",
              "      <th>id</th>\n",
              "      <th>screenname</th>\n",
              "      <th>text</th>\n",
              "    </tr>\n",
              "  </thead>\n",
              "  <tbody>\n",
              "    <tr>\n",
              "      <th>0</th>\n",
              "      <td>662822308</td>\n",
              "      <td>False</td>\n",
              "      <td>finalized</td>\n",
              "      <td>3</td>\n",
              "      <td>2015-02-18T04:31:00</td>\n",
              "      <td>Information</td>\n",
              "      <td>1.0</td>\n",
              "      <td>NaN</td>\n",
              "      <td>436528000000000000</td>\n",
              "      <td>Barclays</td>\n",
              "      <td>Barclays CEO stresses the importance of regula...</td>\n",
              "    </tr>\n",
              "    <tr>\n",
              "      <th>1</th>\n",
              "      <td>662822309</td>\n",
              "      <td>False</td>\n",
              "      <td>finalized</td>\n",
              "      <td>3</td>\n",
              "      <td>2015-02-18T13:55:00</td>\n",
              "      <td>Information</td>\n",
              "      <td>1.0</td>\n",
              "      <td>NaN</td>\n",
              "      <td>386013000000000000</td>\n",
              "      <td>Barclays</td>\n",
              "      <td>Barclays announces result of Rights Issue http...</td>\n",
              "    </tr>\n",
              "    <tr>\n",
              "      <th>2</th>\n",
              "      <td>662822310</td>\n",
              "      <td>False</td>\n",
              "      <td>finalized</td>\n",
              "      <td>3</td>\n",
              "      <td>2015-02-18T08:43:00</td>\n",
              "      <td>Information</td>\n",
              "      <td>1.0</td>\n",
              "      <td>NaN</td>\n",
              "      <td>379580000000000000</td>\n",
              "      <td>Barclays</td>\n",
              "      <td>Barclays publishes its prospectus for its �5.8...</td>\n",
              "    </tr>\n",
              "    <tr>\n",
              "      <th>3</th>\n",
              "      <td>662822311</td>\n",
              "      <td>False</td>\n",
              "      <td>finalized</td>\n",
              "      <td>3</td>\n",
              "      <td>2015-02-18T09:13:00</td>\n",
              "      <td>Information</td>\n",
              "      <td>1.0</td>\n",
              "      <td>NaN</td>\n",
              "      <td>367530000000000000</td>\n",
              "      <td>Barclays</td>\n",
              "      <td>Barclays Group Finance Director Chris Lucas is...</td>\n",
              "    </tr>\n",
              "    <tr>\n",
              "      <th>4</th>\n",
              "      <td>662822312</td>\n",
              "      <td>False</td>\n",
              "      <td>finalized</td>\n",
              "      <td>3</td>\n",
              "      <td>2015-02-18T06:48:00</td>\n",
              "      <td>Information</td>\n",
              "      <td>1.0</td>\n",
              "      <td>NaN</td>\n",
              "      <td>360385000000000000</td>\n",
              "      <td>Barclays</td>\n",
              "      <td>Barclays announces that Irene McDermott Brown ...</td>\n",
              "    </tr>\n",
              "  </tbody>\n",
              "</table>\n",
              "</div>"
            ],
            "text/plain": [
              "     unit_id  golden unit_state  trusted_judgments     last_judgment_at  \\\n",
              "0  662822308   False  finalized                  3  2015-02-18T04:31:00   \n",
              "1  662822309   False  finalized                  3  2015-02-18T13:55:00   \n",
              "2  662822310   False  finalized                  3  2015-02-18T08:43:00   \n",
              "3  662822311   False  finalized                  3  2015-02-18T09:13:00   \n",
              "4  662822312   False  finalized                  3  2015-02-18T06:48:00   \n",
              "\n",
              "      category  category_confidence category_gold                  id  \\\n",
              "0  Information                  1.0           NaN  436528000000000000   \n",
              "1  Information                  1.0           NaN  386013000000000000   \n",
              "2  Information                  1.0           NaN  379580000000000000   \n",
              "3  Information                  1.0           NaN  367530000000000000   \n",
              "4  Information                  1.0           NaN  360385000000000000   \n",
              "\n",
              "  screenname                                               text  \n",
              "0   Barclays  Barclays CEO stresses the importance of regula...  \n",
              "1   Barclays  Barclays announces result of Rights Issue http...  \n",
              "2   Barclays  Barclays publishes its prospectus for its �5.8...  \n",
              "3   Barclays  Barclays Group Finance Director Chris Lucas is...  \n",
              "4   Barclays  Barclays announces that Irene McDermott Brown ...  "
            ]
          },
          "metadata": {
            "tags": []
          },
          "execution_count": 40
        }
      ]
    },
    {
      "cell_type": "code",
      "metadata": {
        "id": "BdecdhBTVNSx",
        "outputId": "0a64bc9b-fbdb-48f8-d4e9-cf6a640e4ecc"
      },
      "source": [
        "# observe shape of the dataset\n",
        "\n",
        "data.shape"
      ],
      "execution_count": null,
      "outputs": [
        {
          "output_type": "execute_result",
          "data": {
            "text/plain": [
              "(3118, 11)"
            ]
          },
          "metadata": {
            "tags": []
          },
          "execution_count": 41
        }
      ]
    },
    {
      "cell_type": "code",
      "metadata": {
        "id": "GRVEEaR7VNS0",
        "outputId": "fb0eb111-e008-40e9-e6d5-24d0cb9288c7"
      },
      "source": [
        "# check distribution of target column i.e. category\n",
        "data['category'].value_counts()\n"
      ],
      "execution_count": null,
      "outputs": [
        {
          "output_type": "execute_result",
          "data": {
            "text/plain": [
              "Information    2129\n",
              "Action          724\n",
              "Dialogue        226\n",
              "Exclude          39\n",
              "Name: category, dtype: int64"
            ]
          },
          "metadata": {
            "tags": []
          },
          "execution_count": 42
        }
      ]
    },
    {
      "cell_type": "code",
      "metadata": {
        "id": "CYVlH_glVNS1",
        "outputId": "57f10e67-7d36-4876-f458-6ac3e96cb337"
      },
      "source": [
        "# check distribution of the column - category_confidence\n",
        "\n",
        "data['category_confidence'].value_counts()"
      ],
      "execution_count": null,
      "outputs": [
        {
          "output_type": "execute_result",
          "data": {
            "text/plain": [
              "1.0000    2430\n",
              "0.6614      35\n",
              "0.6643      33\n",
              "0.6747      32\n",
              "0.6775      29\n",
              "          ... \n",
              "0.8547       1\n",
              "0.6641       1\n",
              "0.8578       1\n",
              "0.9089       1\n",
              "0.8245       1\n",
              "Name: category_confidence, Length: 194, dtype: int64"
            ]
          },
          "metadata": {
            "tags": []
          },
          "execution_count": 43
        }
      ]
    },
    {
      "cell_type": "code",
      "metadata": {
        "id": "GTK1DSnLVNS2"
      },
      "source": [
        "# remove those observations where category_confidence < 1 and category = Exclude\n",
        "\n",
        "data = data[(data['category_confidence']==1) & (data['category'] != 'Exclude')]"
      ],
      "execution_count": null,
      "outputs": []
    },
    {
      "cell_type": "code",
      "metadata": {
        "id": "bV9h2yKUVNS2"
      },
      "source": [
        "# extract features i.e the column - text and target i.e the column - category\n",
        "\n",
        "features = data['text']\n",
        "target = data['category']"
      ],
      "execution_count": null,
      "outputs": []
    },
    {
      "cell_type": "markdown",
      "metadata": {
        "id": "Bkrkj4CZVNS4"
      },
      "source": [
        "### Task 2: Text preprocessing"
      ]
    },
    {
      "cell_type": "code",
      "metadata": {
        "id": "OASiXUSYVNS4",
        "outputId": "2b8572c9-67a8-43ee-f390-c7a293154c4b"
      },
      "source": [
        "# let's observe a text in the dataset, extract the first text\n",
        "\n",
        "features[0]"
      ],
      "execution_count": null,
      "outputs": [
        {
          "output_type": "execute_result",
          "data": {
            "text/plain": [
              "'Barclays CEO stresses the importance of regulatory and cultural reform in financial services at Brussels conference  http://t.co/Ge9Lp7hpyG'"
            ]
          },
          "metadata": {
            "tags": []
          },
          "execution_count": 46
        }
      ]
    },
    {
      "cell_type": "code",
      "metadata": {
        "id": "H49wdRaCVNS5",
        "outputId": "b505fe52-c4e8-4616-b11e-655bc9302f91"
      },
      "source": [
        "# now extract the third text from this dataset\n",
        "\n",
        "features[2]"
      ],
      "execution_count": null,
      "outputs": [
        {
          "output_type": "execute_result",
          "data": {
            "text/plain": [
              "'Barclays publishes its prospectus for its �5.8bn Rights Issue: http://t.co/YZk24iE8G6'"
            ]
          },
          "metadata": {
            "tags": []
          },
          "execution_count": 47
        }
      ]
    },
    {
      "cell_type": "markdown",
      "metadata": {
        "id": "TG5D4jpnVNS5"
      },
      "source": [
        "We will do the below pre-processing tasks on the text \n",
        "- tokenizing the sentences\n",
        "- replace the urls with a placeholder\n",
        "- removing non ascii characters\n",
        "- text normalizing using lemmatization"
      ]
    },
    {
      "cell_type": "code",
      "metadata": {
        "id": "lPeOb62bVNS6",
        "outputId": "baecf15a-8c65-4be9-bb4a-dc975a7bf3e2"
      },
      "source": [
        "# import re library for regular expressions\n",
        "\n",
        "import re\n",
        "# import nltk library\n",
        "\n",
        "import nltk\n",
        "nltk.download('punkt')\n",
        "# import stopwords from nltk library\n",
        "from nltk.corpus import stopwords\n",
        "\n",
        "# download the stopwords and wordnet corpus\n",
        "nltk.download('stopwords')\n",
        "nltk.download('wordnet')\n",
        "\n",
        "\n",
        "# extract the english stopwords and save it to a variable\n",
        "stopword = stopwords.words('english')\n",
        "\n",
        "# import word_tokenize from nltk library\n",
        "from nltk.tokenize import word_tokenize\n",
        "\n",
        "# import WordNetLemmatizer from nltk library\n",
        "from nltk.stem import WordNetLemmatizer\n",
        "\n",
        "# write a regular expression to identify urls in text\n",
        "url_regex = r'http[s]?://(?:[a-zA-Z]|[0-9]|[$-_@.&+]|[!*\\(\\),]|(?:%[0-9a-fA-F][0-9a-fA-F]))+'\n",
        "\n",
        "# write a regular expression to identify non-ascii characters in text\n",
        "non_ascii_regex = r'[^\\x00-\\x7F]+'\n",
        "\n",
        "# write a function to tokenize text after performing preprocessing \n",
        "def tokenize(text):\n",
        "    \n",
        "    # use library re to replace urls by token - urlplaceholder\n",
        "    text = re.sub(url_regex, 'urlplaceholder', text)\n",
        "    \n",
        "    # use library re to replace non ascii characters by a space\n",
        "    text = re.sub(non_ascii_regex, ' ', text)  \n",
        "\n",
        "    # use word_tokenize to tokenize the sentences\n",
        "    tokens = word_tokenize(text)\n",
        "    \n",
        "    # instantiate an object of class WordNetLemmatizer\n",
        "    lemmatizer = WordNetLemmatizer()\n",
        "\n",
        "    # use a list comprehension to lemmatize the tokens and remove the the stopwords\n",
        "    clean_tokens = [lemmatizer.lemmatize(word)for word in tokens if word not in stopword]\n",
        "\n",
        "    # return the tokens\n",
        "    return clean_tokens"
      ],
      "execution_count": null,
      "outputs": [
        {
          "output_type": "stream",
          "text": [
            "[nltk_data] Downloading package punkt to\n",
            "[nltk_data]     C:\\Users\\Administrator\\AppData\\Roaming\\nltk_data...\n",
            "[nltk_data]   Package punkt is already up-to-date!\n",
            "[nltk_data] Downloading package stopwords to\n",
            "[nltk_data]     C:\\Users\\Administrator\\AppData\\Roaming\\nltk_data...\n",
            "[nltk_data]   Package stopwords is already up-to-date!\n",
            "[nltk_data] Downloading package wordnet to\n",
            "[nltk_data]     C:\\Users\\Administrator\\AppData\\Roaming\\nltk_data...\n",
            "[nltk_data]   Package wordnet is already up-to-date!\n"
          ],
          "name": "stderr"
        }
      ]
    },
    {
      "cell_type": "markdown",
      "metadata": {
        "id": "IY9bPPARVNS6"
      },
      "source": [
        "### Task 3: EDA"
      ]
    },
    {
      "cell_type": "markdown",
      "metadata": {
        "id": "gUBXcek_VNS6"
      },
      "source": [
        "In this task, we will do exploratory data analysis to check if there is any new feature that we can generate based on the existing text that we have in the dataset"
      ]
    },
    {
      "cell_type": "markdown",
      "metadata": {
        "id": "lAhlRzWyVNS7"
      },
      "source": [
        "**Hypothesis 1:** The length of the text in each category might be different from each other\n",
        "<br>**Hypothesis 2:** The total number of URLs that are present in text might be different in each category"
      ]
    },
    {
      "cell_type": "code",
      "metadata": {
        "id": "U73H_fr9VNS7",
        "outputId": "33f1345c-7ea0-47c0-fee0-b53fdad069b0"
      },
      "source": [
        "# create a new column in the original dataset - 'length' to capture length of each text\n",
        "data['length'] = data['text'].apply(lambda x: len(word_tokenize(x)))\n",
        "\n",
        "# use seaborn boxplot to visualize the pattern in length for each category\n",
        "fig = plt.figure(figsize = (16,8))\n",
        "sns.boxplot(x ='category', y= 'length', data=data)"
      ],
      "execution_count": null,
      "outputs": [
        {
          "output_type": "execute_result",
          "data": {
            "text/plain": [
              "<matplotlib.axes._subplots.AxesSubplot at 0x2691aa83b20>"
            ]
          },
          "metadata": {
            "tags": []
          },
          "execution_count": 49
        },
        {
          "output_type": "display_data",
          "data": {
            "image/png": "[encoded data removed]",
            "text/plain": [
              "<Figure size 1152x576 with 1 Axes>"
            ]
          },
          "metadata": {
            "tags": [],
            "needs_background": "light"
          }
        }
      ]
    },
    {
      "cell_type": "code",
      "metadata": {
        "id": "E3sMzbjtVNS7",
        "outputId": "43fcfef4-ed58-4246-b101-2692a0356c77"
      },
      "source": [
        "# create a new column in the original dataset - 'url_count' to capture total count of urls present in each text\n",
        "data['url_count'] = data['text'].apply(lambda x: len(re.findall(url_regex, x)))\n",
        "\n",
        "# use pandas crosstab to see the distibution of different url counts in each category\n",
        "pd.crosstab(data['category'], data['url_count'], normalize=True)"
      ],
      "execution_count": null,
      "outputs": [
        {
          "output_type": "execute_result",
          "data": {
            "text/html": [
              "<div>\n",
              "<style scoped>\n",
              "    .dataframe tbody tr th:only-of-type {\n",
              "        vertical-align: middle;\n",
              "    }\n",
              "\n",
              "    .dataframe tbody tr th {\n",
              "        vertical-align: top;\n",
              "    }\n",
              "\n",
              "    .dataframe thead th {\n",
              "        text-align: right;\n",
              "    }\n",
              "</style>\n",
              "<table border=\"1\" class=\"dataframe\">\n",
              "  <thead>\n",
              "    <tr style=\"text-align: right;\">\n",
              "      <th>url_count</th>\n",
              "      <th>0</th>\n",
              "      <th>1</th>\n",
              "      <th>2</th>\n",
              "    </tr>\n",
              "    <tr>\n",
              "      <th>category</th>\n",
              "      <th></th>\n",
              "      <th></th>\n",
              "      <th></th>\n",
              "    </tr>\n",
              "  </thead>\n",
              "  <tbody>\n",
              "    <tr>\n",
              "      <th>Action</th>\n",
              "      <td>0.014565</td>\n",
              "      <td>0.166042</td>\n",
              "      <td>0.009155</td>\n",
              "    </tr>\n",
              "    <tr>\n",
              "      <th>Dialogue</th>\n",
              "      <td>0.032876</td>\n",
              "      <td>0.018727</td>\n",
              "      <td>0.000000</td>\n",
              "    </tr>\n",
              "    <tr>\n",
              "      <th>Information</th>\n",
              "      <td>0.205576</td>\n",
              "      <td>0.533916</td>\n",
              "      <td>0.019143</td>\n",
              "    </tr>\n",
              "  </tbody>\n",
              "</table>\n",
              "</div>"
            ],
            "text/plain": [
              "url_count           0         1         2\n",
              "category                                 \n",
              "Action       0.014565  0.166042  0.009155\n",
              "Dialogue     0.032876  0.018727  0.000000\n",
              "Information  0.205576  0.533916  0.019143"
            ]
          },
          "metadata": {
            "tags": []
          },
          "execution_count": 50
        }
      ]
    },
    {
      "cell_type": "markdown",
      "metadata": {
        "id": "YVJGspVlVNS8"
      },
      "source": [
        "### Task 4: Creating custom transformers"
      ]
    },
    {
      "cell_type": "markdown",
      "metadata": {
        "id": "fGBasGN6VNS8"
      },
      "source": [
        "An estimator is any object that learns from data, whether it's a classification, regression, or clustering algorithm, or a transformer that extracts or filters useful features from raw data. Since estimators learn from data, they each must have a `fit` method that takes a dataset."
      ]
    },
    {
      "cell_type": "markdown",
      "metadata": {
        "id": "-Abw9iE0VNS8"
      },
      "source": [
        "There are two kinds of estimators - `Transformer Estimators` i.e. transformers in short and `Predictor Estimators` i.e. predictor in short. In transformers we also need to have another method `transform` and predictors need to have another method `predict`."
      ]
    },
    {
      "cell_type": "markdown",
      "metadata": {
        "id": "0YlmR_CBVNS9"
      },
      "source": [
        "Some examples of `transformers` are - CountVectorizer, TfidfVectorizer, MinMaxScaler, StandardScaler etc"
      ]
    },
    {
      "cell_type": "markdown",
      "metadata": {
        "id": "Zkad91hVVNS9"
      },
      "source": [
        "Some examples of `predictors` are - LinearRegression, LogisticRegression, RandomForestClassifier etc"
      ]
    },
    {
      "cell_type": "code",
      "metadata": {
        "id": "eTVlK1oRVNS9"
      },
      "source": [
        "# create a custom transformer LengthExtractor to extract length of each sentences\n",
        "from sklearn.base import BaseEstimator, TransformerMixin\n",
        "class LengthExtractor(BaseEstimator, TransformerMixin):\n",
        "    \n",
        "    def compute_length(self, text):\n",
        "        sentence_list = word_tokenize(text)\n",
        "        return len(sentence_list)\n",
        "    \n",
        "    def fit(self, x, y=None):\n",
        "        return self\n",
        "    \n",
        "    def transform(self, X):\n",
        "        X_length = pd.Series(X).apply(self.compute_length)\n",
        "        return pd.DataFrame(X_length)\n"
      ],
      "execution_count": null,
      "outputs": []
    },
    {
      "cell_type": "code",
      "metadata": {
        "id": "h6Gq3NAYVNS9"
      },
      "source": [
        "# create a custom transformer UrlCounter to count number of urls in each sentences\n",
        "\n",
        "class UrlCounter(BaseEstimator, TransformerMixin):\n",
        "    \n",
        "    def count_url(self, text):\n",
        "        urls = re.findall(url_regex, text)\n",
        "        return len(urls)\n",
        "    \n",
        "    def fit(self, x, y=None):\n",
        "        return self\n",
        "    \n",
        "    def transform(self, X):\n",
        "        url_count = pd.Series(X).apply(self.count_url)\n",
        "        return pd.DataFrame(url_count)"
      ],
      "execution_count": null,
      "outputs": []
    },
    {
      "cell_type": "markdown",
      "metadata": {
        "id": "_SBtyfm5VNS-"
      },
      "source": [
        "### Task 5: Model Building using FeatureUnion"
      ]
    },
    {
      "cell_type": "markdown",
      "metadata": {
        "id": "VAdHHF1QVNS-"
      },
      "source": [
        "Feature union applies a list of transformer objects in parallel to the input data, then concatenates the results. This is useful to combine several feature extraction mechanisms into a single transformer."
      ]
    },
    {
      "cell_type": "markdown",
      "metadata": {
        "id": "v3n4tbZ9VNS-"
      },
      "source": [
        "![alt text](pipeline.png \"nlp pipeline\")"
      ]
    },
    {
      "cell_type": "code",
      "metadata": {
        "id": "lf0BQeFqVNS-"
      },
      "source": [
        "# import RandomForestClassifier from sklearn\n",
        "from sklearn.ensemble import RandomForestClassifier\n",
        "\n",
        "# import Pipeline and FeatureUnion from sklearn\n",
        "from sklearn.pipeline import Pipeline, FeatureUnion\n",
        "\n",
        "# import CountVectorizer, TfidfTransformer from sklearn\n",
        "from sklearn.feature_extraction.text import CountVectorizer, TfidfTransformer"
      ],
      "execution_count": null,
      "outputs": []
    },
    {
      "cell_type": "code",
      "metadata": {
        "id": "7dHmYGUUVNS-"
      },
      "source": [
        "# create an instance of Pipeline class\n",
        "pipeline = Pipeline([\n",
        "    \n",
        "        # create a FeatureUnion pipeline\n",
        "        ('features', FeatureUnion([\n",
        "\n",
        "            # add a pipeline element to extract features using CountVectorizer and TfidfTransformer\n",
        "            ('text_pipeline', Pipeline([\n",
        "                ('vect', CountVectorizer(tokenizer=tokenize)),\n",
        "                ('tfidf', TfidfTransformer())\n",
        "            ])),\n",
        "            # add the pipeline element - LengthExtractor to extract lenght of each sentence as feature\n",
        "            ('text_len', LengthExtractor()),\n",
        "            \n",
        "            # add another pipeline element - UrlCounter to extract url counts in each sentence as feature\n",
        "            ('url_count', UrlCounter())\n",
        "        ])),\n",
        "        # use the predictor estimator RandomForestClassifier to train the model\n",
        "        ('clf', RandomForestClassifier())\n",
        "])\n"
      ],
      "execution_count": null,
      "outputs": []
    },
    {
      "cell_type": "code",
      "metadata": {
        "id": "s4NTqmTVVNS-"
      },
      "source": [
        "# split the data into train and test sets\n",
        "from sklearn.model_selection import train_test_split\n",
        "\n",
        "X_train, X_test, y_train, y_test = train_test_split(features, target, test_size=0.2, random_state=42)\n"
      ],
      "execution_count": null,
      "outputs": []
    },
    {
      "cell_type": "code",
      "metadata": {
        "id": "YC90mb8uVNS_",
        "outputId": "c4c69cd4-9277-441f-b12f-ee670aaa1e50"
      },
      "source": [
        "# use pipeline.fit method to train the model\n",
        "\n",
        "pipeline.fit(X_train, y_train)"
      ],
      "execution_count": null,
      "outputs": [
        {
          "output_type": "execute_result",
          "data": {
            "text/plain": [
              "Pipeline(steps=[('features',\n",
              "                 FeatureUnion(transformer_list=[('text_pipeline',\n",
              "                                                 Pipeline(steps=[('vect',\n",
              "                                                                  CountVectorizer(tokenizer=<function tokenize at 0x000002691F6D7C10>)),\n",
              "                                                                 ('tfidf',\n",
              "                                                                  TfidfTransformer())])),\n",
              "                                                ('text_len', LengthExtractor()),\n",
              "                                                ('url_count', UrlCounter())])),\n",
              "                ('clf', RandomForestClassifier())])"
            ]
          },
          "metadata": {
            "tags": []
          },
          "execution_count": 69
        }
      ]
    },
    {
      "cell_type": "markdown",
      "metadata": {
        "id": "UMC-i44RVNS_"
      },
      "source": [
        "### Task 6: Model Evaluation"
      ]
    },
    {
      "cell_type": "markdown",
      "metadata": {
        "id": "b9uiM7WSVNS_"
      },
      "source": [
        "Now, once the model is trained, in this task we will evaluate how the model behaves in the test data"
      ]
    },
    {
      "cell_type": "code",
      "metadata": {
        "id": "KroZi-KPVNS_"
      },
      "source": [
        "# use the method pipeline.predict on X_test data to predict the labels\n",
        "y_pred = pipeline.predict(X_test)\n"
      ],
      "execution_count": null,
      "outputs": []
    },
    {
      "cell_type": "code",
      "metadata": {
        "id": "iHMBFGPsVNS_",
        "outputId": "0119de55-d2c7-49aa-96c7-a5e751f8e396"
      },
      "source": [
        "# create the confustion matrix, import confusion_matrix from sklearn\n",
        "from sklearn.metrics import confusion_matrix\n",
        "\n",
        "# count the number of labels\n",
        "labels = np.unique(y_pred)\n",
        "\n",
        "# use sns.heatmap on top of confusion_matrix to show the confusuin matrix\n",
        "sns.heatmap(confusion_matrix(y_test, y_pred, labels = labels), annot=True, fmt='.0f')"
      ],
      "execution_count": null,
      "outputs": [
        {
          "output_type": "execute_result",
          "data": {
            "text/plain": [
              "<matplotlib.axes._subplots.AxesSubplot at 0x2691fc6f190>"
            ]
          },
          "metadata": {
            "tags": []
          },
          "execution_count": 73
        },
        {
          "output_type": "display_data",
          "data": {
            "image/png": "[encoded data removed]",
            "text/plain": [
              "<Figure size 432x288 with 2 Axes>"
            ]
          },
          "metadata": {
            "tags": [],
            "needs_background": "light"
          }
        }
      ]
    },
    {
      "cell_type": "code",
      "metadata": {
        "id": "WqpdObonVNTA",
        "outputId": "486e585e-dd9e-4d25-9242-50b1fa80f089"
      },
      "source": [
        "# create the classification report, import classification_report from sklearn\n",
        "from sklearn.metrics import classification_report\n",
        "\n",
        "# apply the function classification_report on y_test, y_pred and print it\n",
        "print(classification_report(y_test, y_pred))"
      ],
      "execution_count": null,
      "outputs": [
        {
          "output_type": "stream",
          "text": [
            "              precision    recall  f1-score   support\n",
            "\n",
            "      Action       0.91      0.85      0.88        79\n",
            "    Dialogue       1.00      0.83      0.91        36\n",
            " Information       0.95      0.98      0.97       366\n",
            "\n",
            "    accuracy                           0.95       481\n",
            "   macro avg       0.95      0.89      0.92       481\n",
            "weighted avg       0.95      0.95      0.95       481\n",
            "\n"
          ],
          "name": "stdout"
        }
      ]
    },
    {
      "cell_type": "markdown",
      "metadata": {
        "id": "VRgBVxPXVNTA"
      },
      "source": [
        "### Task 7: Conclusion and next steps"
      ]
    },
    {
      "cell_type": "markdown",
      "metadata": {
        "id": "-Yjm1rg2VNTA"
      },
      "source": [
        "How to improve this model - \n",
        "\n",
        "- hyper parameter tuning\n",
        "- more feature engineering\n",
        "- feature selection\n",
        "- trying different predictors"
      ]
    }
  ]
}